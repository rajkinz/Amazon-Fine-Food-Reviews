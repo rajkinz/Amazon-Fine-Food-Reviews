{
  "nbformat": 4,
  "nbformat_minor": 0,
  "metadata": {
    "colab": {
      "name": "LSTM_AmazonFineFood.ipynb",
      "version": "0.3.2",
      "provenance": []
    },
    "kernelspec": {
      "name": "python3",
      "display_name": "Python 3"
    },
    "accelerator": "GPU"
  },
  "cells": [
    {
      "cell_type": "markdown",
      "metadata": {
        "id": "xIf_HvI29IWY",
        "colab_type": "text"
      },
      "source": [
        "### Importing necessary libraries."
      ]
    },
    {
      "cell_type": "code",
      "metadata": {
        "id": "6g7NMJJt4RX4",
        "colab_type": "code",
        "outputId": "b0a0617b-3de8-4c0b-9baf-6ab547713cc4",
        "colab": {
          "base_uri": "https://localhost:8080/",
          "height": 146
        }
      },
      "source": [
        "from google.colab import drive\n",
        "drive.mount('/content/drive')\n",
        "\n",
        "import numpy as np\n",
        "import pandas as pd\n",
        "from keras.models import Sequential\n",
        "from keras.layers import Dense\n",
        "from keras.layers import LSTM\n",
        "from keras.layers import Dropout\n",
        "from keras.layers.embeddings import Embedding\n",
        "from keras.preprocessing import sequence"
      ],
      "execution_count": 1,
      "outputs": [
        {
          "output_type": "stream",
          "text": [
            "Go to this URL in a browser: https://accounts.google.com/o/oauth2/auth?client_id=947318989803-6bn6qk8qdgf4n4g3pfee6491hc0brc4i.apps.googleusercontent.com&redirect_uri=urn%3Aietf%3Awg%3Aoauth%3A2.0%3Aoob&scope=email%20https%3A%2F%2Fwww.googleapis.com%2Fauth%2Fdocs.test%20https%3A%2F%2Fwww.googleapis.com%2Fauth%2Fdrive%20https%3A%2F%2Fwww.googleapis.com%2Fauth%2Fdrive.photos.readonly%20https%3A%2F%2Fwww.googleapis.com%2Fauth%2Fpeopleapi.readonly&response_type=code\n",
            "\n",
            "Enter your authorization code:\n",
            "··········\n",
            "Mounted at /content/drive\n"
          ],
          "name": "stdout"
        },
        {
          "output_type": "stream",
          "text": [
            "Using TensorFlow backend.\n"
          ],
          "name": "stderr"
        }
      ]
    },
    {
      "cell_type": "markdown",
      "metadata": {
        "id": "ANwfdMMW9ULs",
        "colab_type": "text"
      },
      "source": [
        "### Loading already prepared corpus from google drive."
      ]
    },
    {
      "cell_type": "code",
      "metadata": {
        "id": "rR_fUBk7_HA1",
        "colab_type": "code",
        "outputId": "446cdce1-e254-4d21-e53b-ff57ef1c0f30",
        "colab": {
          "base_uri": "https://localhost:8080/",
          "height": 271
        }
      },
      "source": [
        "df = pd.read_csv(\"/content/drive/My Drive/Colab Notebooks/Fine_Food_Review/corpus1.csv\")\n",
        "df1k = df.loc[0:99999,:]\n",
        "print(\"Shape of the dataframe to be worked on:- \",df1k.shape)\n",
        "print(df1k['Score'].value_counts())\n",
        "df1k.head(5)"
      ],
      "execution_count": 2,
      "outputs": [
        {
          "output_type": "stream",
          "text": [
            "Shape of the dataframe to be worked on:-  (100000, 3)\n",
            "1    87729\n",
            "0    12271\n",
            "Name: Score, dtype: int64\n"
          ],
          "name": "stdout"
        },
        {
          "output_type": "execute_result",
          "data": {
            "text/html": [
              "<div>\n",
              "<style scoped>\n",
              "    .dataframe tbody tr th:only-of-type {\n",
              "        vertical-align: middle;\n",
              "    }\n",
              "\n",
              "    .dataframe tbody tr th {\n",
              "        vertical-align: top;\n",
              "    }\n",
              "\n",
              "    .dataframe thead th {\n",
              "        text-align: right;\n",
              "    }\n",
              "</style>\n",
              "<table border=\"1\" class=\"dataframe\">\n",
              "  <thead>\n",
              "    <tr style=\"text-align: right;\">\n",
              "      <th></th>\n",
              "      <th>Text</th>\n",
              "      <th>Time</th>\n",
              "      <th>Score</th>\n",
              "    </tr>\n",
              "  </thead>\n",
              "  <tbody>\n",
              "    <tr>\n",
              "      <th>0</th>\n",
              "      <td>witti littl book make son laugh loud recit car...</td>\n",
              "      <td>939340800</td>\n",
              "      <td>1</td>\n",
              "    </tr>\n",
              "    <tr>\n",
              "      <th>1</th>\n",
              "      <td>rememb see show air televis year ago child sis...</td>\n",
              "      <td>940809600</td>\n",
              "      <td>1</td>\n",
              "    </tr>\n",
              "    <tr>\n",
              "      <th>2</th>\n",
              "      <td>beetlejuic well written movi everyth excel act...</td>\n",
              "      <td>944092800</td>\n",
              "      <td>1</td>\n",
              "    </tr>\n",
              "    <tr>\n",
              "      <th>3</th>\n",
              "      <td>twist rumplestiskin captur film star michael k...</td>\n",
              "      <td>944438400</td>\n",
              "      <td>1</td>\n",
              "    </tr>\n",
              "    <tr>\n",
              "      <th>4</th>\n",
              "      <td>beetlejuic excel funni movi keaton hilari wack...</td>\n",
              "      <td>946857600</td>\n",
              "      <td>1</td>\n",
              "    </tr>\n",
              "  </tbody>\n",
              "</table>\n",
              "</div>"
            ],
            "text/plain": [
              "                                                Text       Time  Score\n",
              "0  witti littl book make son laugh loud recit car...  939340800      1\n",
              "1  rememb see show air televis year ago child sis...  940809600      1\n",
              "2  beetlejuic well written movi everyth excel act...  944092800      1\n",
              "3  twist rumplestiskin captur film star michael k...  944438400      1\n",
              "4  beetlejuic excel funni movi keaton hilari wack...  946857600      1"
            ]
          },
          "metadata": {
            "tags": []
          },
          "execution_count": 2
        }
      ]
    },
    {
      "cell_type": "markdown",
      "metadata": {
        "id": "uSO0iG1HVlTu",
        "colab_type": "text"
      },
      "source": [
        "### Time based splitting into train and test data"
      ]
    },
    {
      "cell_type": "code",
      "metadata": {
        "id": "dJ40Rk4MMUnH",
        "colab_type": "code",
        "colab": {}
      },
      "source": [
        "#Time based splitting into train and test data\n",
        "from sklearn.model_selection import TimeSeriesSplit\n",
        "def timesplit(x,y):\n",
        "    ts = TimeSeriesSplit(n_splits = 4)\n",
        "    for train_index,test_index in ts.split(x):\n",
        "        x_train,x_test = x[train_index],x[test_index]\n",
        "        y_train,y_test = y[train_index],y[test_index]\n",
        "    return x_train,y_train,x_test,y_test\n",
        "\n",
        "x_train,y_train,x_test,y_test = timesplit(df1k[\"Text\"].values,df1k[\"Score\"].values)"
      ],
      "execution_count": 0,
      "outputs": []
    },
    {
      "cell_type": "markdown",
      "metadata": {
        "id": "KNTVWnGj9g5l",
        "colab_type": "text"
      },
      "source": [
        "### Preprocessing the text data"
      ]
    },
    {
      "cell_type": "code",
      "metadata": {
        "id": "QH550pkd6cog",
        "colab_type": "code",
        "outputId": "eace6d35-e8ad-4216-c782-3e0961ec010d",
        "colab": {
          "base_uri": "https://localhost:8080/",
          "height": 54
        }
      },
      "source": [
        "from keras.preprocessing.text import Tokenizer\n",
        "top_words = 20000\n",
        "t = Tokenizer(num_words=top_words)\n",
        "t.fit_on_texts(x_train)\n",
        "print(\"Vocabulary size:- \",len(t.word_counts))\n",
        "train_seq = t.texts_to_sequences(x_train)\n",
        "test_seq = t.texts_to_sequences(x_test)\n",
        "\n",
        "#Padding\n",
        "max_review_length = 256\n",
        "x_train = sequence.pad_sequences(train_seq, maxlen=max_review_length)\n",
        "x_test = sequence.pad_sequences(test_seq, maxlen=max_review_length)\n",
        "print(\"Shape of the sequences after padding:- \",x_train.shape)"
      ],
      "execution_count": 5,
      "outputs": [
        {
          "output_type": "stream",
          "text": [
            "Vocabulary size:-  34244\n",
            "Shape of the sequences after padding:-  (80000, 256)\n"
          ],
          "name": "stdout"
        }
      ]
    },
    {
      "cell_type": "code",
      "metadata": {
        "id": "7m52hY7iWaUq",
        "colab_type": "code",
        "outputId": "bc483d67-9c4e-4895-de4f-d3523ee23934",
        "colab": {
          "base_uri": "https://localhost:8080/",
          "height": 455
        }
      },
      "source": [
        "print(train_seq[1])\n",
        "print(x_train[1])"
      ],
      "execution_count": 6,
      "outputs": [
        {
          "output_type": "stream",
          "text": [
            "[494, 154, 731, 980, 5884, 41, 299, 850, 1110, 571, 70, 11802, 47, 3164, 117, 10, 2981, 886, 3602, 4155, 2013, 3107, 4558, 3602, 312, 115, 867, 75, 3900, 522, 886, 655, 3602, 610, 260]\n",
            "[    0     0     0     0     0     0     0     0     0     0     0     0\n",
            "     0     0     0     0     0     0     0     0     0     0     0     0\n",
            "     0     0     0     0     0     0     0     0     0     0     0     0\n",
            "     0     0     0     0     0     0     0     0     0     0     0     0\n",
            "     0     0     0     0     0     0     0     0     0     0     0     0\n",
            "     0     0     0     0     0     0     0     0     0     0     0     0\n",
            "     0     0     0     0     0     0     0     0     0     0     0     0\n",
            "     0     0     0     0     0     0     0     0     0     0     0     0\n",
            "     0     0     0     0     0     0     0     0     0     0     0     0\n",
            "     0     0     0     0     0     0     0     0     0     0     0     0\n",
            "     0     0     0     0     0     0     0     0     0     0     0     0\n",
            "     0     0     0     0     0     0     0     0     0     0     0     0\n",
            "     0     0     0     0     0     0     0     0     0     0     0     0\n",
            "     0     0     0     0     0     0     0     0     0     0     0     0\n",
            "     0     0     0     0     0     0     0     0     0     0     0     0\n",
            "     0     0     0     0     0     0     0     0     0     0     0     0\n",
            "     0     0     0     0     0     0     0     0     0     0     0     0\n",
            "     0     0     0     0     0     0     0     0     0     0     0     0\n",
            "     0     0     0     0     0   494   154   731   980  5884    41   299\n",
            "   850  1110   571    70 11802    47  3164   117    10  2981   886  3602\n",
            "  4155  2013  3107  4558  3602   312   115   867    75  3900   522   886\n",
            "   655  3602   610   260]\n"
          ],
          "name": "stdout"
        }
      ]
    },
    {
      "cell_type": "markdown",
      "metadata": {
        "id": "-Sev3mvX-w6_",
        "colab_type": "text"
      },
      "source": [
        "### Model 1: 1 layer of 15 LSTMs"
      ]
    },
    {
      "cell_type": "code",
      "metadata": {
        "id": "yc82qPq3aLpH",
        "colab_type": "code",
        "outputId": "6585b233-817a-4c13-b4fd-8fceeb271470",
        "colab": {
          "base_uri": "https://localhost:8080/",
          "height": 345
        }
      },
      "source": [
        "embedding_vecor_length = 16\n",
        "model = Sequential()\n",
        "model.add(Embedding(top_words, embedding_vecor_length, input_length=max_review_length))\n",
        "model.add(Dropout(0.3))\n",
        "model.add(LSTM(15))\n",
        "model.add(Dropout(0.3))\n",
        "model.add(Dense(1, activation='sigmoid'))\n",
        "print(model.summary())"
      ],
      "execution_count": 16,
      "outputs": [
        {
          "output_type": "stream",
          "text": [
            "_________________________________________________________________\n",
            "Layer (type)                 Output Shape              Param #   \n",
            "=================================================================\n",
            "embedding_3 (Embedding)      (None, 256, 16)           320000    \n",
            "_________________________________________________________________\n",
            "dropout_5 (Dropout)          (None, 256, 16)           0         \n",
            "_________________________________________________________________\n",
            "lstm_3 (LSTM)                (None, 15)                1920      \n",
            "_________________________________________________________________\n",
            "dropout_6 (Dropout)          (None, 15)                0         \n",
            "_________________________________________________________________\n",
            "dense_3 (Dense)              (None, 1)                 16        \n",
            "=================================================================\n",
            "Total params: 321,936\n",
            "Trainable params: 321,936\n",
            "Non-trainable params: 0\n",
            "_________________________________________________________________\n",
            "None\n"
          ],
          "name": "stdout"
        }
      ]
    },
    {
      "cell_type": "code",
      "metadata": {
        "id": "NoRli-_7OfUg",
        "colab_type": "code",
        "outputId": "93188a85-6af0-4ab8-d27a-fe5d9a7dc5c0",
        "colab": {
          "base_uri": "https://localhost:8080/",
          "height": 35
        }
      },
      "source": [
        "#Calculating class weights\n",
        "from sklearn.utils import class_weight\n",
        "class_weights = class_weight.compute_class_weight('balanced',\n",
        "                                                 np.unique(y_train),\n",
        "                                                 y_train)\n",
        "class_weights"
      ],
      "execution_count": 8,
      "outputs": [
        {
          "output_type": "execute_result",
          "data": {
            "text/plain": [
              "array([4.16970708, 0.56812533])"
            ]
          },
          "metadata": {
            "tags": []
          },
          "execution_count": 8
        }
      ]
    },
    {
      "cell_type": "code",
      "metadata": {
        "id": "P9UqXsEuasij",
        "colab_type": "code",
        "outputId": "d48e0a4e-39da-41a4-d437-2a1015fcb808",
        "colab": {
          "base_uri": "https://localhost:8080/",
          "height": 399
        }
      },
      "source": [
        "#Compiling and Fitting the model\n",
        "model.compile(loss='binary_crossentropy', optimizer='adam', metrics=['accuracy'])\n",
        "res = model.fit(x_train, y_train, epochs=10, batch_size=512, validation_data = (x_test,y_test),class_weight={0:4.16,1:0.57})"
      ],
      "execution_count": 17,
      "outputs": [
        {
          "output_type": "stream",
          "text": [
            "Train on 80000 samples, validate on 20000 samples\n",
            "Epoch 1/10\n",
            "80000/80000 [==============================] - 70s 872us/step - loss: 0.5644 - acc: 0.8189 - val_loss: 0.3767 - val_acc: 0.8337\n",
            "Epoch 2/10\n",
            "80000/80000 [==============================] - 69s 865us/step - loss: 0.3267 - acc: 0.8674 - val_loss: 0.3262 - val_acc: 0.8651\n",
            "Epoch 3/10\n",
            "80000/80000 [==============================] - 68s 856us/step - loss: 0.2731 - acc: 0.8916 - val_loss: 0.2849 - val_acc: 0.8812\n",
            "Epoch 4/10\n",
            "80000/80000 [==============================] - 69s 864us/step - loss: 0.2449 - acc: 0.9042 - val_loss: 0.2966 - val_acc: 0.8798\n",
            "Epoch 5/10\n",
            "80000/80000 [==============================] - 68s 854us/step - loss: 0.2288 - acc: 0.9102 - val_loss: 0.3016 - val_acc: 0.8829\n",
            "Epoch 6/10\n",
            "80000/80000 [==============================] - 69s 858us/step - loss: 0.2114 - acc: 0.9162 - val_loss: 0.3370 - val_acc: 0.8730\n",
            "Epoch 7/10\n",
            "80000/80000 [==============================] - 69s 860us/step - loss: 0.2008 - acc: 0.9192 - val_loss: 0.2646 - val_acc: 0.8955\n",
            "Epoch 8/10\n",
            "80000/80000 [==============================] - 70s 876us/step - loss: 0.1882 - acc: 0.9248 - val_loss: 0.2737 - val_acc: 0.8955\n",
            "Epoch 9/10\n",
            "80000/80000 [==============================] - 69s 861us/step - loss: 0.1816 - acc: 0.9283 - val_loss: 0.2864 - val_acc: 0.8930\n",
            "Epoch 10/10\n",
            "80000/80000 [==============================] - 69s 857us/step - loss: 0.1726 - acc: 0.9315 - val_loss: 0.2970 - val_acc: 0.8898\n"
          ],
          "name": "stdout"
        }
      ]
    },
    {
      "cell_type": "code",
      "metadata": {
        "id": "LgEo7X76Q2k0",
        "colab_type": "code",
        "colab": {}
      },
      "source": [
        "#Function to plot train and test loss\n",
        "import matplotlib.pyplot as plt\n",
        "import seaborn as sns\n",
        "def plt_dynamic(x, vy, ty):\n",
        "    sns.set_style('whitegrid')\n",
        "    plt.plot(x, vl, 'r', label=\"Validation Loss\")\n",
        "    plt.plot(x, tl, 'b', label=\"Train Loss\")\n",
        "    plt.xlabel(\"Epochs\")\n",
        "    plt.ylabel(\"Cross Entropy Loss\")\n",
        "    plt.legend()\n",
        "    plt.show()"
      ],
      "execution_count": 0,
      "outputs": []
    },
    {
      "cell_type": "code",
      "metadata": {
        "id": "uWT7Iue4SYDI",
        "colab_type": "code",
        "outputId": "96720f29-56be-410b-a34a-0a51c7cdd513",
        "colab": {
          "base_uri": "https://localhost:8080/",
          "height": 320
        }
      },
      "source": [
        "#Training and test loss vs n_epoch graph\n",
        "score = model.evaluate(x_test, y_test, verbose=0) \n",
        "print('Test loss:', score[0]) \n",
        "print('Test accuracy:', score[1])\n",
        "\n",
        "# list of epoch numbers\n",
        "x = list(range(1,11))\n",
        "\n",
        "vl = res.history['val_loss']\n",
        "tl = res.history['loss']\n",
        "plt_dynamic(x, vl, tl)"
      ],
      "execution_count": 19,
      "outputs": [
        {
          "output_type": "stream",
          "text": [
            "Test loss: 0.2970479115128517\n",
            "Test accuracy: 0.8898\n"
          ],
          "name": "stdout"
        },
        {
          "output_type": "display_data",
          "data": {
            "image/png": "[encoded data removed]",
            "text/plain": [
              "<Figure size 432x288 with 1 Axes>"
            ]
          },
          "metadata": {
            "tags": []
          }
        }
      ]
    },
    {
      "cell_type": "markdown",
      "metadata": {
        "id": "lKn7RCX2AAUR",
        "colab_type": "text"
      },
      "source": [
        "Model 2: 1 layer 0f 16 LSTMs and 2nd layer of 8 LSTMs"
      ]
    },
    {
      "cell_type": "code",
      "metadata": {
        "id": "QyqkC04f__TX",
        "colab_type": "code",
        "outputId": "680bdd5b-e5ad-4eba-dbf3-6c7a763e1f66",
        "colab": {
          "base_uri": "https://localhost:8080/",
          "height": 381
        }
      },
      "source": [
        "embedding_vecor_length = 16\n",
        "model = Sequential()\n",
        "model.add(Embedding(top_words, embedding_vecor_length, input_length=max_review_length))\n",
        "model.add(LSTM(16,return_sequences=True))\n",
        "model.add(Dropout(0.5))\n",
        "model.add(LSTM(8))\n",
        "model.add(Dropout(0.5))\n",
        "model.add(Dense(1, activation='sigmoid'))\n",
        "print(model.summary())"
      ],
      "execution_count": 26,
      "outputs": [
        {
          "output_type": "stream",
          "text": [
            "_________________________________________________________________\n",
            "Layer (type)                 Output Shape              Param #   \n",
            "=================================================================\n",
            "embedding_7 (Embedding)      (None, 256, 16)           320000    \n",
            "_________________________________________________________________\n",
            "lstm_9 (LSTM)                (None, 256, 16)           2112      \n",
            "_________________________________________________________________\n",
            "dropout_11 (Dropout)         (None, 256, 16)           0         \n",
            "_________________________________________________________________\n",
            "lstm_10 (LSTM)               (None, 8)                 800       \n",
            "_________________________________________________________________\n",
            "dropout_12 (Dropout)         (None, 8)                 0         \n",
            "_________________________________________________________________\n",
            "dense_6 (Dense)              (None, 1)                 9         \n",
            "=================================================================\n",
            "Total params: 322,921\n",
            "Trainable params: 322,921\n",
            "Non-trainable params: 0\n",
            "_________________________________________________________________\n",
            "None\n"
          ],
          "name": "stdout"
        }
      ]
    },
    {
      "cell_type": "code",
      "metadata": {
        "id": "fcCUGPB3jdpk",
        "colab_type": "code",
        "outputId": "fb338557-289d-4dd0-c0f2-56feeae4c0df",
        "colab": {
          "base_uri": "https://localhost:8080/",
          "height": 399
        }
      },
      "source": [
        "model.compile(loss='binary_crossentropy', optimizer='adam', metrics=['accuracy'])\n",
        "res = model.fit(x_train, y_train, epochs=10, batch_size=512,validation_data = (x_test,y_test),class_weight={0:4.16,1:0.57})"
      ],
      "execution_count": 27,
      "outputs": [
        {
          "output_type": "stream",
          "text": [
            "Train on 80000 samples, validate on 20000 samples\n",
            "Epoch 1/10\n",
            "80000/80000 [==============================] - 137s 2ms/step - loss: 0.5249 - acc: 0.7743 - val_loss: 0.3707 - val_acc: 0.8524\n",
            "Epoch 2/10\n",
            "80000/80000 [==============================] - 133s 2ms/step - loss: 0.3428 - acc: 0.8805 - val_loss: 0.3161 - val_acc: 0.8780\n",
            "Epoch 3/10\n",
            "80000/80000 [==============================] - 134s 2ms/step - loss: 0.2920 - acc: 0.8992 - val_loss: 0.3145 - val_acc: 0.8759\n",
            "Epoch 4/10\n",
            "80000/80000 [==============================] - 134s 2ms/step - loss: 0.2608 - acc: 0.9105 - val_loss: 0.2904 - val_acc: 0.8874\n",
            "Epoch 5/10\n",
            "80000/80000 [==============================] - 133s 2ms/step - loss: 0.2419 - acc: 0.9169 - val_loss: 0.3275 - val_acc: 0.8700\n",
            "Epoch 6/10\n",
            "80000/80000 [==============================] - 134s 2ms/step - loss: 0.2220 - acc: 0.9204 - val_loss: 0.3249 - val_acc: 0.8752\n",
            "Epoch 7/10\n",
            "80000/80000 [==============================] - 134s 2ms/step - loss: 0.2083 - acc: 0.9263 - val_loss: 0.2935 - val_acc: 0.8911\n",
            "Epoch 8/10\n",
            "80000/80000 [==============================] - 132s 2ms/step - loss: 0.1957 - acc: 0.9310 - val_loss: 0.3009 - val_acc: 0.8940\n",
            "Epoch 9/10\n",
            "80000/80000 [==============================] - 133s 2ms/step - loss: 0.1854 - acc: 0.9330 - val_loss: 0.3213 - val_acc: 0.8923\n",
            "Epoch 10/10\n",
            "80000/80000 [==============================] - 133s 2ms/step - loss: 0.1771 - acc: 0.9363 - val_loss: 0.3278 - val_acc: 0.8889\n"
          ],
          "name": "stdout"
        }
      ]
    },
    {
      "cell_type": "code",
      "metadata": {
        "id": "iYaCp_YncWPI",
        "colab_type": "code",
        "outputId": "f629af02-188b-4b25-d8dd-466054f6859d",
        "colab": {
          "base_uri": "https://localhost:8080/",
          "height": 320
        }
      },
      "source": [
        "#Training and test loss vs n_epoch graph\n",
        "score = model.evaluate(x_test, y_test, verbose=0) \n",
        "print('Test loss:', score[0]) \n",
        "print('Test accuracy:', score[1])\n",
        "\n",
        "# list of epoch numbers\n",
        "x = list(range(1,11))\n",
        "\n",
        "vl = res.history['val_loss']\n",
        "tl = res.history['loss']\n",
        "plt_dynamic(x, vl, tl)"
      ],
      "execution_count": 28,
      "outputs": [
        {
          "output_type": "stream",
          "text": [
            "Test loss: 0.3278408561855555\n",
            "Test accuracy: 0.88885\n"
          ],
          "name": "stdout"
        },
        {
          "output_type": "display_data",
          "data": {
            "image/png": "[encoded data removed]",
            "text/plain": [
              "<Figure size 432x288 with 1 Axes>"
            ]
          },
          "metadata": {
            "tags": []
          }
        }
      ]
    },
    {
      "cell_type": "markdown",
      "metadata": {
        "id": "7uFy1ZbDT_g3",
        "colab_type": "text"
      },
      "source": [
        "### Conclusion\n",
        "\n",
        "| Architecture | Training Loss | Train Accuracy | Test loss | Test Accuracy |\n",
        "| - | - | - | - | - |\n",
        "| 1 LSTM layer | 0.1726 | 93.15 | 0.2970 | 88.98 |\n",
        "| 2 LSTM layers | 0.1771 | 93.63 | 0.3278 | 88.89 |"
      ]
    }
  ]
}