{
  "nbformat": 4,
  "nbformat_minor": 0,
  "metadata": {
    "colab": {
      "name": "Amazon Fine Food  KNN.ipynb",
      "version": "0.3.2",
      "provenance": [],
      "collapsed_sections": []
    },
    "kernelspec": {
      "name": "python3",
      "display_name": "Python 3"
    }
  },
  "cells": [
    {
      "metadata": {
        "id": "K8nGsWLm7Ich",
        "colab_type": "code",
        "colab": {
          "base_uri": "https://localhost:8080/",
          "height": 122
        },
        "outputId": "7947309c-587b-4f81-ccbb-0e9a69c8e70d"
      },
      "cell_type": "code",
      "source": [
        "from google.colab import drive\n",
        "drive.mount('/content/drive')\n",
        "\n",
        "import warnings\n",
        "warnings.filterwarnings(\"ignore\")\n",
        "\n",
        "import numpy as np\n",
        "import pandas as pd\n",
        "import matplotlib.pyplot as plt\n",
        "import seaborn as sns\n",
        "import sqlite3\n",
        "from tqdm import tqdm\n",
        "import os"
      ],
      "execution_count": 1,
      "outputs": [
        {
          "output_type": "stream",
          "text": [
            "Go to this URL in a browser: https://accounts.google.com/o/oauth2/auth?client_id=947318989803-6bn6qk8qdgf4n4g3pfee6491hc0brc4i.apps.googleusercontent.com&redirect_uri=urn%3Aietf%3Awg%3Aoauth%3A2.0%3Aoob&scope=email%20https%3A%2F%2Fwww.googleapis.com%2Fauth%2Fdocs.test%20https%3A%2F%2Fwww.googleapis.com%2Fauth%2Fdrive%20https%3A%2F%2Fwww.googleapis.com%2Fauth%2Fdrive.photos.readonly%20https%3A%2F%2Fwww.googleapis.com%2Fauth%2Fpeopleapi.readonly&response_type=code\n",
            "\n",
            "Enter your authorization code:\n",
            "··········\n",
            "Mounted at /content/drive\n"
          ],
          "name": "stdout"
        }
      ]
    },
    {
      "metadata": {
        "id": "Kqxg-u5a_eda",
        "colab_type": "code",
        "colab": {
          "base_uri": "https://localhost:8080/",
          "height": 340
        },
        "outputId": "f2f12315-3bbf-4e94-8623-7cdd93a6121d"
      },
      "cell_type": "code",
      "source": [
        "#Loading the dataset\n",
        "con = sqlite3.connect(\"/content/drive/My Drive/Colab Notebooks/Fine_Food_Review/database.sqlite\")\n",
        "filtered = pd.read_sql_query(\"select * from Reviews where Score != 3\",con)\n",
        "filtered.head()"
      ],
      "execution_count": 2,
      "outputs": [
        {
          "output_type": "execute_result",
          "data": {
            "text/html": [
              "<div>\n",
              "<style scoped>\n",
              "    .dataframe tbody tr th:only-of-type {\n",
              "        vertical-align: middle;\n",
              "    }\n",
              "\n",
              "    .dataframe tbody tr th {\n",
              "        vertical-align: top;\n",
              "    }\n",
              "\n",
              "    .dataframe thead th {\n",
              "        text-align: right;\n",
              "    }\n",
              "</style>\n",
              "<table border=\"1\" class=\"dataframe\">\n",
              "  <thead>\n",
              "    <tr style=\"text-align: right;\">\n",
              "      <th></th>\n",
              "      <th>Id</th>\n",
              "      <th>ProductId</th>\n",
              "      <th>UserId</th>\n",
              "      <th>ProfileName</th>\n",
              "      <th>HelpfulnessNumerator</th>\n",
              "      <th>HelpfulnessDenominator</th>\n",
              "      <th>Score</th>\n",
              "      <th>Time</th>\n",
              "      <th>Summary</th>\n",
              "      <th>Text</th>\n",
              "    </tr>\n",
              "  </thead>\n",
              "  <tbody>\n",
              "    <tr>\n",
              "      <th>0</th>\n",
              "      <td>1</td>\n",
              "      <td>B001E4KFG0</td>\n",
              "      <td>A3SGXH7AUHU8GW</td>\n",
              "      <td>delmartian</td>\n",
              "      <td>1</td>\n",
              "      <td>1</td>\n",
              "      <td>5</td>\n",
              "      <td>1303862400</td>\n",
              "      <td>Good Quality Dog Food</td>\n",
              "      <td>I have bought several of the Vitality canned d...</td>\n",
              "    </tr>\n",
              "    <tr>\n",
              "      <th>1</th>\n",
              "      <td>2</td>\n",
              "      <td>B00813GRG4</td>\n",
              "      <td>A1D87F6ZCVE5NK</td>\n",
              "      <td>dll pa</td>\n",
              "      <td>0</td>\n",
              "      <td>0</td>\n",
              "      <td>1</td>\n",
              "      <td>1346976000</td>\n",
              "      <td>Not as Advertised</td>\n",
              "      <td>Product arrived labeled as Jumbo Salted Peanut...</td>\n",
              "    </tr>\n",
              "    <tr>\n",
              "      <th>2</th>\n",
              "      <td>3</td>\n",
              "      <td>B000LQOCH0</td>\n",
              "      <td>ABXLMWJIXXAIN</td>\n",
              "      <td>Natalia Corres \"Natalia Corres\"</td>\n",
              "      <td>1</td>\n",
              "      <td>1</td>\n",
              "      <td>4</td>\n",
              "      <td>1219017600</td>\n",
              "      <td>\"Delight\" says it all</td>\n",
              "      <td>This is a confection that has been around a fe...</td>\n",
              "    </tr>\n",
              "    <tr>\n",
              "      <th>3</th>\n",
              "      <td>4</td>\n",
              "      <td>B000UA0QIQ</td>\n",
              "      <td>A395BORC6FGVXV</td>\n",
              "      <td>Karl</td>\n",
              "      <td>3</td>\n",
              "      <td>3</td>\n",
              "      <td>2</td>\n",
              "      <td>1307923200</td>\n",
              "      <td>Cough Medicine</td>\n",
              "      <td>If you are looking for the secret ingredient i...</td>\n",
              "    </tr>\n",
              "    <tr>\n",
              "      <th>4</th>\n",
              "      <td>5</td>\n",
              "      <td>B006K2ZZ7K</td>\n",
              "      <td>A1UQRSCLF8GW1T</td>\n",
              "      <td>Michael D. Bigham \"M. Wassir\"</td>\n",
              "      <td>0</td>\n",
              "      <td>0</td>\n",
              "      <td>5</td>\n",
              "      <td>1350777600</td>\n",
              "      <td>Great taffy</td>\n",
              "      <td>Great taffy at a great price.  There was a wid...</td>\n",
              "    </tr>\n",
              "  </tbody>\n",
              "</table>\n",
              "</div>"
            ],
            "text/plain": [
              "   Id   ProductId          UserId                      ProfileName  \\\n",
              "0   1  B001E4KFG0  A3SGXH7AUHU8GW                       delmartian   \n",
              "1   2  B00813GRG4  A1D87F6ZCVE5NK                           dll pa   \n",
              "2   3  B000LQOCH0   ABXLMWJIXXAIN  Natalia Corres \"Natalia Corres\"   \n",
              "3   4  B000UA0QIQ  A395BORC6FGVXV                             Karl   \n",
              "4   5  B006K2ZZ7K  A1UQRSCLF8GW1T    Michael D. Bigham \"M. Wassir\"   \n",
              "\n",
              "   HelpfulnessNumerator  HelpfulnessDenominator  Score        Time  \\\n",
              "0                     1                       1      5  1303862400   \n",
              "1                     0                       0      1  1346976000   \n",
              "2                     1                       1      4  1219017600   \n",
              "3                     3                       3      2  1307923200   \n",
              "4                     0                       0      5  1350777600   \n",
              "\n",
              "                 Summary                                               Text  \n",
              "0  Good Quality Dog Food  I have bought several of the Vitality canned d...  \n",
              "1      Not as Advertised  Product arrived labeled as Jumbo Salted Peanut...  \n",
              "2  \"Delight\" says it all  This is a confection that has been around a fe...  \n",
              "3         Cough Medicine  If you are looking for the secret ingredient i...  \n",
              "4            Great taffy  Great taffy at a great price.  There was a wid...  "
            ]
          },
          "metadata": {
            "tags": []
          },
          "execution_count": 2
        }
      ]
    },
    {
      "metadata": {
        "id": "W6-MZgR6BGuc",
        "colab_type": "code",
        "colab": {
          "base_uri": "https://localhost:8080/",
          "height": 51
        },
        "outputId": "58a1dc10-5fb2-4bdf-866c-4609c50b5817"
      },
      "cell_type": "code",
      "source": [
        "#Sorting the filtered dataset according to product id\n",
        "filtered_sort = filtered.sort_values(\"ProductId\", axis = 0, ascending = True)\n",
        "#Removing duplicate datasets keeping only one of them\n",
        "filtered = filtered_sort.drop_duplicates(subset = {\"UserId\",\"ProfileName\",\"Time\",\"Text\"}, keep = 'first', inplace = False)\n",
        "print(\"Shape after dropping duplicates = \", filtered.shape)\n",
        "#Dropping those rows where HelpFulnessNumerator > HelpFullnessDenominator\n",
        "filtered = filtered[filtered.HelpfulnessNumerator <= filtered.HelpfulnessDenominator]\n",
        "print(\"Shape after removing HelpFulnessNumerator > HelpFullnessDenominator rows = \",filtered.shape)"
      ],
      "execution_count": 3,
      "outputs": [
        {
          "output_type": "stream",
          "text": [
            "Shape after dropping duplicates =  (364173, 10)\n",
            "Shape after removing HelpFulnessNumerator > HelpFullnessDenominator rows =  (364171, 10)\n"
          ],
          "name": "stdout"
        }
      ]
    },
    {
      "metadata": {
        "id": "VOsOmS2OBUYo",
        "colab_type": "code",
        "colab": {
          "base_uri": "https://localhost:8080/",
          "height": 408
        },
        "outputId": "5859dbc2-64aa-4b1e-ee35-11adb6882d1b"
      },
      "cell_type": "code",
      "source": [
        "#Changing scores as either \"negative\" if score<3 or \"positive\" if score>3\n",
        "def polarity(score):\n",
        "    if score < 3:\n",
        "        return 0\n",
        "    else:\n",
        "        return 1\n",
        "\n",
        "l = filtered['Score']\n",
        "pos_neg = l.map(polarity)\n",
        "filtered['Score'] = pos_neg\n",
        "filtered.head()"
      ],
      "execution_count": 4,
      "outputs": [
        {
          "output_type": "execute_result",
          "data": {
            "text/html": [
              "<div>\n",
              "<style scoped>\n",
              "    .dataframe tbody tr th:only-of-type {\n",
              "        vertical-align: middle;\n",
              "    }\n",
              "\n",
              "    .dataframe tbody tr th {\n",
              "        vertical-align: top;\n",
              "    }\n",
              "\n",
              "    .dataframe thead th {\n",
              "        text-align: right;\n",
              "    }\n",
              "</style>\n",
              "<table border=\"1\" class=\"dataframe\">\n",
              "  <thead>\n",
              "    <tr style=\"text-align: right;\">\n",
              "      <th></th>\n",
              "      <th>Id</th>\n",
              "      <th>ProductId</th>\n",
              "      <th>UserId</th>\n",
              "      <th>ProfileName</th>\n",
              "      <th>HelpfulnessNumerator</th>\n",
              "      <th>HelpfulnessDenominator</th>\n",
              "      <th>Score</th>\n",
              "      <th>Time</th>\n",
              "      <th>Summary</th>\n",
              "      <th>Text</th>\n",
              "    </tr>\n",
              "  </thead>\n",
              "  <tbody>\n",
              "    <tr>\n",
              "      <th>138706</th>\n",
              "      <td>150524</td>\n",
              "      <td>0006641040</td>\n",
              "      <td>ACITT7DI6IDDL</td>\n",
              "      <td>shari zychinski</td>\n",
              "      <td>0</td>\n",
              "      <td>0</td>\n",
              "      <td>1</td>\n",
              "      <td>939340800</td>\n",
              "      <td>EVERY book is educational</td>\n",
              "      <td>this witty little book makes my son laugh at l...</td>\n",
              "    </tr>\n",
              "    <tr>\n",
              "      <th>138688</th>\n",
              "      <td>150506</td>\n",
              "      <td>0006641040</td>\n",
              "      <td>A2IW4PEEKO2R0U</td>\n",
              "      <td>Tracy</td>\n",
              "      <td>1</td>\n",
              "      <td>1</td>\n",
              "      <td>1</td>\n",
              "      <td>1194739200</td>\n",
              "      <td>Love the book, miss the hard cover version</td>\n",
              "      <td>I grew up reading these Sendak books, and watc...</td>\n",
              "    </tr>\n",
              "    <tr>\n",
              "      <th>138689</th>\n",
              "      <td>150507</td>\n",
              "      <td>0006641040</td>\n",
              "      <td>A1S4A3IQ2MU7V4</td>\n",
              "      <td>sally sue \"sally sue\"</td>\n",
              "      <td>1</td>\n",
              "      <td>1</td>\n",
              "      <td>1</td>\n",
              "      <td>1191456000</td>\n",
              "      <td>chicken soup with rice months</td>\n",
              "      <td>This is a fun way for children to learn their ...</td>\n",
              "    </tr>\n",
              "    <tr>\n",
              "      <th>138690</th>\n",
              "      <td>150508</td>\n",
              "      <td>0006641040</td>\n",
              "      <td>AZGXZ2UUK6X</td>\n",
              "      <td>Catherine Hallberg \"(Kate)\"</td>\n",
              "      <td>1</td>\n",
              "      <td>1</td>\n",
              "      <td>1</td>\n",
              "      <td>1076025600</td>\n",
              "      <td>a good swingy rhythm for reading aloud</td>\n",
              "      <td>This is a great little book to read aloud- it ...</td>\n",
              "    </tr>\n",
              "    <tr>\n",
              "      <th>138691</th>\n",
              "      <td>150509</td>\n",
              "      <td>0006641040</td>\n",
              "      <td>A3CMRKGE0P909G</td>\n",
              "      <td>Teresa</td>\n",
              "      <td>3</td>\n",
              "      <td>4</td>\n",
              "      <td>1</td>\n",
              "      <td>1018396800</td>\n",
              "      <td>A great way to learn the months</td>\n",
              "      <td>This is a book of poetry about the months of t...</td>\n",
              "    </tr>\n",
              "  </tbody>\n",
              "</table>\n",
              "</div>"
            ],
            "text/plain": [
              "            Id   ProductId          UserId                  ProfileName  \\\n",
              "138706  150524  0006641040   ACITT7DI6IDDL              shari zychinski   \n",
              "138688  150506  0006641040  A2IW4PEEKO2R0U                        Tracy   \n",
              "138689  150507  0006641040  A1S4A3IQ2MU7V4        sally sue \"sally sue\"   \n",
              "138690  150508  0006641040     AZGXZ2UUK6X  Catherine Hallberg \"(Kate)\"   \n",
              "138691  150509  0006641040  A3CMRKGE0P909G                       Teresa   \n",
              "\n",
              "        HelpfulnessNumerator  HelpfulnessDenominator  Score        Time  \\\n",
              "138706                     0                       0      1   939340800   \n",
              "138688                     1                       1      1  1194739200   \n",
              "138689                     1                       1      1  1191456000   \n",
              "138690                     1                       1      1  1076025600   \n",
              "138691                     3                       4      1  1018396800   \n",
              "\n",
              "                                           Summary  \\\n",
              "138706                   EVERY book is educational   \n",
              "138688  Love the book, miss the hard cover version   \n",
              "138689               chicken soup with rice months   \n",
              "138690      a good swingy rhythm for reading aloud   \n",
              "138691             A great way to learn the months   \n",
              "\n",
              "                                                     Text  \n",
              "138706  this witty little book makes my son laugh at l...  \n",
              "138688  I grew up reading these Sendak books, and watc...  \n",
              "138689  This is a fun way for children to learn their ...  \n",
              "138690  This is a great little book to read aloud- it ...  \n",
              "138691  This is a book of poetry about the months of t...  "
            ]
          },
          "metadata": {
            "tags": []
          },
          "execution_count": 4
        }
      ]
    },
    {
      "metadata": {
        "id": "oHtrUGDaBXrx",
        "colab_type": "code",
        "colab": {
          "base_uri": "https://localhost:8080/",
          "height": 102
        },
        "outputId": "96426950-7a2e-4bdf-aef3-0cb9daa0e2ac"
      },
      "cell_type": "code",
      "source": [
        "#Taking out only Text, Time and Score columns in another dataframe\n",
        "df = filtered[['Text','Time','Score']]\n",
        "df.shape\n",
        "counts = df['Score'].value_counts()\n",
        "print(counts)\n",
        "print(\"Ratio of positive reviews:- \",counts[1]/(counts[0]+counts[1]))\n",
        "print(\"Ratio of negative points:- \",counts[0]/(counts[0]+counts[1]))"
      ],
      "execution_count": 5,
      "outputs": [
        {
          "output_type": "stream",
          "text": [
            "1    307061\n",
            "0     57110\n",
            "Name: Score, dtype: int64\n",
            "Ratio of positive reviews:-  0.843178067446337\n",
            "Ratio of negative points:-  0.15682193255366297\n"
          ],
          "name": "stdout"
        }
      ]
    },
    {
      "metadata": {
        "id": "fhyPVgmIpmm9",
        "colab_type": "text"
      },
      "cell_type": "markdown",
      "source": [
        "### Text Cleaning"
      ]
    },
    {
      "metadata": {
        "id": "fxgCcxsnCQGv",
        "colab_type": "code",
        "colab": {
          "base_uri": "https://localhost:8080/",
          "height": 54
        },
        "outputId": "2223fc57-bd49-4dc9-8dd2-5dbdb4c11570"
      },
      "cell_type": "code",
      "source": [
        "'''#Text Cleaning\n",
        "import string\n",
        "import re\n",
        "import nltk\n",
        "nltk.download('stopwords')\n",
        "from nltk.corpus import stopwords\n",
        "from nltk.stem import SnowballStemmer\n",
        "#Text cleaning\n",
        "def cleantext(review):\n",
        "    cleanr = re.compile('<.*?>')\n",
        "    text = re.sub(cleanr,\" \",review)\n",
        "    text = re.sub('[^a-zA-Z]',' ',text)\n",
        "    return text\n",
        "corpus = []\n",
        "for review in tqdm(df['Text']):\n",
        "    st = cleantext(review)\n",
        "    st = st.lower()\n",
        "    st = st.split()\n",
        "    sn = SnowballStemmer('english')\n",
        "    st = [sn.stem(word) for word in st if not word in set(stopwords.words('english'))]\n",
        "    st = ' '.join(st)\n",
        "    corpus.append(st)'''"
      ],
      "execution_count": 6,
      "outputs": [
        {
          "output_type": "execute_result",
          "data": {
            "text/plain": [
              "'#Text Cleaning\\nimport string\\nimport re\\nimport nltk\\nnltk.download(\\'stopwords\\')\\nfrom nltk.corpus import stopwords\\nfrom nltk.stem import SnowballStemmer\\n#Text cleaning\\ndef cleantext(review):\\n    cleanr = re.compile(\\'<.*?>\\')\\n    text = re.sub(cleanr,\" \",review)\\n    text = re.sub(\\'[^a-zA-Z]\\',\\' \\',text)\\n    return text\\ncorpus = []\\nfor review in tqdm(df[\\'Text\\']):\\n    st = cleantext(review)\\n    st = st.lower()\\n    st = st.split()\\n    sn = SnowballStemmer(\\'english\\')\\n    st = [sn.stem(word) for word in st if not word in set(stopwords.words(\\'english\\'))]\\n    st = \\' \\'.join(st)\\n    corpus.append(st)'"
            ]
          },
          "metadata": {
            "tags": []
          },
          "execution_count": 6
        }
      ]
    },
    {
      "metadata": {
        "id": "vkTFsJl6UHS5",
        "colab_type": "code",
        "colab": {
          "base_uri": "https://localhost:8080/",
          "height": 54
        },
        "outputId": "86d41d48-87c0-4199-c2d5-40c30e9f397d"
      },
      "cell_type": "code",
      "source": [
        "'''df['Text'] = corpus\n",
        "#Sorting the values according to time for time based splitting\n",
        "df = df.sort_values('Time',axis=0,ascending=True)\n",
        "df = df.reset_index(drop=True)\n",
        "print(df[df.isnull().any(axis=1)])\n",
        "df.to_csv(\"/content/drive/My Drive/Colab Notebooks/Fine_Food_Review/corpus.csv\", index = False)'''"
      ],
      "execution_count": 7,
      "outputs": [
        {
          "output_type": "execute_result",
          "data": {
            "text/plain": [
              "'df[\\'Text\\'] = corpus\\n#Sorting the values according to time for time based splitting\\ndf = df.sort_values(\\'Time\\',axis=0,ascending=True)\\ndf = df.reset_index(drop=True)\\nprint(df[df.isnull().any(axis=1)])\\ndf.to_csv(\"/content/drive/My Drive/Colab Notebooks/Fine_Food_Review/corpus.csv\", index = False)'"
            ]
          },
          "metadata": {
            "tags": []
          },
          "execution_count": 7
        }
      ]
    },
    {
      "metadata": {
        "id": "6ynXAY99KoFA",
        "colab_type": "text"
      },
      "cell_type": "markdown",
      "source": [
        "### Loading the already prepared corpus from drive"
      ]
    },
    {
      "metadata": {
        "id": "V2BKvoP1clvP",
        "colab_type": "code",
        "colab": {
          "base_uri": "https://localhost:8080/",
          "height": 119
        },
        "outputId": "df2669b4-2de3-4d5c-88e8-f2551143778f"
      },
      "cell_type": "code",
      "source": [
        "df = pd.read_csv(\"/content/drive/My Drive/Colab Notebooks/Fine_Food_Review/corpus.csv\")\n",
        "print(df.head())"
      ],
      "execution_count": 2,
      "outputs": [
        {
          "output_type": "stream",
          "text": [
            "                                                Text       Time  Score\n",
            "0  witti littl book make son laugh loud recit car...  939340800      1\n",
            "1  grew read sendak book watch realli rosi movi i...  940809600      1\n",
            "2  fun way children learn month year learn poem t...  944092800      1\n",
            "3  great littl book read aloud nice rhythm well g...  944438400      1\n",
            "4  book poetri month year goe month cute littl po...  946857600      1\n"
          ],
          "name": "stdout"
        }
      ]
    },
    {
      "metadata": {
        "id": "Y4ii3UKap3Rx",
        "colab_type": "text"
      },
      "cell_type": "markdown",
      "source": [
        "### Taking out 60K datapoints to work on"
      ]
    },
    {
      "metadata": {
        "id": "t2y30xCpUI94",
        "colab_type": "code",
        "colab": {
          "base_uri": "https://localhost:8080/",
          "height": 85
        },
        "outputId": "e7342ea8-1462-4a7e-b0ce-71864f39764e"
      },
      "cell_type": "code",
      "source": [
        "df1k = df.loc[0:59999,:]\n",
        "print(\"Shape of the new dataframe:- \",df1k.shape)\n",
        "df1k['Score'].value_counts()"
      ],
      "execution_count": 3,
      "outputs": [
        {
          "output_type": "stream",
          "text": [
            "Shape of the new dataframe:-  (60000, 3)\n"
          ],
          "name": "stdout"
        },
        {
          "output_type": "execute_result",
          "data": {
            "text/plain": [
              "1    53147\n",
              "0     6853\n",
              "Name: Score, dtype: int64"
            ]
          },
          "metadata": {
            "tags": []
          },
          "execution_count": 3
        }
      ]
    },
    {
      "metadata": {
        "id": "i7yUipogqESG",
        "colab_type": "text"
      },
      "cell_type": "markdown",
      "source": [
        "### Time based splitting function"
      ]
    },
    {
      "metadata": {
        "id": "whteTdJBUMn1",
        "colab_type": "code",
        "colab": {}
      },
      "cell_type": "code",
      "source": [
        "from sklearn.model_selection import TimeSeriesSplit\n",
        "def timeseries(x,y):\n",
        "    ts = TimeSeriesSplit(n_splits=4)\n",
        "    for train_index,test_index in ts.split(x):\n",
        "        x_train,x_test = x[train_index],x[test_index]\n",
        "        y_train,y_test = y[train_index],y[test_index]\n",
        "    return x_train,x_test,y_train,y_test"
      ],
      "execution_count": 0,
      "outputs": []
    },
    {
      "metadata": {
        "id": "HnnkdPPXqO1n",
        "colab_type": "text"
      },
      "cell_type": "markdown",
      "source": [
        "### Splitting into train, cross validation and test data"
      ]
    },
    {
      "metadata": {
        "id": "6ea3bCTVUQbS",
        "colab_type": "code",
        "colab": {}
      },
      "cell_type": "code",
      "source": [
        "x_train,x_test,y_train,y_test = timeseries(df1k['Text'].values,df1k['Score'].values)\n",
        "x_train, x_cv, y_train, y_cv = timeseries(x_train,y_train)"
      ],
      "execution_count": 0,
      "outputs": []
    },
    {
      "metadata": {
        "id": "YC_a3_sTn4is",
        "colab_type": "text"
      },
      "cell_type": "markdown",
      "source": [
        "### Impementing balanced_accuracy_score as a function\n",
        "#### The balanced accuracy in binary and multiclass classification problems to deal with imbalanced datasets. It is defined as the average of recall obtained on each class."
      ]
    },
    {
      "metadata": {
        "id": "dwfbbgLcnF2F",
        "colab_type": "code",
        "colab": {}
      },
      "cell_type": "code",
      "source": [
        "def balanced_accuracy_score(cm):\n",
        "  pos_recall = cm[1][1]/(cm[1][1]+cm[0][1])\n",
        "  neg_recall = cm[0][0]/(cm[0][0]+cm[1][0])\n",
        "  bac = (pos_recall+neg_recall)/2\n",
        "  return bac"
      ],
      "execution_count": 0,
      "outputs": []
    },
    {
      "metadata": {
        "id": "fLw8iNqZqZgF",
        "colab_type": "text"
      },
      "cell_type": "markdown",
      "source": [
        "### Finding optimal K using cross validation"
      ]
    },
    {
      "metadata": {
        "id": "L_lq85R_UTZ7",
        "colab_type": "code",
        "colab": {}
      },
      "cell_type": "code",
      "source": [
        "from sklearn.neighbors import KNeighborsClassifier\n",
        "from sklearn.metrics import confusion_matrix\n",
        "from sklearn.metrics import accuracy_score\n",
        "from sklearn.metrics import f1_score\n",
        "from sklearn.metrics import average_precision_score\n",
        "l = list(range(1,50))\n",
        "k_list = list(filter(lambda x:x%2 != 0, l))\n",
        "def cross_val(x_train,x_cv):\n",
        "    cv_scores = []\n",
        "    for k in tqdm(k_list):\n",
        "        knn = KNeighborsClassifier(n_neighbors = k,metric = 'cosine')\n",
        "        knn.fit(x_train,y_train)\n",
        "        cv_pred = knn.predict(x_cv)\n",
        "        balanced_acc = balanced_accuracy_score(confusion_matrix(y_cv,cv_pred))\n",
        "        cv_scores.append(balanced_acc)\n",
        "    return cv_scores"
      ],
      "execution_count": 0,
      "outputs": []
    },
    {
      "metadata": {
        "id": "kIwMAUBvrV6s",
        "colab_type": "text"
      },
      "cell_type": "markdown",
      "source": [
        "### Bag of Words implementation"
      ]
    },
    {
      "metadata": {
        "id": "FK-8mB_Rq3a1",
        "colab_type": "code",
        "colab": {
          "base_uri": "https://localhost:8080/",
          "height": 529
        },
        "outputId": "176a8624-31b7-4b29-f0ed-1b295ed31c3d"
      },
      "cell_type": "code",
      "source": [
        "from sklearn.feature_extraction.text import CountVectorizer\n",
        "cv = CountVectorizer()\n",
        "bow_train = cv.fit_transform(x_train)\n",
        "bow_cv = cv.transform(x_cv)\n",
        "print(\"\\nBag of words train vector shape:- \",bow_train.shape)\n",
        "print(\"\\nBag of words CV vector shape:- \",bow_cv.shape)\n",
        "#Cross valdiation for getting optimal K\n",
        "cv_scores = cross_val(bow_train,bow_cv)\n",
        "print(\"\\nMaximum balanced_accuracy_score:- \",max(cv_scores))\n",
        "print(\"\\nValue of K corresponding to maximum balanced_accuracy_score:- \",k_list[cv_scores.index(max(cv_scores))])\n",
        "#Plotting balanced_accuracy_scores against no. of neighbors\n",
        "sns.set_style('whitegrid')\n",
        "plt.plot(k_list,cv_scores)\n",
        "plt.xlabel(\"n_neighbors\")\n",
        "plt.ylabel(\"balanced_accuracy_scores\")\n",
        "plt.title(\"BOW validation balanced_accuracy_score graph for optimal K\")\n",
        "plt.show()"
      ],
      "execution_count": 8,
      "outputs": [
        {
          "output_type": "stream",
          "text": [
            "\r  0%|          | 0/25 [00:00<?, ?it/s]"
          ],
          "name": "stderr"
        },
        {
          "output_type": "stream",
          "text": [
            "\n",
            "Bag of words train vector shape:-  (38400, 26445)\n",
            "\n",
            "Bag of words CV vector shape:-  (9600, 26445)\n"
          ],
          "name": "stdout"
        },
        {
          "output_type": "stream",
          "text": [
            "100%|██████████| 25/25 [08:09<00:00, 19.70s/it]\n"
          ],
          "name": "stderr"
        },
        {
          "output_type": "stream",
          "text": [
            "\n",
            "Maximum balanced_accuracy_score:-  0.5011512733541701\n",
            "\n",
            "Value of K corresponding to maximum balanced_accuracy_score:-  3\n"
          ],
          "name": "stdout"
        },
        {
          "output_type": "display_data",
          "data": {
            "image/png": "[encoded data removed]",
            "text/plain": [
              "<matplotlib.figure.Figure at 0x7f250693a7b8>"
            ]
          },
          "metadata": {
            "tags": []
          }
        }
      ]
    },
    {
      "metadata": {
        "id": "yj3UB-SEpMrU",
        "colab_type": "text"
      },
      "cell_type": "markdown",
      "source": [
        "#### The above graph is not continuing after 15 n_neighbors because balance_accuracy_score is undefined after 15 because of neg_recall. Recall of 0 class is 0/0 after 15 n_neighbors."
      ]
    },
    {
      "metadata": {
        "id": "I3FWlyQSroZR",
        "colab_type": "code",
        "colab": {
          "base_uri": "https://localhost:8080/",
          "height": 119
        },
        "outputId": "d06f902c-68df-4b30-bb0d-1f9005c87d50"
      },
      "cell_type": "code",
      "source": [
        "%%time\n",
        "#Testing the KNN model with kd_tree algo and with optimal K\n",
        "bow_test = cv.transform(x_test)\n",
        "knn = KNeighborsClassifier(n_neighbors = k_list[cv_scores.index(max(cv_scores))], algorithm = 'kd_tree', p = 1)\n",
        "knn.fit(bow_train,y_train)\n",
        "y_pred = knn.predict(bow_test)\n",
        "bac = balanced_accuracy_score(confusion_matrix(y_test,y_pred))\n",
        "print(\"BOW test balanced_accuracy_score:- \",(bac*100))\n",
        "acc = accuracy_score(y_test,y_pred)\n",
        "print(\"BOW Test accuracy:- \",(acc*100))\n",
        "f1 = f1_score(y_test,y_pred)\n",
        "print(\"BOW test F1 score:- \",f1*100)\n",
        "ap = average_precision_score(y_test,y_pred)\n",
        "print(\"BOW test average_precision_score:- \",ap*100)"
      ],
      "execution_count": 9,
      "outputs": [
        {
          "output_type": "stream",
          "text": [
            "BOW test balanced_accuracy_score:-  50.8660668626497\n",
            "BOW Test accuracy:-  86.725\n",
            "BOW test F1 score:-  92.87726358148892\n",
            "BOW test average_precision_score:-  87.63791215831091\n",
            "CPU times: user 5h 55min 52s, sys: 1.65 s, total: 5h 55min 54s\n",
            "Wall time: 5h 55min 55s\n"
          ],
          "name": "stdout"
        }
      ]
    },
    {
      "metadata": {
        "id": "HpMYtV6wrvgL",
        "colab_type": "code",
        "colab": {
          "base_uri": "https://localhost:8080/",
          "height": 119
        },
        "outputId": "2e07abd9-4770-4763-ccf5-70e8adaddd5b"
      },
      "cell_type": "code",
      "source": [
        "%%time\n",
        "#Testing the KNN model with brute algo and with optimal K\n",
        "knn = KNeighborsClassifier(n_neighbors=k_list[cv_scores.index(max(cv_scores))],algorithm = 'brute',metric='cosine')\n",
        "knn.fit(bow_train,y_train)\n",
        "y_pred = knn.predict(bow_test)\n",
        "bac = balanced_accuracy_score(confusion_matrix(y_test,y_pred))\n",
        "print(\"BOW test balanced_accuracy_score:- \",(bac*100))\n",
        "acc = accuracy_score(y_test,y_pred)\n",
        "print(\"BOW Test accuracy:- \",(acc*100))\n",
        "f1 = f1_score(y_test,y_pred)\n",
        "print(\"BOW test F1 score:- \",f1*100)\n",
        "ap = average_precision_score(y_test,y_pred)\n",
        "print(\"BOW test average_precision_score:- \",ap*100)"
      ],
      "execution_count": 10,
      "outputs": [
        {
          "output_type": "stream",
          "text": [
            "BOW test balanced_accuracy_score:-  50.878932271013575\n",
            "BOW Test accuracy:-  84.80833333333334\n",
            "BOW test F1 score:-  91.73055114538444\n",
            "BOW test average_precision_score:-  87.68273648922312\n",
            "CPU times: user 20.9 s, sys: 1.18 s, total: 22.1 s\n",
            "Wall time: 22.1 s\n"
          ],
          "name": "stdout"
        }
      ]
    },
    {
      "metadata": {
        "id": "SgwtFBzSr4hr",
        "colab_type": "code",
        "colab": {
          "base_uri": "https://localhost:8080/",
          "height": 399
        },
        "outputId": "137fe2a0-83e3-4f4d-8c88-759c23b04c7a"
      },
      "cell_type": "code",
      "source": [
        "#Model performance metrics\n",
        "from sklearn.metrics import confusion_matrix\n",
        "cm = confusion_matrix(y_test,y_pred)\n",
        "print(\"Confusion matrix:- \",cm)\n",
        "#Plotting confusion matrix\n",
        "sns.heatmap(cm)"
      ],
      "execution_count": 11,
      "outputs": [
        {
          "output_type": "stream",
          "text": [
            "Confusion matrix:-  [[   66  1420]\n",
            " [  403 10111]]\n"
          ],
          "name": "stdout"
        },
        {
          "output_type": "execute_result",
          "data": {
            "text/plain": [
              "<matplotlib.axes._subplots.AxesSubplot at 0x7f25074d0f98>"
            ]
          },
          "metadata": {
            "tags": []
          },
          "execution_count": 11
        },
        {
          "output_type": "display_data",
          "data": {
            "image/png": "[encoded data removed]",
            "text/plain": [
              "<matplotlib.figure.Figure at 0x7f25074db710>"
            ]
          },
          "metadata": {
            "tags": []
          }
        }
      ]
    },
    {
      "metadata": {
        "id": "eTWpPq_LsAU9",
        "colab_type": "text"
      },
      "cell_type": "markdown",
      "source": [
        "### Tfidf implementation"
      ]
    },
    {
      "metadata": {
        "id": "_w0A6Aenr9pp",
        "colab_type": "code",
        "colab": {
          "base_uri": "https://localhost:8080/",
          "height": 529
        },
        "outputId": "bff23418-541f-4646-f600-aec3e8dca3e6"
      },
      "cell_type": "code",
      "source": [
        "from sklearn.feature_extraction.text import TfidfVectorizer\n",
        "tfidf = TfidfVectorizer()\n",
        "tfidf_train = tfidf.fit_transform(x_train)\n",
        "tfidf_cv = tfidf.transform(x_cv)\n",
        "print(\"\\nShape of tfidf_vec_train:- \",tfidf_train.shape)\n",
        "print(\"\\nShape of tfidf_vec_cv:- \",tfidf_cv.shape)\n",
        "#Cross valdiation for getting optimal K\n",
        "cv_scores = cross_val(tfidf_train,tfidf_cv)\n",
        "print(\"\\nMaximum balanced_accuracy_score:- \",max(cv_scores))\n",
        "print(\"\\nValue of K corresponding to maximum balanced_accuracy_score:- \",k_list[cv_scores.index(max(cv_scores))])\n",
        "#Plotting balanced_accuracy_scores against no. of neighbors\n",
        "sns.set_style('whitegrid')\n",
        "plt.plot(k_list,cv_scores)\n",
        "plt.xlabel(\"n_neighbors\")\n",
        "plt.ylabel(\"balanced_accuracy_scores\")\n",
        "plt.title(\"Tfidf validation balanced_accuracy_score graph for optimal K\")\n",
        "plt.show()"
      ],
      "execution_count": 21,
      "outputs": [
        {
          "output_type": "stream",
          "text": [
            "\r  0%|          | 0/25 [00:00<?, ?it/s]"
          ],
          "name": "stderr"
        },
        {
          "output_type": "stream",
          "text": [
            "\n",
            "Shape of tfidf_vec_train:-  (38400, 26445)\n",
            "\n",
            "Shape of tfidf_vec_cv:-  (9600, 26445)\n"
          ],
          "name": "stdout"
        },
        {
          "output_type": "stream",
          "text": [
            "100%|██████████| 25/25 [07:53<00:00, 19.28s/it]"
          ],
          "name": "stderr"
        },
        {
          "output_type": "stream",
          "text": [
            "\n",
            "Maximum balanced_accuracy_score:-  0.5303116231866755\n",
            "\n",
            "Value of K corresponding to maximum balanced_accuracy_score:-  7\n"
          ],
          "name": "stdout"
        },
        {
          "output_type": "stream",
          "text": [
            "\n"
          ],
          "name": "stderr"
        },
        {
          "output_type": "display_data",
          "data": {
            "image/png": "[encoded data removed]",
            "text/plain": [
              "<matplotlib.figure.Figure at 0x7f69ab2696a0>"
            ]
          },
          "metadata": {
            "tags": []
          }
        }
      ]
    },
    {
      "metadata": {
        "id": "aQv8K1bGsHo0",
        "colab_type": "code",
        "colab": {
          "base_uri": "https://localhost:8080/",
          "height": 187
        },
        "outputId": "889f8d58-ef21-45b6-a190-76d65ee8ebb4"
      },
      "cell_type": "code",
      "source": [
        "%%time\n",
        "#Testing the KNN model with ball_tree algo and with optimal K\n",
        "tfidf_test = tfidf.transform(x_test)\n",
        "knn = KNeighborsClassifier(n_neighbors = k_list[cv_scores.index(max(cv_scores))], algorithm = 'ball_tree', p = 1)\n",
        "knn.fit(tfidf_train,y_train)\n",
        "y_pred = knn.predict(tfidf_test)\n",
        "bac = balanced_accuracy_score(confusion_matrix(y_test,y_pred))\n",
        "print(\"\\nTfidf test balanced_accuracy_score:- \",(bac*100))\n",
        "acc = accuracy_score(y_test,y_pred)\n",
        "print(\"\\nTfidf Test accuracy:- \",(acc*100))\n",
        "f1 = f1_score(y_test,y_pred)\n",
        "print(\"\\nTfidf test F1 score:- \",f1*100)\n",
        "ap = average_precision_score(y_test,y_pred)\n",
        "print(\"\\nTfidf test average_precision_score:- \",ap*100)"
      ],
      "execution_count": 19,
      "outputs": [
        {
          "output_type": "stream",
          "text": [
            "\n",
            "Tfidf test balanced_accuracy_score:-  43.806785029590735\n",
            "\n",
            "Tfidf Test accuracy:-  87.59166666666667\n",
            "\n",
            "Tfidf test F1 score:-  93.38545599928925\n",
            "\n",
            "Tfidf test average_precision_score:-  87.61357094274838\n",
            "CPU times: user 6h 1min 14s, sys: 1.67 s, total: 6h 1min 16s\n",
            "Wall time: 6h 1min 18s\n"
          ],
          "name": "stdout"
        }
      ]
    },
    {
      "metadata": {
        "id": "tMpiJJfHsJM4",
        "colab_type": "code",
        "colab": {
          "base_uri": "https://localhost:8080/",
          "height": 187
        },
        "outputId": "f5aabf53-8661-442b-cfee-6d12617cc5c4"
      },
      "cell_type": "code",
      "source": [
        "%%time\n",
        "#Testing the KNN model with brute algo and with optimal K\n",
        "knn = KNeighborsClassifier(n_neighbors=k_list[cv_scores.index(max(cv_scores))],algorithm = 'brute',metric='cosine')\n",
        "knn.fit(tfidf_train,y_train)\n",
        "y_pred = knn.predict(tfidf_test)\n",
        "bac = balanced_accuracy_score(confusion_matrix(y_test,y_pred))\n",
        "print(\"\\nTfidf test balanced_accuracy_score:- \",(bac*100))\n",
        "acc = accuracy_score(y_test,y_pred)\n",
        "print(\"\\nTfidf Test accuracy:- \",(acc*100))\n",
        "f1 = f1_score(y_test,y_pred)\n",
        "print(\"\\nTfidf test F1 score:- \",f1*100)\n",
        "ap = average_precision_score(y_test,y_pred)\n",
        "print(\"\\nTfidf test average_precision_score:- \",ap*100)"
      ],
      "execution_count": 20,
      "outputs": [
        {
          "output_type": "stream",
          "text": [
            "\n",
            "Tfidf test balanced_accuracy_score:-  49.068541609834654\n",
            "\n",
            "Tfidf Test accuracy:-  87.36666666666667\n",
            "\n",
            "Tfidf test F1 score:-  93.25502758497954\n",
            "\n",
            "Tfidf test average_precision_score:-  87.61078650704934\n",
            "CPU times: user 26.9 s, sys: 177 ms, total: 27.1 s\n",
            "Wall time: 27.1 s\n"
          ],
          "name": "stdout"
        }
      ]
    },
    {
      "metadata": {
        "id": "8vJnez5CtZew",
        "colab_type": "code",
        "colab": {
          "base_uri": "https://localhost:8080/",
          "height": 398
        },
        "outputId": "30d299e2-c820-4ffb-ebb2-679a4ac26fb3"
      },
      "cell_type": "code",
      "source": [
        "#Model performance metrics\n",
        "cm = confusion_matrix(y_test,y_pred)\n",
        "print(\"Confusion matrix:- \",cm)\n",
        "#Plotting confusion matrix\n",
        "sns.heatmap(cm)"
      ],
      "execution_count": 21,
      "outputs": [
        {
          "output_type": "stream",
          "text": [
            "Confusion matrix:-  [[    4  1482]\n",
            " [   34 10480]]\n"
          ],
          "name": "stdout"
        },
        {
          "output_type": "execute_result",
          "data": {
            "text/plain": [
              "<matplotlib.axes._subplots.AxesSubplot at 0x7f857afd58d0>"
            ]
          },
          "metadata": {
            "tags": []
          },
          "execution_count": 21
        },
        {
          "output_type": "display_data",
          "data": {
            "image/png": "[encoded data removed]",
            "text/plain": [
              "<matplotlib.figure.Figure at 0x7f857acc5e80>"
            ]
          },
          "metadata": {
            "tags": []
          }
        }
      ]
    },
    {
      "metadata": {
        "id": "ZkV7cvaxtkHk",
        "colab_type": "text"
      },
      "cell_type": "markdown",
      "source": [
        "### Word2Vec implementation"
      ]
    },
    {
      "metadata": {
        "id": "Tdoxk-fDtn89",
        "colab_type": "code",
        "colab": {}
      },
      "cell_type": "code",
      "source": [
        "#Function to create list of sentences\n",
        "def sent_list(x):\n",
        "    list_of_sent = []\n",
        "    for sent in tqdm(x):\n",
        "        words = []\n",
        "        for w in sent.split():\n",
        "            words.append(w)\n",
        "        list_of_sent.append(words)\n",
        "    return list_of_sent"
      ],
      "execution_count": 0,
      "outputs": []
    },
    {
      "metadata": {
        "id": "S_kr_LPKdfgo",
        "colab_type": "code",
        "colab": {
          "base_uri": "https://localhost:8080/",
          "height": 34
        },
        "outputId": "595aba8a-ca96-4fc6-bfbf-15e982fbb5f1"
      },
      "cell_type": "code",
      "source": [
        "'''!pip install gensim'''"
      ],
      "execution_count": 12,
      "outputs": [
        {
          "output_type": "execute_result",
          "data": {
            "text/plain": [
              "'!pip install gensim'"
            ]
          },
          "metadata": {
            "tags": []
          },
          "execution_count": 12
        }
      ]
    },
    {
      "metadata": {
        "id": "oMQI_y1gtxSu",
        "colab_type": "code",
        "colab": {
          "base_uri": "https://localhost:8080/",
          "height": 34
        },
        "outputId": "deee8e03-9b5f-4fde-abe8-54433b9817af"
      },
      "cell_type": "code",
      "source": [
        "#implementing word2vec\n",
        "from gensim.models import Word2Vec\n",
        "sent_train = sent_list(x_train)\n",
        "w2v = Word2Vec(sent_train,size=50,min_count=1,workers=4)"
      ],
      "execution_count": 13,
      "outputs": [
        {
          "output_type": "stream",
          "text": [
            "100%|██████████| 38400/38400 [00:00<00:00, 63454.44it/s]\n"
          ],
          "name": "stderr"
        }
      ]
    },
    {
      "metadata": {
        "id": "-H5DENx0t5Qr",
        "colab_type": "text"
      },
      "cell_type": "markdown",
      "source": [
        "### Avg Word2Vec implementation"
      ]
    },
    {
      "metadata": {
        "id": "sJlf0JSJt75j",
        "colab_type": "code",
        "colab": {}
      },
      "cell_type": "code",
      "source": [
        "#Function to create avg word2vec vector\n",
        "def avgw2v(x):\n",
        "    avgw2v_vec = []\n",
        "    for sent in tqdm(x):\n",
        "        sent_vec = np.zeros(50)\n",
        "        count = 0\n",
        "        for word in sent:\n",
        "            try:\n",
        "                vec = w2v.wv[word]\n",
        "                sent_vec+=vec\n",
        "                count+=1\n",
        "            except:\n",
        "                pass\n",
        "        sent_vec/=count\n",
        "        avgw2v_vec.append(sent_vec)\n",
        "    return avgw2v_vec"
      ],
      "execution_count": 0,
      "outputs": []
    },
    {
      "metadata": {
        "id": "AmHnjtiBuB9w",
        "colab_type": "code",
        "colab": {
          "base_uri": "https://localhost:8080/",
          "height": 580
        },
        "outputId": "7ac093cf-9e87-4737-c98a-3948aba1c30b"
      },
      "cell_type": "code",
      "source": [
        "#Creating Avg Word2Vec of training and cross validation data\n",
        "sent_cv = sent_list(x_cv)\n",
        "avgw2v_train = np.array(avgw2v(sent_train))\n",
        "avgw2v_cv = np.array(avgw2v(sent_cv))\n",
        "print(\"\\nShape of avgw2v_train vector:- \",avgw2v_train.shape)\n",
        "print(\"\\nShape of avgw2v_cv vector:- \",avgw2v_cv.shape)\n",
        "#K-Fold cross valdiation for getting optimal K\n",
        "cv_scores = cross_val(avgw2v_train,avgw2v_cv)\n",
        "print(\"\\nMaximum balanced_accuracy_score:- \",max(cv_scores))\n",
        "print(\"\\nValue of K corresponding to maximum balanced_accuracy_score:- \",k_list[cv_scores.index(max(cv_scores))])\n",
        "#Plotting balanced_accuracy_scores against no. of neighbors\n",
        "sns.set_style('whitegrid')\n",
        "plt.plot(k_list,cv_scores)\n",
        "plt.xlabel(\"n_neighbors\")\n",
        "plt.ylabel(\"balanced_accuracy_scores\")\n",
        "plt.title(\"Avg word2vec cross validation balanced_accuracy_scores graph for optimal K\")\n",
        "plt.show()"
      ],
      "execution_count": 15,
      "outputs": [
        {
          "output_type": "stream",
          "text": [
            "100%|██████████| 9600/9600 [00:00<00:00, 85481.38it/s]\n",
            "100%|██████████| 38400/38400 [00:06<00:00, 6159.98it/s]\n",
            "100%|██████████| 9600/9600 [00:01<00:00, 6611.11it/s]\n",
            "  0%|          | 0/25 [00:00<?, ?it/s]"
          ],
          "name": "stderr"
        },
        {
          "output_type": "stream",
          "text": [
            "\n",
            "Shape of avgw2v_train vector:-  (38400, 50)\n",
            "\n",
            "Shape of avgw2v_cv vector:-  (9600, 50)\n"
          ],
          "name": "stdout"
        },
        {
          "output_type": "stream",
          "text": [
            "100%|██████████| 25/25 [03:23<00:00,  8.16s/it]\n"
          ],
          "name": "stderr"
        },
        {
          "output_type": "stream",
          "text": [
            "\n",
            "Maximum balanced_accuracy_score:-  0.5004633366215286\n",
            "\n",
            "Value of K corresponding to maximum balanced_accuracy_score:-  7\n"
          ],
          "name": "stdout"
        },
        {
          "output_type": "display_data",
          "data": {
            "image/png": "[encoded data removed]",
            "text/plain": [
              "<matplotlib.figure.Figure at 0x7f69aee314a8>"
            ]
          },
          "metadata": {
            "tags": []
          }
        }
      ]
    },
    {
      "metadata": {
        "id": "DPG0y4OeuM9T",
        "colab_type": "code",
        "colab": {
          "base_uri": "https://localhost:8080/",
          "height": 255
        },
        "outputId": "6c6e0400-2038-4ab4-a314-973f48b35126"
      },
      "cell_type": "code",
      "source": [
        "%%time\n",
        "#Testing the KNN model with kd_tree algo and with optimal K\n",
        "sent_test = sent_list(x_test)\n",
        "avgw2v_test = np.array(avgw2v(sent_test))\n",
        "print(\"\\nShape of the avgw2v_test vector:- \",avgw2v_test.shape)\n",
        "knn = KNeighborsClassifier(n_neighbors = k_list[cv_scores.index(max(cv_scores))], algorithm = 'kd_tree', p = 1)\n",
        "knn.fit(avgw2v_train,y_train)\n",
        "y_pred = knn.predict(avgw2v_test)\n",
        "bac = balanced_accuracy_score(confusion_matrix(y_test,y_pred))\n",
        "print(\"\\nAvg word2vec test balanced_accuracy_score:- \",(bac*100))\n",
        "acc = accuracy_score(y_test,y_pred)\n",
        "print(\"\\nAvg word2vec Test accuracy:- \",(acc*100))\n",
        "f1 = f1_score(y_test,y_pred)\n",
        "print(\"\\nAvgword2vec test F1 score:- \",f1*100)\n",
        "ap = average_precision_score(y_test,y_pred)\n",
        "print(\"\\nAvgword2vec test average_precision_score:- \",ap*100)"
      ],
      "execution_count": 17,
      "outputs": [
        {
          "output_type": "stream",
          "text": [
            "100%|██████████| 12000/12000 [00:00<00:00, 39971.73it/s]\n",
            "100%|██████████| 12000/12000 [00:01<00:00, 7035.41it/s]\n"
          ],
          "name": "stderr"
        },
        {
          "output_type": "stream",
          "text": [
            "\n",
            "Shape of the avgw2v_test vector:-  (12000, 50)\n",
            "\n",
            "Avg word2vec test balanced_accuracy_score:-  52.513621054622426\n",
            "\n",
            "Avg word2vec Test accuracy:-  87.36666666666667\n",
            "\n",
            "Avgword2vec test F1 score:-  93.2526259569165\n",
            "\n",
            "Avgword2vec test average_precision_score:-  87.63586811127605\n",
            "CPU times: user 2min 24s, sys: 63.5 ms, total: 2min 24s\n",
            "Wall time: 2min 25s\n"
          ],
          "name": "stdout"
        }
      ]
    },
    {
      "metadata": {
        "id": "RIDfZi__uVpb",
        "colab_type": "code",
        "colab": {
          "base_uri": "https://localhost:8080/",
          "height": 153
        },
        "outputId": "291ef100-5378-4ebc-ea7d-e5c1c6953a58"
      },
      "cell_type": "code",
      "source": [
        "%%time\n",
        "#Testing the KNN model with brute algo and with optimal K\n",
        "knn = KNeighborsClassifier(n_neighbors = k_list[cv_scores.index(max(cv_scores))], algorithm = 'brute', metric = 'cosine')\n",
        "knn.fit(avgw2v_train,y_train)\n",
        "y_pred = knn.predict(avgw2v_test)\n",
        "bac = balanced_accuracy_score(confusion_matrix(y_test,y_pred))\n",
        "print(\"Avg word2vec test balanced_accuracy_score:- \",(bac*100))\n",
        "acc = accuracy_score(y_test,y_pred)\n",
        "print(\"Avg word2vec Test accuracy:- \",(acc*100))\n",
        "f1 = f1_score(y_test,y_pred)\n",
        "print(\"\\nAvgword2vec test F1 score:- \",f1*100)\n",
        "ap = average_precision_score(y_test,y_pred)\n",
        "print(\"\\nAvgword2vec test average_precision_score:- \",ap*100)"
      ],
      "execution_count": 19,
      "outputs": [
        {
          "output_type": "stream",
          "text": [
            "Avg word2vec test balanced_accuracy_score:-  53.43861862944554\n",
            "Avg word2vec Test accuracy:-  87.35000000000001\n",
            "\n",
            "Avgword2vec test F1 score:-  93.24191968658178\n",
            "\n",
            "Avgword2vec test average_precision_score:-  87.646348981405\n",
            "CPU times: user 10.7 s, sys: 1.71 s, total: 12.4 s\n",
            "Wall time: 10.9 s\n"
          ],
          "name": "stdout"
        }
      ]
    },
    {
      "metadata": {
        "id": "PinfOxy6umaY",
        "colab_type": "code",
        "colab": {
          "base_uri": "https://localhost:8080/",
          "height": 398
        },
        "outputId": "70726ab8-8524-48df-930e-20beccf5680c"
      },
      "cell_type": "code",
      "source": [
        "#Model performance metrics\n",
        "cm = confusion_matrix(y_test,y_pred)\n",
        "print(\"Confusion matrix:- \",cm)\n",
        "#Plotting confusion matrix\n",
        "sns.heatmap(cm)"
      ],
      "execution_count": 20,
      "outputs": [
        {
          "output_type": "stream",
          "text": [
            "Confusion matrix:-  [[   10  1476]\n",
            " [   42 10472]]\n"
          ],
          "name": "stdout"
        },
        {
          "output_type": "execute_result",
          "data": {
            "text/plain": [
              "<matplotlib.axes._subplots.AxesSubplot at 0x7f69ab3833c8>"
            ]
          },
          "metadata": {
            "tags": []
          },
          "execution_count": 20
        },
        {
          "output_type": "display_data",
          "data": {
            "image/png": "[encoded data removed]",
            "text/plain": [
              "<matplotlib.figure.Figure at 0x7f69ab2c9978>"
            ]
          },
          "metadata": {
            "tags": []
          }
        }
      ]
    },
    {
      "metadata": {
        "id": "pPY2v5DRuwmV",
        "colab_type": "text"
      },
      "cell_type": "markdown",
      "source": [
        "### Tfidf weighted word2vec"
      ]
    },
    {
      "metadata": {
        "id": "jI5NrqtBuzV6",
        "colab_type": "code",
        "colab": {}
      },
      "cell_type": "code",
      "source": [
        "#Function for creating tfidf weighted Word2Vec\n",
        "def tfidfw2v(x):\n",
        "    dictionary = dict(zip(tfidf.get_feature_names(),list(tfidf.idf_)))\n",
        "    tfidf_w2v_vec = []\n",
        "    i=0\n",
        "    for sent in tqdm(x):\n",
        "        sent_vec = np.zeros(50)\n",
        "        weights = 0\n",
        "        for word in sent:\n",
        "            try:\n",
        "                vec = w2v.wv[word]\n",
        "                tfidf_value = dictionary[word]*sent.count(word)\n",
        "                sent_vec+=(tfidf_value*vec)\n",
        "                weights+=tfidf_value\n",
        "            except:\n",
        "                pass\n",
        "        sent_vec/=weights\n",
        "        tfidf_w2v_vec.append(sent_vec)\n",
        "        i+=1\n",
        "    return tfidf_w2v_vec"
      ],
      "execution_count": 0,
      "outputs": []
    },
    {
      "metadata": {
        "id": "Kbpy7-Emu3yZ",
        "colab_type": "code",
        "colab": {
          "base_uri": "https://localhost:8080/",
          "height": 563
        },
        "outputId": "4c5cfad0-3b05-4d30-f4f0-8e1b34634461"
      },
      "cell_type": "code",
      "source": [
        "#Creating tfidf Word2Vec of train data and cross_validation data\n",
        "tfidfw2v_train = np.array(tfidfw2v(sent_train))\n",
        "tfidfw2v_cv = np.array(tfidfw2v(sent_cv))\n",
        "print(\"\\nShape of tfidfw2v_train vector:- \",tfidfw2v_train.shape)\n",
        "print(\"\\nShape of tfidfw2v_cv vector:- \",tfidfw2v_cv.shape)\n",
        "#K-Fold cross valdiation for getting optimal K\n",
        "cv_scores = cross_val(tfidfw2v_train,tfidfw2v_cv)\n",
        "print(\"\\nMaximum balanced_accuracy_score:- \",max(cv_scores))\n",
        "print(\"\\nValue of K corresponding to maximum balanced_accuracy_score:- \",k_list[cv_scores.index(max(cv_scores))])\n",
        "#Plotting balanced_accuracy_scores against no. of neighbors\n",
        "sns.set_style('whitegrid')\n",
        "plt.plot(k_list,cv_scores)\n",
        "plt.xlabel(\"n_neighbors\")\n",
        "plt.ylabel(\"balanced_accuracy_scores\")\n",
        "plt.title(\"Tfidf_word2vec validation balanced_accuracy_scores graph for optimal K\")\n",
        "plt.show()"
      ],
      "execution_count": 23,
      "outputs": [
        {
          "output_type": "stream",
          "text": [
            "100%|██████████| 38400/38400 [00:13<00:00, 2802.90it/s]\n",
            "100%|██████████| 9600/9600 [00:03<00:00, 3000.94it/s]\n",
            "  0%|          | 0/25 [00:00<?, ?it/s]"
          ],
          "name": "stderr"
        },
        {
          "output_type": "stream",
          "text": [
            "\n",
            "Shape of tfidfw2v_train vector:-  (38400, 50)\n",
            "\n",
            "Shape of tfidfw2v_cv vector:-  (9600, 50)\n"
          ],
          "name": "stdout"
        },
        {
          "output_type": "stream",
          "text": [
            "100%|██████████| 25/25 [03:19<00:00,  8.19s/it]"
          ],
          "name": "stderr"
        },
        {
          "output_type": "stream",
          "text": [
            "\n",
            "Maximum balanced_accuracy_score:-  0.5773898121901042\n",
            "\n",
            "Value of K corresponding to maximum balanced_accuracy_score:-  9\n"
          ],
          "name": "stdout"
        },
        {
          "output_type": "stream",
          "text": [
            "\n"
          ],
          "name": "stderr"
        },
        {
          "output_type": "display_data",
          "data": {
            "image/png": "[encoded data removed]",
            "text/plain": [
              "<matplotlib.figure.Figure at 0x7f69ab333b00>"
            ]
          },
          "metadata": {
            "tags": []
          }
        }
      ]
    },
    {
      "metadata": {
        "id": "r8xgpQgIu8IG",
        "colab_type": "code",
        "colab": {
          "base_uri": "https://localhost:8080/",
          "height": 238
        },
        "outputId": "ac78831c-7da6-4a81-ee0a-d3f04eb9943d"
      },
      "cell_type": "code",
      "source": [
        "%%time\n",
        "#Testing the KNN model with kd_tree algo and with optimal K\n",
        "tfidfw2v_test = np.array(tfidfw2v(sent_test))\n",
        "print(\"\\nShape of the tfidfw2v_test vector:- \",tfidfw2v_test.shape)\n",
        "knn = KNeighborsClassifier(n_neighbors = k_list[cv_scores.index(max(cv_scores))], algorithm = 'kd_tree', p = 1)\n",
        "knn.fit(tfidfw2v_train,y_train)\n",
        "y_pred = knn.predict(tfidfw2v_test)\n",
        "bac = balanced_accuracy_score(confusion_matrix(y_test,y_pred))\n",
        "print(\"\\nTfidf word2vec test balanced_accuracy_score:- \",(bac*100))\n",
        "acc = accuracy_score(y_test,y_pred)\n",
        "print(\"\\nTfidf word2vec Test accuracy:- \",(acc*100))\n",
        "f1 = f1_score(y_test,y_pred)\n",
        "print(\"\\nTfidfword2vec test F1 score:- \",f1*100)\n",
        "ap = average_precision_score(y_test,y_pred)\n",
        "print(\"\\nTfidf word2vec test average_precision_score:- \",ap*100)"
      ],
      "execution_count": 30,
      "outputs": [
        {
          "output_type": "stream",
          "text": [
            "100%|██████████| 12000/12000 [00:03<00:00, 3407.65it/s]\n"
          ],
          "name": "stderr"
        },
        {
          "output_type": "stream",
          "text": [
            "\n",
            "Shape of the tfidfw2v_test vector:-  (12000, 50)\n",
            "\n",
            "Tfidf word2vec test balanced_accuracy_score:-  56.31464798131465\n",
            "\n",
            "Tfidf word2vec Test accuracy:-  87.56666666666668\n",
            "\n",
            "Tfidfword2vec test F1 score:-  93.36947826859834\n",
            "\n",
            "Tfidf word2vec test average_precision_score:-  87.62928515193272\n",
            "CPU times: user 1min 58s, sys: 106 ms, total: 1min 58s\n",
            "Wall time: 1min 58s\n"
          ],
          "name": "stdout"
        }
      ]
    },
    {
      "metadata": {
        "id": "NlP0ZWFdvCAC",
        "colab_type": "code",
        "colab": {
          "base_uri": "https://localhost:8080/",
          "height": 153
        },
        "outputId": "613bd95c-8f57-4750-cec9-4168fdf13724"
      },
      "cell_type": "code",
      "source": [
        "%%time\n",
        "#Testing the KNN model with brute algo and with optimal K\n",
        "knn = KNeighborsClassifier(n_neighbors = k_list[cv_scores.index(max(cv_scores))], algorithm = 'brute', p=1)\n",
        "knn.fit(tfidfw2v_train,y_train)\n",
        "y_pred = knn.predict(tfidfw2v_test)\n",
        "bac = balanced_accuracy_score(confusion_matrix(y_test,y_pred))\n",
        "print(\"Tfidf word2vec test balanced_accuracy_score:- \",(bac*100))\n",
        "acc = accuracy_score(y_test,y_pred)\n",
        "print(\"Tfidf word2vec Test accuracy:- \",(acc*100))\n",
        "f1 = f1_score(y_test,y_pred)\n",
        "print(\"\\nTfidf word2vec test F1 score:- \",f1*100)\n",
        "ap = average_precision_score(y_test,y_pred)\n",
        "print(\"\\nTfidf word2vec test average_precision_score:- \",ap*100)"
      ],
      "execution_count": 31,
      "outputs": [
        {
          "output_type": "stream",
          "text": [
            "Tfidf word2vec test balanced_accuracy_score:-  56.31464798131465\n",
            "Tfidf word2vec Test accuracy:-  87.56666666666668\n",
            "\n",
            "Tfidf word2vec test F1 score:-  93.36947826859834\n",
            "\n",
            "Tfidf word2vec test average_precision_score:-  87.62928515193272\n",
            "CPU times: user 36 s, sys: 60.6 ms, total: 36 s\n",
            "Wall time: 36 s\n"
          ],
          "name": "stdout"
        }
      ]
    },
    {
      "metadata": {
        "id": "vdoY4Vp9vH0C",
        "colab_type": "code",
        "colab": {
          "base_uri": "https://localhost:8080/",
          "height": 398
        },
        "outputId": "217681d7-e300-4eb6-c761-735ce66a19a9"
      },
      "cell_type": "code",
      "source": [
        "#Model performance metrics\n",
        "cm = confusion_matrix(y_test,y_pred)\n",
        "print(\"Confusion matrix:- \",cm)\n",
        "#Plotting confusion matrix\n",
        "sns.heatmap(cm)"
      ],
      "execution_count": 32,
      "outputs": [
        {
          "output_type": "stream",
          "text": [
            "Confusion matrix:-  [[    3  1483]\n",
            " [    9 10505]]\n"
          ],
          "name": "stdout"
        },
        {
          "output_type": "execute_result",
          "data": {
            "text/plain": [
              "<matplotlib.axes._subplots.AxesSubplot at 0x7f69aab2e978>"
            ]
          },
          "metadata": {
            "tags": []
          },
          "execution_count": 32
        },
        {
          "output_type": "display_data",
          "data": {
            "image/png": "[encoded data removed]",
            "text/plain": [
              "<matplotlib.figure.Figure at 0x7f69aac12eb8>"
            ]
          },
          "metadata": {
            "tags": []
          }
        }
      ]
    },
    {
      "metadata": {
        "id": "SDbRKY6FvQpX",
        "colab_type": "text"
      },
      "cell_type": "markdown",
      "source": [
        "## Results:-\n",
        "\n",
        "| Model | Hyperparameter(K) | Accuracy |\n",
        "| - | - | - | - |\n",
        "| Bag of Words | 3 | 86.3 |\n",
        "|Tfidf | 7 | 87.6 |\n",
        "| Avg Word2Vec | 7 | 87.35 |\n",
        "| Tfidf Word2Vec | 9 | 87.57 |"
      ]
    }
  ]
}