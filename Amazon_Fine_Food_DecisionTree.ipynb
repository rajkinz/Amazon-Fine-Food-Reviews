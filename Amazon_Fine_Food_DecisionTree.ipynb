{
  "cells": [
    {
      "metadata": {
        "_uuid": "8f2839f25d086af736a60e9eeb907d3b93b6e0e5",
        "_cell_guid": "b1076dfc-b9ad-4769-8c92-a6c4dae69d19",
        "trusted": true
      },
      "cell_type": "markdown",
      "source": "# Decision Trees on Amazon Fine Food Reviews dataset"
    },
    {
      "metadata": {
        "_cell_guid": "79c7e3d0-c299-4dcb-8224-4455121ee9b0",
        "collapsed": true,
        "_uuid": "d629ff2d2480ee46fbb7e2d37f6b5fab8052498a",
        "trusted": false
      },
      "cell_type": "markdown",
      "source": "## Importing necessary libraries"
    },
    {
      "metadata": {
        "trusted": true,
        "_uuid": "0cd9d6388ac41b13f07d9fe027187e37c3cdc20e"
      },
      "cell_type": "code",
      "source": "import numpy as np\nimport pandas as pd\nimport matplotlib.pyplot as plt\nimport seaborn as sns\nimport os\nimport graphviz\nfrom tqdm import tqdm\n\nfrom imblearn.over_sampling import SMOTE\nfrom sklearn.model_selection import GridSearchCV\nfrom sklearn import tree\nfrom sklearn.tree import DecisionTreeClassifier\nfrom sklearn.metrics import f1_score\nfrom sklearn.metrics import accuracy_score\nfrom sklearn.metrics import confusion_matrix",
      "execution_count": null,
      "outputs": []
    },
    {
      "metadata": {
        "_uuid": "fc57765df53c993565b5141dc454c1fa155bb074"
      },
      "cell_type": "markdown",
      "source": "## Loading already prepared corpus"
    },
    {
      "metadata": {
        "trusted": true,
        "_uuid": "257ca698f38d2a323f470f9552b8aef6781bd7f0"
      },
      "cell_type": "code",
      "source": "df = pd.read_csv(\"../input/corpus.csv\")\ndf.head()",
      "execution_count": 94,
      "outputs": [
        {
          "output_type": "execute_result",
          "execution_count": 94,
          "data": {
            "text/plain": "                                                Text       Time  Score\n0  witti littl book make son laugh loud recit car...  939340800      1\n1  grew read sendak book watch realli rosi movi i...  940809600      1\n2  fun way children learn month year learn poem t...  944092800      1\n3  great littl book read aloud nice rhythm well g...  944438400      1\n4  book poetri month year goe month cute littl po...  946857600      1",
            "text/html": "<div>\n<style scoped>\n    .dataframe tbody tr th:only-of-type {\n        vertical-align: middle;\n    }\n\n    .dataframe tbody tr th {\n        vertical-align: top;\n    }\n\n    .dataframe thead th {\n        text-align: right;\n    }\n</style>\n<table border=\"1\" class=\"dataframe\">\n  <thead>\n    <tr style=\"text-align: right;\">\n      <th></th>\n      <th>Text</th>\n      <th>Time</th>\n      <th>Score</th>\n    </tr>\n  </thead>\n  <tbody>\n    <tr>\n      <th>0</th>\n      <td>witti littl book make son laugh loud recit car...</td>\n      <td>939340800</td>\n      <td>1</td>\n    </tr>\n    <tr>\n      <th>1</th>\n      <td>grew read sendak book watch realli rosi movi i...</td>\n      <td>940809600</td>\n      <td>1</td>\n    </tr>\n    <tr>\n      <th>2</th>\n      <td>fun way children learn month year learn poem t...</td>\n      <td>944092800</td>\n      <td>1</td>\n    </tr>\n    <tr>\n      <th>3</th>\n      <td>great littl book read aloud nice rhythm well g...</td>\n      <td>944438400</td>\n      <td>1</td>\n    </tr>\n    <tr>\n      <th>4</th>\n      <td>book poetri month year goe month cute littl po...</td>\n      <td>946857600</td>\n      <td>1</td>\n    </tr>\n  </tbody>\n</table>\n</div>"
          },
          "metadata": {}
        }
      ]
    },
    {
      "metadata": {
        "_uuid": "87793ccc68b6bc76ccfaf01235c9e0b8cd596073"
      },
      "cell_type": "markdown",
      "source": "## Taking out 100K datapoints to work on."
    },
    {
      "metadata": {
        "trusted": true,
        "_uuid": "748730c10f6c6a433ef3b8a2b52553a14fde35d0"
      },
      "cell_type": "code",
      "source": "df1k = df.loc[:99999,:]\nprint(\"Shape of the data: \",df1k.shape)\nprint(\"Unique classes:- \\n\",df1k['Score'].value_counts())",
      "execution_count": 95,
      "outputs": [
        {
          "output_type": "stream",
          "text": "Shape of the data:  (100000, 3)\nUnique classes:- \n 1    87729\n0    12271\nName: Score, dtype: int64\n",
          "name": "stdout"
        }
      ]
    },
    {
      "metadata": {
        "_uuid": "ed27318ee97cc678111e0c566d086a9c8007a759"
      },
      "cell_type": "markdown",
      "source": "## Function for time based splitting into train and test data"
    },
    {
      "metadata": {
        "trusted": true,
        "_uuid": "67abd4bb7bb50d1f4da494a27be2a1ab6f712ea9"
      },
      "cell_type": "code",
      "source": "from sklearn.model_selection import TimeSeriesSplit\ndef timesplit(x,y):\n    ts = TimeSeriesSplit(n_splits = 4)\n    for train_index,test_index in ts.split(x):\n        x_train,x_test = x[train_index],x[test_index]\n        y_train,y_test = y[train_index],y[test_index]\n    return x_train,y_train,x_test,y_test\n\nx_train,y_train,x_test,y_test = timesplit(df1k[\"Text\"].values,df1k[\"Score\"].values)",
      "execution_count": 96,
      "outputs": []
    },
    {
      "metadata": {
        "_uuid": "8080dbcf0d59d4d65dad8ba2d09eb5baf0cd29c2"
      },
      "cell_type": "markdown",
      "source": "## BagofWords"
    },
    {
      "metadata": {
        "trusted": true,
        "_uuid": "1b5feaf2c3601fad4a9eb3431c72a6c986a296df"
      },
      "cell_type": "code",
      "source": "from sklearn.feature_extraction.text import CountVectorizer\ncv = CountVectorizer()\nbow_train = cv.fit_transform(x_train)\nprint(\"Shape of BOW vector:- \",bow_train.shape)",
      "execution_count": 84,
      "outputs": [
        {
          "output_type": "stream",
          "text": "Shape of BOW vector:-  (80000, 34646)\n",
          "name": "stdout"
        }
      ]
    },
    {
      "metadata": {
        "_uuid": "0092cd322be2043f82cdab982ebb30b1955307ad"
      },
      "cell_type": "markdown",
      "source": "### Parameter tuning using GridSearchCV"
    },
    {
      "metadata": {
        "trusted": true,
        "_uuid": "85950060f874092b068fad2897b08e1f2bbb0b7c"
      },
      "cell_type": "code",
      "source": "%%time\nclassifier = DecisionTreeClassifier(splitter='random',min_samples_leaf=0.01,class_weight='balanced',\n                                    random_state=0)\nparam = {\"max_depth\":range(10,100,10)}\ngs = GridSearchCV(classifier,param,scoring='f1_micro',cv=5,refit=False,n_jobs=-1)\ngs.fit(bow_train,y_train)\nprint(\"Best estimator:- \",gs.best_params_)\nprint(\"Best score:- \",gs.best_score_)",
      "execution_count": 85,
      "outputs": [
        {
          "output_type": "stream",
          "text": "Best estimator:-  {'max_depth': 20}\nBest score:-  0.556575\nCPU times: user 296 ms, sys: 212 ms, total: 508 ms\nWall time: 52.5 s\n",
          "name": "stdout"
        }
      ]
    },
    {
      "metadata": {
        "_uuid": "0c75a51a5978ac2516083b7a7caec0166619a7f9"
      },
      "cell_type": "markdown",
      "source": "### Testing the model with the tuned parameters"
    },
    {
      "metadata": {
        "trusted": true,
        "_uuid": "55ad882af0202539766cb3108e48db6c513cc6a4"
      },
      "cell_type": "code",
      "source": "classifier = DecisionTreeClassifier(splitter='random',max_depth=20,min_samples_leaf=0.01,\n                                    class_weight='balanced',random_state=0)\nclassifier.fit(bow_train,y_train)\nbow_test = cv.transform(x_test)\ny_pred = classifier.predict(bow_test)\nprint(\"f1 score:- \",f1_score(y_test,y_pred))\nprint(\"Test accuracy score:- \",accuracy_score(y_test,y_pred))\nprint(\"Train accuracy score:- \",accuracy_score(y_train,classifier.predict(bow_train)))",
      "execution_count": 86,
      "outputs": [
        {
          "output_type": "stream",
          "text": "f1 score:-  0.7930041924785682\nTest accuracy score:-  0.6692\nTrain accuracy score:-  0.673675\n",
          "name": "stdout"
        }
      ]
    },
    {
      "metadata": {
        "_uuid": "9815a55914cb913468b14fdb8fc241584846b520"
      },
      "cell_type": "markdown",
      "source": "### Confusion matrix of the model on original data(without oversampling)"
    },
    {
      "metadata": {
        "trusted": true,
        "_uuid": "9fa50f2fc8f2b7cf27772cbfdbf886602df93d7f"
      },
      "cell_type": "code",
      "source": "cm = confusion_matrix(y_test,y_pred)\nprint(\"Confusion Matrix:-\\n\",cm)\nsns.heatmap(cm,annot=True)",
      "execution_count": 87,
      "outputs": [
        {
          "output_type": "stream",
          "text": "Confusion Matrix:-\n [[  711  1964]\n [ 4652 12673]]\n",
          "name": "stdout"
        },
        {
          "output_type": "execute_result",
          "execution_count": 87,
          "data": {
            "text/plain": "<matplotlib.axes._subplots.AxesSubplot at 0x7f2d02a824e0>"
          },
          "metadata": {}
        },
        {
          "output_type": "display_data",
          "data": {
            "text/plain": "<Figure size 432x288 with 2 Axes>",
            "image/png": "[encoded data removed]"
          },
          "metadata": {}
        }
      ]
    },
    {
      "metadata": {
        "_uuid": "5448648df2c2239c2daa9387da2dba8635ca164c"
      },
      "cell_type": "markdown",
      "source": "### Decision Tree Graph"
    },
    {
      "metadata": {
        "trusted": true,
        "_uuid": "6f4d06162a0257cc7e4d92b988683c7e100ca0cf"
      },
      "cell_type": "code",
      "source": "dot = graphviz.Source(tree.export_graphviz(classifier,out_file=None,max_depth=2,\n                                feature_names=cv.get_feature_names(),filled=True,rounded=True,\n                                class_names=['Negative','Positive'],\n                                special_characters=True))\ndot.format = 'png'\ndot.render(\"bow_graph\")\ndot",
      "execution_count": 88,
      "outputs": [
        {
          "output_type": "execute_result",
          "execution_count": 88,
          "data": {
            "text/plain": "<graphviz.files.Source at 0x7f2d31399710>",
            "image/svg+xml": "<?xml version=\"1.0\" encoding=\"UTF-8\" standalone=\"no\"?>\n<!DOCTYPE svg PUBLIC \"-//W3C//DTD SVG 1.1//EN\"\n \"http://www.w3.org/Graphics/SVG/1.1/DTD/svg11.dtd\">\n<!-- Generated by graphviz version 2.38.0 (20140413.2041)\n -->\n<!-- Title: Tree Pages: 1 -->\n<svg width=\"515pt\" height=\"401pt\"\n viewBox=\"0.00 0.00 515.00 401.00\" xmlns=\"http://www.w3.org/2000/svg\" xmlns:xlink=\"http://www.w3.org/1999/xlink\">\n<g id=\"graph0\" class=\"graph\" transform=\"scale(1 1) rotate(0) translate(4 397)\">\n<title>Tree</title>\n<polygon fill=\"white\" stroke=\"none\" points=\"-4,4 -4,-397 511,-397 511,4 -4,4\"/>\n<!-- 0 -->\n<g id=\"node1\" class=\"node\"><title>0</title>\n<path fill=\"none\" stroke=\"black\" d=\"M390,-393C390,-393 237,-393 237,-393 231,-393 225,-387 225,-381 225,-381 225,-322 225,-322 225,-316 231,-310 237,-310 237,-310 390,-310 390,-310 396,-310 402,-316 402,-322 402,-322 402,-381 402,-381 402,-387 396,-393 390,-393\"/>\n<text text-anchor=\"start\" x=\"266\" y=\"-377.8\" font-family=\"Helvetica,sans-Serif\" font-size=\"14.00\">immedi ≤ 0.669</text>\n<text text-anchor=\"start\" x=\"285.5\" y=\"-362.8\" font-family=\"Helvetica,sans-Serif\" font-size=\"14.00\">gini = 0.5</text>\n<text text-anchor=\"start\" x=\"261\" y=\"-347.8\" font-family=\"Helvetica,sans-Serif\" font-size=\"14.00\">samples = 80000</text>\n<text text-anchor=\"start\" x=\"233\" y=\"-332.8\" font-family=\"Helvetica,sans-Serif\" font-size=\"14.00\">value = [40000.0, 40000.0]</text>\n<text text-anchor=\"start\" x=\"263.5\" y=\"-317.8\" font-family=\"Helvetica,sans-Serif\" font-size=\"14.00\">class = Negative</text>\n</g>\n<!-- 1 -->\n<g id=\"node2\" class=\"node\"><title>1</title>\n<path fill=\"#e58139\" fill-opacity=\"0.003922\" stroke=\"black\" d=\"M300,-274C300,-274 117,-274 117,-274 111,-274 105,-268 105,-262 105,-262 105,-203 105,-203 105,-197 111,-191 117,-191 117,-191 300,-191 300,-191 306,-191 312,-197 312,-203 312,-203 312,-262 312,-262 312,-268 306,-274 300,-274\"/>\n<text text-anchor=\"start\" x=\"161\" y=\"-258.8\" font-family=\"Helvetica,sans-Serif\" font-size=\"14.00\">smooth ≤ 0.241</text>\n<text text-anchor=\"start\" x=\"180.5\" y=\"-243.8\" font-family=\"Helvetica,sans-Serif\" font-size=\"14.00\">gini = 0.5</text>\n<text text-anchor=\"start\" x=\"156\" y=\"-228.8\" font-family=\"Helvetica,sans-Serif\" font-size=\"14.00\">samples = 79152</text>\n<text text-anchor=\"start\" x=\"113\" y=\"-213.8\" font-family=\"Helvetica,sans-Serif\" font-size=\"14.00\">value = [39670.696, 39563.093]</text>\n<text text-anchor=\"start\" x=\"158.5\" y=\"-198.8\" font-family=\"Helvetica,sans-Serif\" font-size=\"14.00\">class = Negative</text>\n</g>\n<!-- 0&#45;&gt;1 -->\n<g id=\"edge1\" class=\"edge\"><title>0&#45;&gt;1</title>\n<path fill=\"none\" stroke=\"black\" d=\"M277.071,-309.907C268.845,-300.742 260.037,-290.927 251.567,-281.489\"/>\n<polygon fill=\"black\" stroke=\"black\" points=\"254.149,-279.126 244.865,-274.021 248.939,-283.801 254.149,-279.126\"/>\n<text text-anchor=\"middle\" x=\"243.515\" y=\"-295.284\" font-family=\"Helvetica,sans-Serif\" font-size=\"14.00\">True</text>\n</g>\n<!-- 42 -->\n<g id=\"node7\" class=\"node\"><title>42</title>\n<path fill=\"#399de5\" fill-opacity=\"0.247059\" stroke=\"black\" d=\"M495,-266.5C495,-266.5 342,-266.5 342,-266.5 336,-266.5 330,-260.5 330,-254.5 330,-254.5 330,-210.5 330,-210.5 330,-204.5 336,-198.5 342,-198.5 342,-198.5 495,-198.5 495,-198.5 501,-198.5 507,-204.5 507,-210.5 507,-210.5 507,-254.5 507,-254.5 507,-260.5 501,-266.5 495,-266.5\"/>\n<text text-anchor=\"start\" x=\"386.5\" y=\"-251.3\" font-family=\"Helvetica,sans-Serif\" font-size=\"14.00\">gini = 0.49</text>\n<text text-anchor=\"start\" x=\"373.5\" y=\"-236.3\" font-family=\"Helvetica,sans-Serif\" font-size=\"14.00\">samples = 848</text>\n<text text-anchor=\"start\" x=\"338\" y=\"-221.3\" font-family=\"Helvetica,sans-Serif\" font-size=\"14.00\">value = [329.304, 436.907]</text>\n<text text-anchor=\"start\" x=\"371.5\" y=\"-206.3\" font-family=\"Helvetica,sans-Serif\" font-size=\"14.00\">class = Positive</text>\n</g>\n<!-- 0&#45;&gt;42 -->\n<g id=\"edge6\" class=\"edge\"><title>0&#45;&gt;42</title>\n<path fill=\"none\" stroke=\"black\" d=\"M349.929,-309.907C360.327,-298.321 371.656,-285.698 382.055,-274.111\"/>\n<polygon fill=\"black\" stroke=\"black\" points=\"384.661,-276.447 388.735,-266.667 379.451,-271.772 384.661,-276.447\"/>\n<text text-anchor=\"middle\" x=\"390.084\" y=\"-287.93\" font-family=\"Helvetica,sans-Serif\" font-size=\"14.00\">False</text>\n</g>\n<!-- 2 -->\n<g id=\"node3\" class=\"node\"><title>2</title>\n<path fill=\"#e58139\" fill-opacity=\"0.007843\" stroke=\"black\" d=\"M195,-155C195,-155 12,-155 12,-155 6,-155 0,-149 0,-143 0,-143 0,-84 0,-84 0,-78 6,-72 12,-72 12,-72 195,-72 195,-72 201,-72 207,-78 207,-84 207,-84 207,-143 207,-143 207,-149 201,-155 195,-155\"/>\n<text text-anchor=\"start\" x=\"56.5\" y=\"-139.8\" font-family=\"Helvetica,sans-Serif\" font-size=\"14.00\">contain ≤ 0.539</text>\n<text text-anchor=\"start\" x=\"75.5\" y=\"-124.8\" font-family=\"Helvetica,sans-Serif\" font-size=\"14.00\">gini = 0.5</text>\n<text text-anchor=\"start\" x=\"51\" y=\"-109.8\" font-family=\"Helvetica,sans-Serif\" font-size=\"14.00\">samples = 77805</text>\n<text text-anchor=\"start\" x=\"8\" y=\"-94.8\" font-family=\"Helvetica,sans-Serif\" font-size=\"14.00\">value = [39116.298, 38873.359]</text>\n<text text-anchor=\"start\" x=\"53.5\" y=\"-79.8\" font-family=\"Helvetica,sans-Serif\" font-size=\"14.00\">class = Negative</text>\n</g>\n<!-- 1&#45;&gt;2 -->\n<g id=\"edge2\" class=\"edge\"><title>1&#45;&gt;2</title>\n<path fill=\"none\" stroke=\"black\" d=\"M172.071,-190.907C163.845,-181.742 155.037,-171.927 146.567,-162.489\"/>\n<polygon fill=\"black\" stroke=\"black\" points=\"149.149,-160.126 139.865,-155.021 143.939,-164.801 149.149,-160.126\"/>\n</g>\n<!-- 41 -->\n<g id=\"node6\" class=\"node\"><title>41</title>\n<path fill=\"#399de5\" fill-opacity=\"0.196078\" stroke=\"black\" d=\"M390,-147.5C390,-147.5 237,-147.5 237,-147.5 231,-147.5 225,-141.5 225,-135.5 225,-135.5 225,-91.5 225,-91.5 225,-85.5 231,-79.5 237,-79.5 237,-79.5 390,-79.5 390,-79.5 396,-79.5 402,-85.5 402,-91.5 402,-91.5 402,-135.5 402,-135.5 402,-141.5 396,-147.5 390,-147.5\"/>\n<text text-anchor=\"start\" x=\"278\" y=\"-132.3\" font-family=\"Helvetica,sans-Serif\" font-size=\"14.00\">gini = 0.494</text>\n<text text-anchor=\"start\" x=\"265\" y=\"-117.3\" font-family=\"Helvetica,sans-Serif\" font-size=\"14.00\">samples = 1347</text>\n<text text-anchor=\"start\" x=\"233\" y=\"-102.3\" font-family=\"Helvetica,sans-Serif\" font-size=\"14.00\">value = [554.398, 689.734]</text>\n<text text-anchor=\"start\" x=\"266.5\" y=\"-87.3\" font-family=\"Helvetica,sans-Serif\" font-size=\"14.00\">class = Positive</text>\n</g>\n<!-- 1&#45;&gt;41 -->\n<g id=\"edge5\" class=\"edge\"><title>1&#45;&gt;41</title>\n<path fill=\"none\" stroke=\"black\" d=\"M244.929,-190.907C255.327,-179.321 266.656,-166.698 277.055,-155.111\"/>\n<polygon fill=\"black\" stroke=\"black\" points=\"279.661,-157.447 283.735,-147.667 274.451,-152.772 279.661,-157.447\"/>\n</g>\n<!-- 3 -->\n<g id=\"node4\" class=\"node\"><title>3</title>\n<path fill=\"#c0c0c0\" stroke=\"black\" d=\"M82.5,-36C82.5,-36 52.5,-36 52.5,-36 46.5,-36 40.5,-30 40.5,-24 40.5,-24 40.5,-12 40.5,-12 40.5,-6 46.5,-0 52.5,-0 52.5,-0 82.5,-0 82.5,-0 88.5,-0 94.5,-6 94.5,-12 94.5,-12 94.5,-24 94.5,-24 94.5,-30 88.5,-36 82.5,-36\"/>\n<text text-anchor=\"middle\" x=\"67.5\" y=\"-14.3\" font-family=\"Helvetica,sans-Serif\" font-size=\"14.00\">(...)</text>\n</g>\n<!-- 2&#45;&gt;3 -->\n<g id=\"edge3\" class=\"edge\"><title>2&#45;&gt;3</title>\n<path fill=\"none\" stroke=\"black\" d=\"M87.8146,-71.7615C84.4573,-63.0419 80.9907,-54.0385 77.8927,-45.9921\"/>\n<polygon fill=\"black\" stroke=\"black\" points=\"81.0609,-44.4797 74.2014,-36.4051 74.5284,-46.9949 81.0609,-44.4797\"/>\n</g>\n<!-- 40 -->\n<g id=\"node5\" class=\"node\"><title>40</title>\n<path fill=\"#c0c0c0\" stroke=\"black\" d=\"M154.5,-36C154.5,-36 124.5,-36 124.5,-36 118.5,-36 112.5,-30 112.5,-24 112.5,-24 112.5,-12 112.5,-12 112.5,-6 118.5,-0 124.5,-0 124.5,-0 154.5,-0 154.5,-0 160.5,-0 166.5,-6 166.5,-12 166.5,-12 166.5,-24 166.5,-24 166.5,-30 160.5,-36 154.5,-36\"/>\n<text text-anchor=\"middle\" x=\"139.5\" y=\"-14.3\" font-family=\"Helvetica,sans-Serif\" font-size=\"14.00\">(...)</text>\n</g>\n<!-- 2&#45;&gt;40 -->\n<g id=\"edge4\" class=\"edge\"><title>2&#45;&gt;40</title>\n<path fill=\"none\" stroke=\"black\" d=\"M119.185,-71.7615C122.543,-63.0419 126.009,-54.0385 129.107,-45.9921\"/>\n<polygon fill=\"black\" stroke=\"black\" points=\"132.472,-46.9949 132.799,-36.4051 125.939,-44.4797 132.472,-46.9949\"/>\n</g>\n</g>\n</svg>\n"
          },
          "metadata": {}
        }
      ]
    },
    {
      "metadata": {
        "_uuid": "697c5495bd66f38c426c3f17e8730b2e753d0249"
      },
      "cell_type": "markdown",
      "source": "### Feature Importance"
    },
    {
      "metadata": {
        "trusted": true,
        "_uuid": "f6b4ccf6f84d3f2e3c5311aba41a1a10c5987773"
      },
      "cell_type": "code",
      "source": "ft = classifier.feature_importances_.argsort()\nwords = np.take(cv.get_feature_names(),ft)[::-1]\nfeat_imp = np.take(classifier.feature_importances_,ft)[::-1]\ndf_feat = pd.DataFrame()\ndf_feat['words'] = words\ndf_feat['Importance'] = feat_imp\nprint(\"Feature Importance:- \\n\",df_feat.head(20))",
      "execution_count": 89,
      "outputs": [
        {
          "output_type": "stream",
          "text": "Feature Importance:- \n       words  Importance\n0   conveni    0.099482\n1      part    0.093178\n2   contain    0.071719\n3      leav    0.068249\n4    awesom    0.060636\n5    smooth    0.051566\n6    immedi    0.051314\n7   everyon    0.049762\n8    result    0.049570\n9      away    0.046084\n10     less    0.045777\n11     last    0.044060\n12   origin    0.041923\n13  definit    0.041407\n14   reason    0.037641\n15     care    0.033711\n16    stock    0.030887\n17  qualiti    0.030218\n18     tell    0.027736\n19    order    0.024038\n",
          "name": "stdout"
        }
      ]
    },
    {
      "metadata": {
        "_uuid": "203fcf8d3950316f536a3c4c078686947ddec92c"
      },
      "cell_type": "markdown",
      "source": "### Oversampling to balance the class labels"
    },
    {
      "metadata": {
        "trusted": true,
        "_uuid": "c7a6b8235368707b64d8f757fa08d8426b7b2c37"
      },
      "cell_type": "code",
      "source": "%%time\nprint(\"Count of 1 before oversampling:- \",sum(y_train==1))\nprint(\"Count of 0 before oversampling:- \",sum(y_train==0))\nsm = SMOTE(random_state = 0)\nbow_train_ov,y_train_ov = sm.fit_sample(bow_train,y_train)\nprint(\"Count of 1 after oversampling:- \",sum(y_train_ov==1))\nprint(\"Count of 0 after oversampling:- \",sum(y_train_ov==0))\nprint(\"Shape of x_train data after oversampling:- \",bow_train_ov.shape)\nprint(\"Shape of y_train data after oversampling:- \",y_train_ov.shape)",
      "execution_count": 90,
      "outputs": [
        {
          "output_type": "stream",
          "text": "Count of 1 before oversampling:-  70404\nCount of 0 before oversampling:-  9596\nCount of 1 after oversampling:-  70404\nCount of 0 after oversampling:-  70404\nShape of x_train data after oversampling:-  (140808, 34646)\nShape of y_train data after oversampling:-  (140808,)\nCPU times: user 40.4 s, sys: 1.77 s, total: 42.2 s\nWall time: 42.1 s\n",
          "name": "stdout"
        }
      ]
    },
    {
      "metadata": {
        "_uuid": "793cdf7ef21a1eb59a931f27915e15a5e22e8e52"
      },
      "cell_type": "markdown",
      "source": "### Parameter tuning using GridSearchCV"
    },
    {
      "metadata": {
        "trusted": true,
        "_uuid": "a5f4087b37574a3ce4689d8442f0b7e3d5da4c59"
      },
      "cell_type": "code",
      "source": "%%time\nclassifier = DecisionTreeClassifier(splitter='random',min_samples_leaf=0.01,random_state=0)\nparam = {\"max_depth\":range(10,100,10)}\ngs = GridSearchCV(classifier,param,scoring='f1',cv=5,refit=False,n_jobs=-1)\ngs.fit(bow_train_ov,y_train_ov)\nprint(\"Best estimator:- \",gs.best_params_)\nprint(\"Best score:- \",gs.best_score_)",
      "execution_count": 91,
      "outputs": [
        {
          "output_type": "stream",
          "text": "Best estimator:-  {'max_depth': 20}\nBest score:-  0.7186390985884381\nCPU times: user 316 ms, sys: 116 ms, total: 432 ms\nWall time: 42.6 s\n",
          "name": "stdout"
        }
      ]
    },
    {
      "metadata": {
        "_uuid": "ecb8144d9db09c0cff36173cad3e924990bfc0a6"
      },
      "cell_type": "markdown",
      "source": "### Testing the model with tuned parmaters"
    },
    {
      "metadata": {
        "trusted": true,
        "_uuid": "7f7442496662a259e8659e20ee8bc9d4ed55bf11"
      },
      "cell_type": "code",
      "source": "classifier = DecisionTreeClassifier(splitter='random',max_depth=20,min_samples_leaf=0.01,\n                                    random_state=0)\nclassifier.fit(bow_train_ov,y_train_ov)\nbow_test = cv.transform(x_test)\ny_pred = classifier.predict(bow_test)\nprint(\"f1 score:- \",f1_score(y_test,y_pred))\nprint(\"Test accuracy score:- \",accuracy_score(y_test,y_pred))\nprint(\"Train accuracy score:- \",accuracy_score(y_train,classifier.predict(bow_train)))",
      "execution_count": 92,
      "outputs": [
        {
          "output_type": "stream",
          "text": "f1 score:-  0.814223913110177\nTest accuracy score:-  0.69725\nTrain accuracy score:-  0.696375\n",
          "name": "stdout"
        }
      ]
    },
    {
      "metadata": {
        "_uuid": "e5eb43eaf439ac30171a75d22b99caca9f336009"
      },
      "cell_type": "markdown",
      "source": "### Confusion Matrix of the oversampled data"
    },
    {
      "metadata": {
        "trusted": true,
        "_uuid": "b584ac3bfb1efe7dab4e643a99407ee438764733"
      },
      "cell_type": "code",
      "source": "cm = confusion_matrix(y_test,y_pred)\nprint(\"Confusion Matrix:-\\n\",cm)\nsns.heatmap(cm,annot=True)",
      "execution_count": 93,
      "outputs": [
        {
          "output_type": "stream",
          "text": "Confusion Matrix:-\n [[  676  1999]\n [ 4056 13269]]\n",
          "name": "stdout"
        },
        {
          "output_type": "execute_result",
          "execution_count": 93,
          "data": {
            "text/plain": "<matplotlib.axes._subplots.AxesSubplot at 0x7f2d0213c6d8>"
          },
          "metadata": {}
        },
        {
          "output_type": "display_data",
          "data": {
            "text/plain": "<Figure size 432x288 with 2 Axes>",
            "image/png": "[encoded data removed]"
          },
          "metadata": {}
        }
      ]
    },
    {
      "metadata": {
        "_uuid": "d0005501f8e42c235953d242458bb4f941ca0b37"
      },
      "cell_type": "markdown",
      "source": "#### Balancing the both class labels through oversampling has boosted the accuracy very little. "
    },
    {
      "metadata": {
        "_uuid": "7c1dda0aa07f517284d21129ade6bc5b5cdff786"
      },
      "cell_type": "markdown",
      "source": "### ====================================================================================="
    },
    {
      "metadata": {
        "_uuid": "d4bb6cc4e8d94cc6a6ed85f59272861fe01fb102"
      },
      "cell_type": "markdown",
      "source": "## Tfidf implementation"
    },
    {
      "metadata": {
        "trusted": true,
        "_uuid": "41e2a8d7dfbd772b9b97934c0d2f6720e7f228bd"
      },
      "cell_type": "code",
      "source": "from sklearn.feature_extraction.text import TfidfVectorizer\ntfidf = TfidfVectorizer(sublinear_tf=True)\ntfidf_train = tfidf.fit_transform(x_train)\nprint(\"Shape of tfidf_train:- \",tfidf_train.shape)",
      "execution_count": 47,
      "outputs": [
        {
          "output_type": "stream",
          "text": "Shape of tfidf_train:-  (80000, 34646)\n",
          "name": "stdout"
        }
      ]
    },
    {
      "metadata": {
        "_uuid": "c4c05cfb066862372c9e62bb77e7fe59a49326c4"
      },
      "cell_type": "markdown",
      "source": "### Parameter tuning using GridSearchCV"
    },
    {
      "metadata": {
        "trusted": true,
        "_uuid": "37d5cfee6112bb9730d0b907d36a50d651f6f195"
      },
      "cell_type": "code",
      "source": "%%time\nclassifier = DecisionTreeClassifier(splitter='random',min_samples_leaf=0.01,class_weight='balanced',\n                                    random_state=0)\nparam = {\"max_depth\":range(10,60,5)}\ngs = GridSearchCV(classifier,param,scoring='f1_micro',cv=5,refit=False,n_jobs=-1)\ngs.fit(tfidf_train,y_train)\nprint(\"Best estimator:- \",gs.best_params_)\nprint(\"Best score:- \",gs.best_score_)",
      "execution_count": 52,
      "outputs": [
        {
          "output_type": "stream",
          "text": "Best estimator:-  {'max_depth': 20}\nBest score:-  0.6833375\nCPU times: user 320 ms, sys: 72 ms, total: 392 ms\nWall time: 50.8 s\n",
          "name": "stdout"
        }
      ]
    },
    {
      "metadata": {
        "_uuid": "4cb55ede857bc3ee9dbc5ef4fc8876c09a9744bc"
      },
      "cell_type": "markdown",
      "source": "### Testing the model with the tuned parameters"
    },
    {
      "metadata": {
        "trusted": true,
        "_uuid": "775605318473cdc6e9be949f9aa341a26514810d"
      },
      "cell_type": "code",
      "source": "classifier = DecisionTreeClassifier(splitter='random',max_depth=20,min_samples_leaf=0.01,\n                                    class_weight='balanced',random_state=0)\nclassifier.fit(tfidf_train,y_train)\ntfidf_test = tfidf.transform(x_test)\ny_pred = classifier.predict(tfidf_test)\nprint(\"f1 score:- \",f1_score(y_test,y_pred))\nprint(\"Test accuracy score:- \",accuracy_score(y_test,y_pred))\nprint(\"Train accuracy score:- \",accuracy_score(y_train,classifier.predict(tfidf_train)))",
      "execution_count": 53,
      "outputs": [
        {
          "output_type": "stream",
          "text": "f1 score:-  0.8370846730975349\nTest accuracy score:-  0.7264\nTrain accuracy score:-  0.752675\n",
          "name": "stdout"
        }
      ]
    },
    {
      "metadata": {
        "_uuid": "4775f142566fd891ae8c4844cb424d157ab54781"
      },
      "cell_type": "markdown",
      "source": "### Confusion Matrix"
    },
    {
      "metadata": {
        "trusted": true,
        "_uuid": "fe0456bba1ed2ad4f18efa0b14b31e6d54a2a0ab"
      },
      "cell_type": "code",
      "source": "cm = confusion_matrix(y_test,y_pred)\nprint(\"Confusion Matrix:-\\n\",cm)\nsns.heatmap(cm,annot=True)",
      "execution_count": 54,
      "outputs": [
        {
          "output_type": "stream",
          "text": "Confusion Matrix:-\n [[  470  2205]\n [ 3267 14058]]\n",
          "name": "stdout"
        },
        {
          "output_type": "execute_result",
          "execution_count": 54,
          "data": {
            "text/plain": "<matplotlib.axes._subplots.AxesSubplot at 0x7f2d259c0cc0>"
          },
          "metadata": {}
        },
        {
          "output_type": "display_data",
          "data": {
            "text/plain": "<Figure size 432x288 with 2 Axes>",
            "image/png": "[encoded data removed]"
          },
          "metadata": {}
        }
      ]
    },
    {
      "metadata": {
        "_uuid": "a5fbf7fd262bef28ee87ca26d8a4a3b2f53f3d2c"
      },
      "cell_type": "markdown",
      "source": "### Decision Tree graph visualization"
    },
    {
      "metadata": {
        "trusted": true,
        "_uuid": "9db7386b673ee328639b8bae8056a4b9421ad6b5"
      },
      "cell_type": "code",
      "source": "dot = graphviz.Source(tree.export_graphviz(classifier,out_file=None,max_depth=2,\n                                feature_names=tfidf.get_feature_names(),filled=True,rounded=True,\n                                class_names=['Negative','Positive'],\n                                special_characters=True))\ndot.format = 'png'\ndot.render(\"tfidf_graph\")\ndot",
      "execution_count": 55,
      "outputs": [
        {
          "output_type": "execute_result",
          "execution_count": 55,
          "data": {
            "text/plain": "<graphviz.files.Source at 0x7f2d25f72630>",
            "image/svg+xml": "<?xml version=\"1.0\" encoding=\"UTF-8\" standalone=\"no\"?>\n<!DOCTYPE svg PUBLIC \"-//W3C//DTD SVG 1.1//EN\"\n \"http://www.w3.org/Graphics/SVG/1.1/DTD/svg11.dtd\">\n<!-- Generated by graphviz version 2.38.0 (20140413.2041)\n -->\n<!-- Title: Tree Pages: 1 -->\n<svg width=\"497pt\" height=\"401pt\"\n viewBox=\"0.00 0.00 497.00 401.00\" xmlns=\"http://www.w3.org/2000/svg\" xmlns:xlink=\"http://www.w3.org/1999/xlink\">\n<g id=\"graph0\" class=\"graph\" transform=\"scale(1 1) rotate(0) translate(4 397)\">\n<title>Tree</title>\n<polygon fill=\"white\" stroke=\"none\" points=\"-4,4 -4,-397 493,-397 493,4 -4,4\"/>\n<!-- 0 -->\n<g id=\"node1\" class=\"node\"><title>0</title>\n<path fill=\"none\" stroke=\"black\" d=\"M378.5,-393C378.5,-393 225.5,-393 225.5,-393 219.5,-393 213.5,-387 213.5,-381 213.5,-381 213.5,-322 213.5,-322 213.5,-316 219.5,-310 225.5,-310 225.5,-310 378.5,-310 378.5,-310 384.5,-310 390.5,-316 390.5,-322 390.5,-322 390.5,-381 390.5,-381 390.5,-387 384.5,-393 378.5,-393\"/>\n<text text-anchor=\"start\" x=\"272\" y=\"-377.8\" font-family=\"Helvetica,sans-Serif\" font-size=\"14.00\">leav ≤ 0.1</text>\n<text text-anchor=\"start\" x=\"274\" y=\"-362.8\" font-family=\"Helvetica,sans-Serif\" font-size=\"14.00\">gini = 0.5</text>\n<text text-anchor=\"start\" x=\"249.5\" y=\"-347.8\" font-family=\"Helvetica,sans-Serif\" font-size=\"14.00\">samples = 80000</text>\n<text text-anchor=\"start\" x=\"221.5\" y=\"-332.8\" font-family=\"Helvetica,sans-Serif\" font-size=\"14.00\">value = [40000.0, 40000.0]</text>\n<text text-anchor=\"start\" x=\"252\" y=\"-317.8\" font-family=\"Helvetica,sans-Serif\" font-size=\"14.00\">class = Negative</text>\n</g>\n<!-- 1 -->\n<g id=\"node2\" class=\"node\"><title>1</title>\n<path fill=\"#e58139\" fill-opacity=\"0.003922\" stroke=\"black\" d=\"M289,-274C289,-274 113,-274 113,-274 107,-274 101,-268 101,-262 101,-262 101,-203 101,-203 101,-197 107,-191 113,-191 113,-191 289,-191 289,-191 295,-191 301,-197 301,-203 301,-203 301,-262 301,-262 301,-268 295,-274 289,-274\"/>\n<text text-anchor=\"start\" x=\"161.5\" y=\"-258.8\" font-family=\"Helvetica,sans-Serif\" font-size=\"14.00\">work ≤ 0.186</text>\n<text text-anchor=\"start\" x=\"173\" y=\"-243.8\" font-family=\"Helvetica,sans-Serif\" font-size=\"14.00\">gini = 0.5</text>\n<text text-anchor=\"start\" x=\"148.5\" y=\"-228.8\" font-family=\"Helvetica,sans-Serif\" font-size=\"14.00\">samples = 78551</text>\n<text text-anchor=\"start\" x=\"109\" y=\"-213.8\" font-family=\"Helvetica,sans-Serif\" font-size=\"14.00\">value = [39399.75, 39258.565]</text>\n<text text-anchor=\"start\" x=\"151\" y=\"-198.8\" font-family=\"Helvetica,sans-Serif\" font-size=\"14.00\">class = Negative</text>\n</g>\n<!-- 0&#45;&gt;1 -->\n<g id=\"edge1\" class=\"edge\"><title>0&#45;&gt;1</title>\n<path fill=\"none\" stroke=\"black\" d=\"M266.959,-309.907C259.124,-300.832 250.741,-291.121 242.669,-281.769\"/>\n<polygon fill=\"black\" stroke=\"black\" points=\"245.163,-279.303 235.98,-274.021 239.865,-283.878 245.163,-279.303\"/>\n<text text-anchor=\"middle\" x=\"234.15\" y=\"-295.254\" font-family=\"Helvetica,sans-Serif\" font-size=\"14.00\">True</text>\n</g>\n<!-- 42 -->\n<g id=\"node7\" class=\"node\"><title>42</title>\n<path fill=\"#399de5\" fill-opacity=\"0.192157\" stroke=\"black\" d=\"M477,-266.5C477,-266.5 331,-266.5 331,-266.5 325,-266.5 319,-260.5 319,-254.5 319,-254.5 319,-210.5 319,-210.5 319,-204.5 325,-198.5 331,-198.5 331,-198.5 477,-198.5 477,-198.5 483,-198.5 489,-204.5 489,-210.5 489,-210.5 489,-254.5 489,-254.5 489,-260.5 483,-266.5 477,-266.5\"/>\n<text text-anchor=\"start\" x=\"368.5\" y=\"-251.3\" font-family=\"Helvetica,sans-Serif\" font-size=\"14.00\">gini = 0.494</text>\n<text text-anchor=\"start\" x=\"355.5\" y=\"-236.3\" font-family=\"Helvetica,sans-Serif\" font-size=\"14.00\">samples = 1449</text>\n<text text-anchor=\"start\" x=\"327\" y=\"-221.3\" font-family=\"Helvetica,sans-Serif\" font-size=\"14.00\">value = [600.25, 741.435]</text>\n<text text-anchor=\"start\" x=\"357\" y=\"-206.3\" font-family=\"Helvetica,sans-Serif\" font-size=\"14.00\">class = Positive</text>\n</g>\n<!-- 0&#45;&gt;42 -->\n<g id=\"edge6\" class=\"edge\"><title>0&#45;&gt;42</title>\n<path fill=\"none\" stroke=\"black\" d=\"M337.388,-309.907C347.393,-298.432 358.285,-285.938 368.307,-274.442\"/>\n<polygon fill=\"black\" stroke=\"black\" points=\"371.152,-276.505 375.085,-266.667 365.876,-271.905 371.152,-276.505\"/>\n<text text-anchor=\"middle\" x=\"376.794\" y=\"-287.909\" font-family=\"Helvetica,sans-Serif\" font-size=\"14.00\">False</text>\n</g>\n<!-- 2 -->\n<g id=\"node3\" class=\"node\"><title>2</title>\n<path fill=\"#e58139\" fill-opacity=\"0.007843\" stroke=\"black\" d=\"M188,-155C188,-155 12,-155 12,-155 6,-155 0,-149 0,-143 0,-143 0,-84 0,-84 0,-78 6,-72 12,-72 12,-72 188,-72 188,-72 194,-72 200,-78 200,-84 200,-84 200,-143 200,-143 200,-149 194,-155 188,-155\"/>\n<text text-anchor=\"start\" x=\"52.5\" y=\"-139.8\" font-family=\"Helvetica,sans-Serif\" font-size=\"14.00\">smooth ≤ 0.036</text>\n<text text-anchor=\"start\" x=\"72\" y=\"-124.8\" font-family=\"Helvetica,sans-Serif\" font-size=\"14.00\">gini = 0.5</text>\n<text text-anchor=\"start\" x=\"47.5\" y=\"-109.8\" font-family=\"Helvetica,sans-Serif\" font-size=\"14.00\">samples = 77749</text>\n<text text-anchor=\"start\" x=\"8\" y=\"-94.8\" font-family=\"Helvetica,sans-Serif\" font-size=\"14.00\">value = [39112.13, 38842.111]</text>\n<text text-anchor=\"start\" x=\"50\" y=\"-79.8\" font-family=\"Helvetica,sans-Serif\" font-size=\"14.00\">class = Negative</text>\n</g>\n<!-- 1&#45;&gt;2 -->\n<g id=\"edge2\" class=\"edge\"><title>1&#45;&gt;2</title>\n<path fill=\"none\" stroke=\"black\" d=\"M165.959,-190.907C158.124,-181.832 149.741,-172.121 141.669,-162.769\"/>\n<polygon fill=\"black\" stroke=\"black\" points=\"144.163,-160.303 134.98,-155.021 138.865,-164.878 144.163,-160.303\"/>\n</g>\n<!-- 41 -->\n<g id=\"node6\" class=\"node\"><title>41</title>\n<path fill=\"#399de5\" fill-opacity=\"0.309804\" stroke=\"black\" d=\"M376,-147.5C376,-147.5 230,-147.5 230,-147.5 224,-147.5 218,-141.5 218,-135.5 218,-135.5 218,-91.5 218,-91.5 218,-85.5 224,-79.5 230,-79.5 230,-79.5 376,-79.5 376,-79.5 382,-79.5 388,-85.5 388,-91.5 388,-91.5 388,-135.5 388,-135.5 388,-141.5 382,-147.5 376,-147.5\"/>\n<text text-anchor=\"start\" x=\"267.5\" y=\"-132.3\" font-family=\"Helvetica,sans-Serif\" font-size=\"14.00\">gini = 0.483</text>\n<text text-anchor=\"start\" x=\"258\" y=\"-117.3\" font-family=\"Helvetica,sans-Serif\" font-size=\"14.00\">samples = 802</text>\n<text text-anchor=\"start\" x=\"226\" y=\"-102.3\" font-family=\"Helvetica,sans-Serif\" font-size=\"14.00\">value = [287.62, 416.454]</text>\n<text text-anchor=\"start\" x=\"256\" y=\"-87.3\" font-family=\"Helvetica,sans-Serif\" font-size=\"14.00\">class = Positive</text>\n</g>\n<!-- 1&#45;&gt;41 -->\n<g id=\"edge5\" class=\"edge\"><title>1&#45;&gt;41</title>\n<path fill=\"none\" stroke=\"black\" d=\"M236.388,-190.907C246.393,-179.432 257.285,-166.938 267.307,-155.442\"/>\n<polygon fill=\"black\" stroke=\"black\" points=\"270.152,-157.505 274.085,-147.667 264.876,-152.905 270.152,-157.505\"/>\n</g>\n<!-- 3 -->\n<g id=\"node4\" class=\"node\"><title>3</title>\n<path fill=\"#c0c0c0\" stroke=\"black\" d=\"M79,-36C79,-36 49,-36 49,-36 43,-36 37,-30 37,-24 37,-24 37,-12 37,-12 37,-6 43,-0 49,-0 49,-0 79,-0 79,-0 85,-0 91,-6 91,-12 91,-12 91,-24 91,-24 91,-30 85,-36 79,-36\"/>\n<text text-anchor=\"middle\" x=\"64\" y=\"-14.3\" font-family=\"Helvetica,sans-Serif\" font-size=\"14.00\">(...)</text>\n</g>\n<!-- 2&#45;&gt;3 -->\n<g id=\"edge3\" class=\"edge\"><title>2&#45;&gt;3</title>\n<path fill=\"none\" stroke=\"black\" d=\"M84.3146,-71.7615C80.9573,-63.0419 77.4907,-54.0385 74.3927,-45.9921\"/>\n<polygon fill=\"black\" stroke=\"black\" points=\"77.5609,-44.4797 70.7014,-36.4051 71.0284,-46.9949 77.5609,-44.4797\"/>\n</g>\n<!-- 40 -->\n<g id=\"node5\" class=\"node\"><title>40</title>\n<path fill=\"#c0c0c0\" stroke=\"black\" d=\"M151,-36C151,-36 121,-36 121,-36 115,-36 109,-30 109,-24 109,-24 109,-12 109,-12 109,-6 115,-0 121,-0 121,-0 151,-0 151,-0 157,-0 163,-6 163,-12 163,-12 163,-24 163,-24 163,-30 157,-36 151,-36\"/>\n<text text-anchor=\"middle\" x=\"136\" y=\"-14.3\" font-family=\"Helvetica,sans-Serif\" font-size=\"14.00\">(...)</text>\n</g>\n<!-- 2&#45;&gt;40 -->\n<g id=\"edge4\" class=\"edge\"><title>2&#45;&gt;40</title>\n<path fill=\"none\" stroke=\"black\" d=\"M115.685,-71.7615C119.043,-63.0419 122.509,-54.0385 125.607,-45.9921\"/>\n<polygon fill=\"black\" stroke=\"black\" points=\"128.972,-46.9949 129.299,-36.4051 122.439,-44.4797 128.972,-46.9949\"/>\n</g>\n</g>\n</svg>\n"
          },
          "metadata": {}
        }
      ]
    },
    {
      "metadata": {
        "_uuid": "344fa7cb24a2d8008feef1581583c81937880041"
      },
      "cell_type": "markdown",
      "source": "### Feature Importance"
    },
    {
      "metadata": {
        "trusted": true,
        "_uuid": "b1d636276c0a6c4f70564b93ed976c0a9e1019c0"
      },
      "cell_type": "code",
      "source": "ft = classifier.feature_importances_.argsort()\nwords = np.take(tfidf.get_feature_names(),ft)[::-1]\nfeat_imp = np.take(classifier.feature_importances_,ft)[::-1]\ndf_feat = pd.DataFrame()\ndf_feat['words'] = words\ndf_feat['Importance'] = feat_imp\nprint(\"Feature Importance:- \\n\",df_feat.head(20))",
      "execution_count": 56,
      "outputs": [
        {
          "output_type": "stream",
          "text": "Feature Importance:- \n        words  Importance\n0     delici    0.082415\n1       bean    0.078826\n2     result    0.074030\n3    conveni    0.068269\n4       work    0.066656\n5    definit    0.058383\n6    contain    0.053817\n7       take    0.052037\n8   sandwich    0.051115\n9     expens    0.050673\n10      care    0.050659\n11    smooth    0.046337\n12      glad    0.044688\n13      leav    0.041522\n14      milk    0.041491\n15     never    0.040010\n16   regular    0.033524\n17       red    0.031112\n18    reason    0.030642\n19      like    0.003795\n",
          "name": "stdout"
        }
      ]
    },
    {
      "metadata": {
        "_uuid": "fb38b568c98239e47152d0359371c1996728ea0e"
      },
      "cell_type": "markdown",
      "source": "### ======================================================================================="
    },
    {
      "metadata": {
        "_uuid": "48c0c10cb96e2409b4c1bda6db06b650440bdf81"
      },
      "cell_type": "markdown",
      "source": "## Word2Vec"
    },
    {
      "metadata": {
        "trusted": true,
        "_uuid": "75da439c6d60f4d1ae8f44c98b9ef25547ef1e02"
      },
      "cell_type": "code",
      "source": "#Function to create list of sentences\ndef sent_list(x):\n    list_of_sent = []\n    for sent in tqdm(x):\n        words = []\n        for w in sent.split():\n            words.append(w)\n        list_of_sent.append(words)\n    return list_of_sent",
      "execution_count": 57,
      "outputs": []
    },
    {
      "metadata": {
        "trusted": true,
        "_uuid": "b9f355936cc8159906852544da0bd6e47f02af1f"
      },
      "cell_type": "code",
      "source": "#implementing word2vec\nfrom gensim.models import Word2Vec\nsent_train = sent_list(x_train)\nw2v = Word2Vec(sent_train,size=50,min_count=2,workers=4)",
      "execution_count": 58,
      "outputs": [
        {
          "output_type": "stream",
          "text": "100%|██████████| 80000/80000 [00:00<00:00, 93719.77it/s] \n",
          "name": "stderr"
        }
      ]
    },
    {
      "metadata": {
        "_uuid": "e36448710398da544ca0c15353ca474fdf91c07b"
      },
      "cell_type": "markdown",
      "source": "## Average word2vec implementation"
    },
    {
      "metadata": {
        "trusted": true,
        "_uuid": "03fd8f87857e51b165a8adba567d87e3edd5bf5f"
      },
      "cell_type": "code",
      "source": "#Function to create avg word2vec vector\ndef avgw2v(x):\n    avgw2v_vec = []\n    for sent in tqdm(x):\n        sent_vec = np.zeros(50)\n        count = 0\n        for word in sent:\n            try:\n                vec = w2v.wv[word]\n                sent_vec+=vec\n                count+=1\n            except:\n                pass\n        sent_vec/=count\n        avgw2v_vec.append(sent_vec)\n    return avgw2v_vec",
      "execution_count": 59,
      "outputs": []
    },
    {
      "metadata": {
        "trusted": true,
        "_uuid": "dad5a8224a1f76380ce3d843cf5c5dc47dc986b8"
      },
      "cell_type": "code",
      "source": "#Creating average word2vec training data\navgw2v_train = np.array(avgw2v(sent_train))\nprint(\"Shape of avg word2vec train data:- \",avgw2v_train.shape)",
      "execution_count": 60,
      "outputs": [
        {
          "output_type": "stream",
          "text": "100%|██████████| 80000/80000 [00:11<00:00, 7187.71it/s]\n",
          "name": "stderr"
        },
        {
          "output_type": "stream",
          "text": "Shape of avg word2vec train data:-  (80000, 50)\n",
          "name": "stdout"
        }
      ]
    },
    {
      "metadata": {
        "_uuid": "fbd6663a7ae44325cd45aadfe97cf43c7566bd66"
      },
      "cell_type": "markdown",
      "source": "### Parameter tuning using GridSearchCV"
    },
    {
      "metadata": {
        "trusted": true,
        "_uuid": "0a4b932b5a1ae421ad8edf0a6ba31bcfe6af12f7"
      },
      "cell_type": "code",
      "source": "%%time\nclassifier = DecisionTreeClassifier(splitter='random',min_samples_leaf=0.005,\n                                    class_weight='balanced',random_state=0)\nparam = {\"max_depth\":range(10,100,10)}\ngs = GridSearchCV(classifier,param,scoring='f1_micro',cv=5,refit=False,n_jobs=-1)\ngs.fit(avgw2v_train,y_train)\nprint(\"Best estimator:- \",gs.best_params_)\nprint(\"Best score:- \",gs.best_score_)",
      "execution_count": 67,
      "outputs": [
        {
          "output_type": "stream",
          "text": "Best estimator:-  {'max_depth': 20}\nBest score:-  0.5176375\nCPU times: user 264 ms, sys: 60 ms, total: 324 ms\nWall time: 10.9 s\n",
          "name": "stdout"
        }
      ]
    },
    {
      "metadata": {
        "_uuid": "8b8241cf983dc43787fcd09f2b215455785f7ebc"
      },
      "cell_type": "markdown",
      "source": "### Testing the model with tuned parameters"
    },
    {
      "metadata": {
        "trusted": true,
        "_uuid": "85955de5f7107cbdfe761c57d336a90e5d70683f"
      },
      "cell_type": "code",
      "source": "classifier = DecisionTreeClassifier(splitter='random',max_depth=20,min_samples_leaf=0.005,\n                                    class_weight='balanced',random_state=0)\nclassifier.fit(avgw2v_train,y_train)\nsent_test = sent_list(x_test)\navgw2v_test = np.array(avgw2v(sent_test))\ny_pred = classifier.predict(avgw2v_test)\nprint(\"f1 score:- \",f1_score(y_test,y_pred))\nprint(\"Test accuracy score:- \",accuracy_score(y_test,y_pred))\nprint(\"Train accuracy score:- \",accuracy_score(y_train,classifier.predict(avgw2v_train)))",
      "execution_count": 68,
      "outputs": [
        {
          "output_type": "stream",
          "text": "100%|██████████| 20000/20000 [00:00<00:00, 127187.61it/s]\n100%|██████████| 20000/20000 [00:02<00:00, 7241.49it/s]\n",
          "name": "stderr"
        },
        {
          "output_type": "stream",
          "text": "f1 score:-  0.65608238575413\nTest accuracy score:-  0.5191\nTrain accuracy score:-  0.5475375\n",
          "name": "stdout"
        }
      ]
    },
    {
      "metadata": {
        "_uuid": "145b90b6df20d34f7aa26ba5941254d59e525bce"
      },
      "cell_type": "markdown",
      "source": "### Confusion Matrix"
    },
    {
      "metadata": {
        "trusted": true,
        "_uuid": "90232850b167605caefac37a06889a19acbb988b"
      },
      "cell_type": "code",
      "source": "cm = confusion_matrix(y_test,y_pred)\nprint(\"Confusion Matrix:-\\n\",cm)\nsns.heatmap(cm,annot=True)",
      "execution_count": 69,
      "outputs": [
        {
          "output_type": "stream",
          "text": "Confusion Matrix:-\n [[1208 1467]\n [8151 9174]]\n",
          "name": "stdout"
        },
        {
          "output_type": "execute_result",
          "execution_count": 69,
          "data": {
            "text/plain": "<matplotlib.axes._subplots.AxesSubplot at 0x7f2cf09f8d68>"
          },
          "metadata": {}
        },
        {
          "output_type": "display_data",
          "data": {
            "text/plain": "<Figure size 432x288 with 2 Axes>",
            "image/png": "[encoded data removed]"
          },
          "metadata": {}
        }
      ]
    },
    {
      "metadata": {
        "_uuid": "4cf7ea6a048a64ae690763faeb41369368a94630"
      },
      "cell_type": "markdown",
      "source": "### ======================================================================================="
    },
    {
      "metadata": {
        "_uuid": "d6eb1ba8d180a83364b5a530f8f38638d1b83162"
      },
      "cell_type": "markdown",
      "source": "## Tfidf word2vec implementation"
    },
    {
      "metadata": {
        "trusted": true,
        "_uuid": "7d9ee7c7ed3261b1abd8f42498ca52cf25cacdef"
      },
      "cell_type": "code",
      "source": "#Function for creating tfidf weighted Word2Vec\ndef tfidfw2v(x):\n    dictionary = dict(zip(tfidf.get_feature_names(),list(tfidf.idf_)))\n    tfidf_w2v_vec = []\n    i=0\n    for sent in tqdm(x):\n        sent_vec = np.zeros(50)\n        weights = 0\n        for word in sent:\n            try:\n                vec = w2v.wv[word]\n                tfidf_value = dictionary[word]*sent.count(word)\n                sent_vec+=(tfidf_value*vec)\n                weights+=tfidf_value\n            except:\n                pass\n        sent_vec/=weights\n        tfidf_w2v_vec.append(sent_vec)\n        i+=1\n    return tfidf_w2v_vec",
      "execution_count": 71,
      "outputs": []
    },
    {
      "metadata": {
        "trusted": true,
        "_uuid": "53bd06e3f5386fba85cba692ab96e033a7f5c86c"
      },
      "cell_type": "code",
      "source": "tfidfw2v_train = np.array(tfidfw2v(sent_train))\nprint(\"Shape of tfidf avgw2v train vector:- \",tfidfw2v_train.shape)",
      "execution_count": 72,
      "outputs": [
        {
          "output_type": "stream",
          "text": "100%|██████████| 80000/80000 [00:30<00:00, 2657.45it/s]\n",
          "name": "stderr"
        },
        {
          "output_type": "stream",
          "text": "Shape of tfidf avgw2v train vector:-  (80000, 50)\n",
          "name": "stdout"
        }
      ]
    },
    {
      "metadata": {
        "_uuid": "1d359eefcccdaa0daf8e8e422d9aa8ad96688193"
      },
      "cell_type": "markdown",
      "source": "### Parameter tuning using GridSearchCV"
    },
    {
      "metadata": {
        "trusted": true,
        "_uuid": "95bb3517a4349a8b5ff0c8eb07382cd9f5866ee9"
      },
      "cell_type": "code",
      "source": "%%time\nclassifier = DecisionTreeClassifier(splitter='random',min_samples_leaf=0.001,class_weight='balanced',\n                                    random_state=0)\nparam = {\"max_depth\":range(10,100,10)}\ngs = GridSearchCV(classifier,param,scoring='f1_micro',cv=5,refit=False,n_jobs=-1)\ngs.fit(tfidfw2v_train,y_train)\nprint(\"Best estimator:- \",gs.best_params_)\nprint(\"Best score:- \",gs.best_score_)",
      "execution_count": 81,
      "outputs": [
        {
          "output_type": "stream",
          "text": "Best estimator:-  {'max_depth': 40}\nBest score:-  0.5366\nCPU times: user 244 ms, sys: 72 ms, total: 316 ms\nWall time: 13.2 s\n",
          "name": "stdout"
        }
      ]
    },
    {
      "metadata": {
        "_uuid": "43df4e095dbf057b9c1699844a57bbccd2580a8d"
      },
      "cell_type": "markdown",
      "source": "### Testing the model with the tuned parameter"
    },
    {
      "metadata": {
        "trusted": true,
        "_uuid": "66ad46a361aa40c2c696b79058980c77bc4c62d1"
      },
      "cell_type": "code",
      "source": "classifier = DecisionTreeClassifier(splitter='random',max_depth=40,min_samples_leaf=0.001,\n                                    class_weight='balanced',random_state=0)\nclassifier.fit(tfidfw2v_train,y_train)\ntfidfw2v_test = np.array(tfidfw2v(sent_test))\ny_pred = classifier.predict(tfidfw2v_test)\nprint(\"f1 score:- \",f1_score(y_test,y_pred))\nprint(\"Test accuracy score:- \",accuracy_score(y_test,y_pred))\nprint(\"Train accuracy score:- \",accuracy_score(y_train,classifier.predict(tfidfw2v_train)))",
      "execution_count": 82,
      "outputs": [
        {
          "output_type": "stream",
          "text": "100%|██████████| 20000/20000 [00:06<00:00, 2902.41it/s]\n",
          "name": "stderr"
        },
        {
          "output_type": "stream",
          "text": "f1 score:-  0.6538489234535897\nTest accuracy score:-  0.5193\nTrain accuracy score:-  0.5769375\n",
          "name": "stdout"
        }
      ]
    },
    {
      "metadata": {
        "_uuid": "6784d846a1ef65db03a02396a8d50c8e4e05d323"
      },
      "cell_type": "markdown",
      "source": "### Confusion Matrix"
    },
    {
      "metadata": {
        "trusted": true,
        "_uuid": "0b1c056d3943bb31305a85082fe079e1a6a1e5d9"
      },
      "cell_type": "code",
      "source": "cm = confusion_matrix(y_test,y_pred)\nprint(\"Confusion Matrix:- \\n\",cm)\nsns.heatmap(cm,annot = True)",
      "execution_count": 83,
      "outputs": [
        {
          "output_type": "stream",
          "text": "Confusion Matrix:- \n [[1306 1369]\n [8245 9080]]\n",
          "name": "stdout"
        },
        {
          "output_type": "execute_result",
          "execution_count": 83,
          "data": {
            "text/plain": "<matplotlib.axes._subplots.AxesSubplot at 0x7f2d021f0da0>"
          },
          "metadata": {}
        },
        {
          "output_type": "display_data",
          "data": {
            "text/plain": "<Figure size 432x288 with 2 Axes>",
            "image/png": "[encoded data removed]"
          },
          "metadata": {}
        }
      ]
    },
    {
      "metadata": {
        "_uuid": "eb1019a8d1328ec2839da7f2039050b2762f55aa"
      },
      "cell_type": "markdown",
      "source": "### ======================================================================================"
    },
    {
      "metadata": {
        "_uuid": "fdf6f017df13f9773616c8982f8df60fa210ae4d"
      },
      "cell_type": "markdown",
      "source": "## Results:-\n\n| Model | Hyperparameter(C) | Training Accuracy | Test Accuracy |\n| - | - | - | - |\n| Bag of Words | 20 | 67.2 | 66.9 |\n|Tfidf | 20 | 75.2 | 72.6 |\n| Avg Word2Vec | 20 | 54.7 | 51.9 |\n| Tfidf Word2Vec | 40 | 57.6 | 51.93 |"
    },
    {
      "metadata": {
        "_uuid": "5b1e76188299fc97fd9a4c42317fe990db2964a6"
      },
      "cell_type": "markdown",
      "source": "## ===================================================================="
    }
  ],
  "metadata": {
    "kernelspec": {
      "display_name": "Python 3",
      "language": "python",
      "name": "python3"
    },
    "language_info": {
      "name": "python",
      "version": "3.6.6",
      "mimetype": "text/x-python",
      "codemirror_mode": {
        "name": "ipython",
        "version": 3
      },
      "pygments_lexer": "ipython3",
      "nbconvert_exporter": "python",
      "file_extension": ".py"
    }
  },
  "nbformat": 4,
  "nbformat_minor": 1
}