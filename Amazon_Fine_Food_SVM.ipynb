{
  "nbformat": 4,
  "nbformat_minor": 0,
  "metadata": {
    "colab": {
      "name": "SVM on AmazonFineFoodReview.ipynb",
      "version": "0.3.2",
      "provenance": [],
      "collapsed_sections": [
        "ftOq1E6d_bL_",
        "tw1fjaYCpDqs",
        "nguE789fYSM2",
        "YYxp6bXbqJiS",
        "XrxzPZuS3dJ2"
      ]
    },
    "kernelspec": {
      "name": "python3",
      "display_name": "Python 3"
    }
  },
  "cells": [
    {
      "metadata": {
        "id": "cbvwkRTIlhbN",
        "colab_type": "text"
      },
      "cell_type": "markdown",
      "source": [
        "## Importing necessary libraries"
      ]
    },
    {
      "metadata": {
        "id": "WxShgtCplTZe",
        "colab_type": "code",
        "outputId": "0bc1cc02-1a77-46b3-cb96-99a61819a6aa",
        "colab": {
          "base_uri": "https://localhost:8080/",
          "height": 122
        }
      },
      "cell_type": "code",
      "source": [
        "from google.colab import drive\n",
        "drive.mount('/content/drive')\n",
        "\n",
        "import warnings\n",
        "warnings.filterwarnings(\"ignore\")\n",
        "\n",
        "import numpy as np\n",
        "import pandas as pd\n",
        "import matplotlib.pyplot as plt\n",
        "import seaborn as sns\n",
        "import sqlite3\n",
        "from tqdm import tqdm\n",
        "import os\n",
        "\n",
        "from sklearn.metrics import confusion_matrix\n",
        "from sklearn.metrics import accuracy_score\n",
        "from sklearn.metrics import f1_score"
      ],
      "execution_count": 1,
      "outputs": [
        {
          "output_type": "stream",
          "text": [
            "Go to this URL in a browser: https://accounts.google.com/o/oauth2/auth?client_id=947318989803-6bn6qk8qdgf4n4g3pfee6491hc0brc4i.apps.googleusercontent.com&redirect_uri=urn%3Aietf%3Awg%3Aoauth%3A2.0%3Aoob&scope=email%20https%3A%2F%2Fwww.googleapis.com%2Fauth%2Fdocs.test%20https%3A%2F%2Fwww.googleapis.com%2Fauth%2Fdrive%20https%3A%2F%2Fwww.googleapis.com%2Fauth%2Fdrive.photos.readonly%20https%3A%2F%2Fwww.googleapis.com%2Fauth%2Fpeopleapi.readonly&response_type=code\n",
            "\n",
            "Enter your authorization code:\n",
            "··········\n",
            "Mounted at /content/drive\n"
          ],
          "name": "stdout"
        }
      ]
    },
    {
      "metadata": {
        "id": "6b33FxQVoNDw",
        "colab_type": "text"
      },
      "cell_type": "markdown",
      "source": [
        "## Loading already prepared corpus"
      ]
    },
    {
      "metadata": {
        "id": "9Ix8aKvrlf6g",
        "colab_type": "code",
        "outputId": "2f2d3351-d135-462c-85cc-cff32811379c",
        "colab": {
          "base_uri": "https://localhost:8080/",
          "height": 119
        }
      },
      "cell_type": "code",
      "source": [
        "df = pd.read_csv(\"/content/drive/My Drive/Colab Notebooks/Fine_Food_Review/corpus.csv\")\n",
        "print(df.head())"
      ],
      "execution_count": 2,
      "outputs": [
        {
          "output_type": "stream",
          "text": [
            "                                                Text       Time  Score\n",
            "0  witti littl book make son laugh loud recit car...  939340800      1\n",
            "1  grew read sendak book watch realli rosi movi i...  940809600      1\n",
            "2  fun way children learn month year learn poem t...  944092800      1\n",
            "3  great littl book read aloud nice rhythm well g...  944438400      1\n",
            "4  book poetri month year goe month cute littl po...  946857600      1\n"
          ],
          "name": "stdout"
        }
      ]
    },
    {
      "metadata": {
        "id": "xTTNmBB5nmEC",
        "colab_type": "text"
      },
      "cell_type": "markdown",
      "source": [
        "### Since the dataset is very large so taking out 100K points to work on."
      ]
    },
    {
      "metadata": {
        "id": "Ptwaf7iknkks",
        "colab_type": "code",
        "outputId": "eebed78e-932c-43f1-d0e2-e1484ed5593f",
        "colab": {
          "base_uri": "https://localhost:8080/",
          "height": 187
        }
      },
      "cell_type": "code",
      "source": [
        "df1k = df.loc[:19999,:]\n",
        "print(\"Shape:- \",df1k.shape)\n",
        "print(df1k.head())\n",
        "df1k['Score'].value_counts()"
      ],
      "execution_count": 4,
      "outputs": [
        {
          "output_type": "stream",
          "text": [
            "Shape:-  (20000, 3)\n",
            "                                                Text       Time  Score\n",
            "0  witti littl book make son laugh loud recit car...  939340800      1\n",
            "1  grew read sendak book watch realli rosi movi i...  940809600      1\n",
            "2  fun way children learn month year learn poem t...  944092800      1\n",
            "3  great littl book read aloud nice rhythm well g...  944438400      1\n",
            "4  book poetri month year goe month cute littl po...  946857600      1\n"
          ],
          "name": "stdout"
        },
        {
          "output_type": "execute_result",
          "data": {
            "text/plain": [
              "1    17826\n",
              "0     2174\n",
              "Name: Score, dtype: int64"
            ]
          },
          "metadata": {
            "tags": []
          },
          "execution_count": 4
        }
      ]
    },
    {
      "metadata": {
        "id": "d3TKuCuTntjO",
        "colab_type": "text"
      },
      "cell_type": "markdown",
      "source": [
        "## Function for time based splitting into train and test data"
      ]
    },
    {
      "metadata": {
        "id": "A74KeChrns45",
        "colab_type": "code",
        "colab": {}
      },
      "cell_type": "code",
      "source": [
        "from sklearn.model_selection import TimeSeriesSplit\n",
        "def timesplit(x,y):\n",
        "    ts = TimeSeriesSplit(n_splits = 4)\n",
        "    for train_index,test_index in ts.split(x):\n",
        "        x_train,x_test = x[train_index],x[test_index]\n",
        "        y_train,y_test = y[train_index],y[test_index]\n",
        "    return x_train,y_train,x_test,y_test\n",
        "\n",
        "x_train,y_train,x_test,y_test = timesplit(df1k[\"Text\"].values,df1k[\"Score\"].values)"
      ],
      "execution_count": 0,
      "outputs": []
    },
    {
      "metadata": {
        "id": "aAwH2FL6B_CQ",
        "colab_type": "code",
        "outputId": "271dfd16-809e-4485-a05a-d7e1d7f9da0e",
        "colab": {
          "base_uri": "https://localhost:8080/",
          "height": 85
        }
      },
      "cell_type": "code",
      "source": [
        "df1k = df.loc[:99999,:]\n",
        "print(\"Shape:- \",df1k.shape)\n",
        "#print(df1k.head())\n",
        "print(df1k['Score'].value_counts())\n",
        "x_train_1L,y_train_1L,x_test_1L,y_test_1L = timesplit(df1k[\"Text\"].values,df1k[\"Score\"].values)"
      ],
      "execution_count": 6,
      "outputs": [
        {
          "output_type": "stream",
          "text": [
            "Shape:-  (100000, 3)\n",
            "1    87729\n",
            "0    12271\n",
            "Name: Score, dtype: int64\n"
          ],
          "name": "stdout"
        }
      ]
    },
    {
      "metadata": {
        "id": "oJ4FOpXTNclm",
        "colab_type": "text"
      },
      "cell_type": "markdown",
      "source": [
        "### Function for feature importance"
      ]
    },
    {
      "metadata": {
        "id": "i9JP8hZNNdnu",
        "colab_type": "code",
        "colab": {}
      },
      "cell_type": "code",
      "source": [
        "def imp_features(model,classifier):\n",
        "    voc = model.get_feature_names()\n",
        "    w = list(classifier.coef_[0])\n",
        "    pos_coef = []\n",
        "    neg_coef = []\n",
        "    pos_words = []\n",
        "    neg_words = []\n",
        "    for i,c in enumerate(w):\n",
        "        if c > 0:\n",
        "            pos_coef.append(c)\n",
        "            pos_words.append(voc[i])\n",
        "        if c < 0:\n",
        "            neg_coef.append(abs(c))\n",
        "            neg_words.append(voc[i])\n",
        "    pos_df = pd.DataFrame(columns = ['Words','Coef'])\n",
        "    neg_df = pd.DataFrame(columns = ['Words','Coef'])\n",
        "    pos_df['Words'] = pos_words\n",
        "    pos_df['Coef'] = pos_coef\n",
        "    neg_df['Words'] = neg_words\n",
        "    neg_df['Coef'] = neg_coef\n",
        "    pos_df = pos_df.sort_values(\"Coef\",axis = 0,ascending = False).reset_index(drop=True)\n",
        "    neg_df = neg_df.sort_values(\"Coef\",axis = 0,ascending = False).reset_index(drop=True)\n",
        "    print(\"Shape of Positive dataframe:- ,\",pos_df.shape)\n",
        "    print(\"Shape of Negative dataframe:- \",neg_df.shape)\n",
        "    print(\"Top ten positive predictors:- \\n\",pos_df.head(10))\n",
        "    print(\"\\nTop ten negative predictors:- \\n\",neg_df.head(10))"
      ],
      "execution_count": 0,
      "outputs": []
    },
    {
      "metadata": {
        "id": "yPnSU5zAn3EI",
        "colab_type": "text"
      },
      "cell_type": "markdown",
      "source": [
        "## Bag of Words"
      ]
    },
    {
      "metadata": {
        "id": "RcGT5Umrn2Mq",
        "colab_type": "code",
        "outputId": "3bbcc5b3-8139-4af7-c8da-7193e66ddfe2",
        "colab": {
          "base_uri": "https://localhost:8080/",
          "height": 34
        }
      },
      "cell_type": "code",
      "source": [
        "from sklearn.feature_extraction.text import CountVectorizer\n",
        "cv = CountVectorizer(min_df=10,max_features=500)\n",
        "bow_train = cv.fit_transform(x_train)\n",
        "print(\"Shape of BOW vector:- \",bow_train.shape)"
      ],
      "execution_count": 0,
      "outputs": [
        {
          "output_type": "stream",
          "text": [
            "Shape of BOW vector:-  (16000, 500)\n"
          ],
          "name": "stdout"
        }
      ]
    },
    {
      "metadata": {
        "id": "N_sPACEgQxDW",
        "colab_type": "text"
      },
      "cell_type": "markdown",
      "source": [
        "### Standardizing the data"
      ]
    },
    {
      "metadata": {
        "id": "9Ll0ElCNQwDz",
        "colab_type": "code",
        "colab": {}
      },
      "cell_type": "code",
      "source": [
        "from sklearn.preprocessing import StandardScaler\n",
        "sc = StandardScaler(with_mean=False)\n",
        "bow_train_st = sc.fit_transform(bow_train)"
      ],
      "execution_count": 0,
      "outputs": []
    },
    {
      "metadata": {
        "id": "ftOq1E6d_bL_",
        "colab_type": "text"
      },
      "cell_type": "markdown",
      "source": [
        "### SVM with RBF Kernel"
      ]
    },
    {
      "metadata": {
        "id": "ouxp1Xjpoqmn",
        "colab_type": "text"
      },
      "cell_type": "markdown",
      "source": [
        "### Parameter tuning using GridSearchCV"
      ]
    },
    {
      "metadata": {
        "id": "_CzLFbIoofaf",
        "colab_type": "code",
        "outputId": "01f8ee89-e548-4fdf-b9bd-cc1e8f5ea066",
        "colab": {
          "base_uri": "https://localhost:8080/",
          "height": 85
        }
      },
      "cell_type": "code",
      "source": [
        "%%time\n",
        "from sklearn.model_selection import GridSearchCV\n",
        "from sklearn.svm import SVC\n",
        "classifier = SVC(kernel='rbf',cache_size=1000,class_weight='balanced')\n",
        "param_grid = {\"C\":[0.1,1,10,100],\"gamma\":[0.001,0.01,1]}\n",
        "gs = GridSearchCV(classifier,param_grid,cv = 5,scoring = 'roc_auc',n_jobs=-1)\n",
        "gs.fit(bow_train_st,y_train)\n",
        "print(\"Best parameter:- \",gs.best_params_)\n",
        "print(\"Best score:- \",gs.best_score_)"
      ],
      "execution_count": 0,
      "outputs": [
        {
          "output_type": "stream",
          "text": [
            "Best parameter:-  {'C': 100, 'gamma': 0.01}\n",
            "Best score:-  0.4988205932786697\n",
            "CPU times: user 1min 10s, sys: 1.26 s, total: 1min 11s\n",
            "Wall time: 1h 10min 3s\n"
          ],
          "name": "stdout"
        }
      ]
    },
    {
      "metadata": {
        "id": "xdexGkjLo0Il",
        "colab_type": "text"
      },
      "cell_type": "markdown",
      "source": [
        "### Testing the model on test data with tuned hyperparameters"
      ]
    },
    {
      "metadata": {
        "id": "YQyaz3zlozKS",
        "colab_type": "code",
        "outputId": "b4ca193e-2abb-4b34-cc6a-7952dafe887f",
        "colab": {
          "base_uri": "https://localhost:8080/",
          "height": 102
        }
      },
      "cell_type": "code",
      "source": [
        "%%time\n",
        "from sklearn.svm import SVC\n",
        "bow_test = cv.transform(x_test)\n",
        "bow_test = sc.transform(bow_test)   # Standardizing the test data\n",
        "classifier = SVC(C=100,gamma=0.01,kernel='rbf',cache_size=1000,class_weight='balanced')\n",
        "classifier.fit(bow_train_st,y_train)\n",
        "y_pred = classifier.predict(bow_test)\n",
        "print(\"BOW test accuracy:- \",accuracy_score(y_test,y_pred))\n",
        "print(\"F1 score:- \",f1_score(y_test,y_pred,average='micro'))\n",
        "print(\"Training accuracy:- \",accuracy_score(y_train,classifier.predict(bow_train_st)))"
      ],
      "execution_count": 0,
      "outputs": [
        {
          "output_type": "stream",
          "text": [
            "BOW test accuracy:-  0.88275\n",
            "F1 score:-  0.88275\n",
            "Training accuracy:-  0.999125\n",
            "CPU times: user 2min 4s, sys: 192 ms, total: 2min 4s\n",
            "Wall time: 2min 4s\n"
          ],
          "name": "stdout"
        }
      ]
    },
    {
      "metadata": {
        "id": "syWIi7pDo-GO",
        "colab_type": "text"
      },
      "cell_type": "markdown",
      "source": [
        "### Confusion Matrix"
      ]
    },
    {
      "metadata": {
        "id": "wqdqFT_Ho9W2",
        "colab_type": "code",
        "outputId": "6a314b16-fd4a-4b27-8869-0685340c73fe",
        "colab": {
          "base_uri": "https://localhost:8080/",
          "height": 415
        }
      },
      "cell_type": "code",
      "source": [
        "cm = confusion_matrix(y_test,y_pred)\n",
        "print(\"Confusion Matrix:- \\n\",cm)\n",
        "sns.heatmap(cm,annot = True)"
      ],
      "execution_count": 0,
      "outputs": [
        {
          "output_type": "stream",
          "text": [
            "Confusion Matrix:- \n",
            " [[   5  436]\n",
            " [  33 3526]]\n"
          ],
          "name": "stdout"
        },
        {
          "output_type": "execute_result",
          "data": {
            "text/plain": [
              "<matplotlib.axes._subplots.AxesSubplot at 0x7f85c5280cc0>"
            ]
          },
          "metadata": {
            "tags": []
          },
          "execution_count": 11
        },
        {
          "output_type": "display_data",
          "data": {
            "image/png": "[encoded data removed]",
            "text/plain": [
              "<matplotlib.figure.Figure at 0x7f85bf9285c0>"
            ]
          },
          "metadata": {
            "tags": []
          }
        }
      ]
    },
    {
      "metadata": {
        "id": "L2VYiv1uGFcd",
        "colab_type": "text"
      },
      "cell_type": "markdown",
      "source": [
        "### Linear SVM"
      ]
    },
    {
      "metadata": {
        "id": "2dFdNTpe90Vm",
        "colab_type": "text"
      },
      "cell_type": "markdown",
      "source": [
        "### Bag of Words and Standardization"
      ]
    },
    {
      "metadata": {
        "id": "uN4uLkQG9zJL",
        "colab_type": "code",
        "outputId": "79e6874d-cc3e-4a8c-83bd-8fca591a424c",
        "colab": {
          "base_uri": "https://localhost:8080/",
          "height": 34
        }
      },
      "cell_type": "code",
      "source": [
        "from sklearn.feature_extraction.text import CountVectorizer\n",
        "cv = CountVectorizer()\n",
        "bow_train = cv.fit_transform(x_train_1L)\n",
        "print(\"Shape of BOW vector:- \",bow_train.shape)\n",
        "\n",
        "from sklearn.preprocessing import StandardScaler\n",
        "sc = StandardScaler(with_mean=False)\n",
        "bow_train_st = sc.fit_transform(bow_train)"
      ],
      "execution_count": 8,
      "outputs": [
        {
          "output_type": "stream",
          "text": [
            "Shape of BOW vector:-  (80000, 34646)\n"
          ],
          "name": "stdout"
        }
      ]
    },
    {
      "metadata": {
        "id": "88rapGxw-7Di",
        "colab_type": "text"
      },
      "cell_type": "markdown",
      "source": [
        "### Parameter tuning of Linear SVM(SGDClassifier)"
      ]
    },
    {
      "metadata": {
        "id": "knaQWR1V_Dz0",
        "colab_type": "code",
        "colab": {
          "base_uri": "https://localhost:8080/",
          "height": 85
        },
        "outputId": "5da6161c-6934-410d-ea89-1910802abb54"
      },
      "cell_type": "code",
      "source": [
        "%%time\n",
        "from sklearn.model_selection import RandomizedSearchCV\n",
        "from sklearn.linear_model import SGDClassifier\n",
        "classifier = SGDClassifier(loss='hinge',class_weight='balanced')\n",
        "param_grid = {'alpha':np.random.uniform(10**-4,10**3,100)}\n",
        "rs = RandomizedSearchCV(classifier,param_grid,cv = 10,scoring = 'roc_auc',n_jobs=-1)\n",
        "rs.fit(bow_train_st,y_train_1L)\n",
        "print(\"Best parameter:- \",rs.best_params_)\n",
        "print(\"Best score:- \",rs.best_score_)"
      ],
      "execution_count": 38,
      "outputs": [
        {
          "output_type": "stream",
          "text": [
            "Best parameter:-  {'alpha': 334.4172155571544}\n",
            "Best score:-  0.44361491569925054\n",
            "CPU times: user 1.05 s, sys: 127 ms, total: 1.18 s\n",
            "Wall time: 19.5 s\n"
          ],
          "name": "stdout"
        }
      ]
    },
    {
      "metadata": {
        "id": "AK4fuye3OOkJ",
        "colab_type": "text"
      },
      "cell_type": "markdown",
      "source": [
        "### Training and testing the Linear SVM classifier"
      ]
    },
    {
      "metadata": {
        "id": "nf0SbLs8Obme",
        "colab_type": "code",
        "outputId": "a21f7ce9-f554-4c79-8de9-110706040673",
        "colab": {
          "base_uri": "https://localhost:8080/",
          "height": 119
        }
      },
      "cell_type": "code",
      "source": [
        "%%time\n",
        "from sklearn.linear_model import SGDClassifier\n",
        "classifier = SGDClassifier(loss = 'hinge',class_weight='balanced',alpha=334.41)\n",
        "classifier.fit(bow_train_st,y_train_1L)\n",
        "bow_test = cv.transform(x_test_1L)\n",
        "bow_test_st = sc.transform(bow_test)   # Standardizing the test data\n",
        "y_pred = classifier.predict(bow_test_st)\n",
        "print(\"BOW test accuracy:- \",accuracy_score(y_test_1L,y_pred))\n",
        "print(\"Roc Auc score:- \",roc_auc_score(y_test_1L,y_pred))\n",
        "print(\"F1 score:- \",f1_score(y_test_1L,y_pred))\n",
        "print(\"Training accuracy:- \",accuracy_score(y_train_1L,classifier.predict(bow_train_st)))"
      ],
      "execution_count": 43,
      "outputs": [
        {
          "output_type": "stream",
          "text": [
            "BOW test accuracy:-  0.7481\n",
            "Roc Auc score:-  0.49866138015670725\n",
            "F1 score:-  0.8523273537343181\n",
            "Training accuracy:-  0.8422\n",
            "CPU times: user 857 ms, sys: 2.66 ms, total: 860 ms\n",
            "Wall time: 864 ms\n"
          ],
          "name": "stdout"
        }
      ]
    },
    {
      "metadata": {
        "id": "pNLvmGCdPpkD",
        "colab_type": "text"
      },
      "cell_type": "markdown",
      "source": [
        "### Important Features"
      ]
    },
    {
      "metadata": {
        "id": "pqoG4u4JMVXb",
        "colab_type": "code",
        "outputId": "fe39aaa4-b8bb-47fb-c504-428803a8180f",
        "colab": {
          "base_uri": "https://localhost:8080/",
          "height": 476
        }
      },
      "cell_type": "code",
      "source": [
        "imp_features(cv,classifier)"
      ],
      "execution_count": 41,
      "outputs": [
        {
          "output_type": "stream",
          "text": [
            "Shape of Positive dataframe:- , (25490, 2)\n",
            "Shape of Negative dataframe:-  (9156, 2)\n",
            "Top ten positive predictors:- \n",
            "      Words      Coef\n",
            "0      sip  0.000047\n",
            "1    minim  0.000046\n",
            "2  finicki  0.000044\n",
            "3       oz  0.000044\n",
            "4  contain  0.000043\n",
            "5  italian  0.000043\n",
            "6   pantri  0.000042\n",
            "7     bang  0.000042\n",
            "8   smooth  0.000041\n",
            "9  conveni  0.000041\n",
            "\n",
            "Top ten negative predictors:- \n",
            "       Words      Coef\n",
            "0       dis  0.000099\n",
            "1   kristin  0.000076\n",
            "2    wicker  0.000076\n",
            "3     melba  0.000073\n",
            "4  cracklin  0.000069\n",
            "5   detoxif  0.000067\n",
            "6  carnauba  0.000067\n",
            "7      peed  0.000067\n",
            "8    tendon  0.000066\n",
            "9    woulda  0.000063\n"
          ],
          "name": "stdout"
        }
      ]
    },
    {
      "metadata": {
        "id": "Nne-2HaiK1ez",
        "colab_type": "text"
      },
      "cell_type": "markdown",
      "source": [
        "### Confusion Matrix"
      ]
    },
    {
      "metadata": {
        "id": "Z60-x94OK0kS",
        "colab_type": "code",
        "outputId": "e7538ee8-3a9a-4991-dc8a-6ffe139104b2",
        "colab": {
          "base_uri": "https://localhost:8080/",
          "height": 415
        }
      },
      "cell_type": "code",
      "source": [
        "cm = confusion_matrix(y_test_1L,y_pred)\n",
        "print(\"Confusion Matrix:- \\n\",cm)\n",
        "sns.heatmap(cm,annot = True)"
      ],
      "execution_count": 40,
      "outputs": [
        {
          "output_type": "stream",
          "text": [
            "Confusion Matrix:- \n",
            " [[  449  2226]\n",
            " [ 2930 14395]]\n"
          ],
          "name": "stdout"
        },
        {
          "output_type": "execute_result",
          "data": {
            "text/plain": [
              "<matplotlib.axes._subplots.AxesSubplot at 0x7f41af2e4198>"
            ]
          },
          "metadata": {
            "tags": []
          },
          "execution_count": 40
        },
        {
          "output_type": "display_data",
          "data": {
            "image/png": "[encoded data removed]",
            "text/plain": [
              "<matplotlib.figure.Figure at 0x7f41af2c4470>"
            ]
          },
          "metadata": {
            "tags": []
          }
        }
      ]
    },
    {
      "metadata": {
        "id": "tw1fjaYCpDqs",
        "colab_type": "text"
      },
      "cell_type": "markdown",
      "source": [
        "### ============================================================================================================"
      ]
    },
    {
      "metadata": {
        "id": "yyuipeTwpZVD",
        "colab_type": "text"
      },
      "cell_type": "markdown",
      "source": [
        "## Tfidf Implementation"
      ]
    },
    {
      "metadata": {
        "id": "rZtv22o7pVac",
        "colab_type": "code",
        "outputId": "fec57659-d410-4166-8cd4-87c4d652751f",
        "colab": {
          "base_uri": "https://localhost:8080/",
          "height": 34
        }
      },
      "cell_type": "code",
      "source": [
        "from sklearn.feature_extraction.text import TfidfVectorizer\n",
        "tfidf = TfidfVectorizer(min_df=10,max_features=500,sublinear_tf=True)\n",
        "tfidf_train = tfidf.fit_transform(x_train)\n",
        "print(\"Shape of tfidf_train:- \",tfidf_train.shape)"
      ],
      "execution_count": 0,
      "outputs": [
        {
          "output_type": "stream",
          "text": [
            "Shape of tfidf_train:-  (16000, 500)\n"
          ],
          "name": "stdout"
        }
      ]
    },
    {
      "metadata": {
        "id": "UsfbZmAs_EQU",
        "colab_type": "text"
      },
      "cell_type": "markdown",
      "source": [
        "### Standardizing the data"
      ]
    },
    {
      "metadata": {
        "id": "PlRGf55l_DOV",
        "colab_type": "code",
        "colab": {}
      },
      "cell_type": "code",
      "source": [
        "from sklearn.preprocessing import StandardScaler\n",
        "sc = StandardScaler(with_mean=False)\n",
        "tfidf_train_st = sc.fit_transform(tfidf_train)"
      ],
      "execution_count": 0,
      "outputs": []
    },
    {
      "metadata": {
        "id": "nguE789fYSM2",
        "colab_type": "text"
      },
      "cell_type": "markdown",
      "source": [
        "### SVM with RBF Kernel"
      ]
    },
    {
      "metadata": {
        "id": "WYDuxUZ6pvWW",
        "colab_type": "text"
      },
      "cell_type": "markdown",
      "source": [
        "### Parameter tuning using GridSearchCV"
      ]
    },
    {
      "metadata": {
        "id": "0eMSeqewpqH3",
        "colab_type": "code",
        "outputId": "e1401128-50f1-486c-f05e-e0c7a6e377d7",
        "colab": {
          "base_uri": "https://localhost:8080/",
          "height": 85
        }
      },
      "cell_type": "code",
      "source": [
        "%%time\n",
        "from sklearn.model_selection import GridSearchCV\n",
        "from sklearn.svm import SVC\n",
        "classifier = SVC(kernel='rbf',cache_size=1000,class_weight='balanced')\n",
        "param_grid = {\"C\":[0.1,1,10,100],'gamma':[0.001,0.01,1]}\n",
        "gs = GridSearchCV(classifier,param_grid,cv = 5,scoring = 'roc_auc',n_jobs = -1)\n",
        "gs.fit(tfidf_train_st,y_train)\n",
        "print(\"Best parameter:- \",gs.best_params_)\n",
        "print(\"Best score:- \",gs.best_score_)"
      ],
      "execution_count": 0,
      "outputs": [
        {
          "output_type": "stream",
          "text": [
            "Best parameter:-  {'C': 1, 'gamma': 1}\n",
            "Best score:-  0.49840245277351486\n",
            "CPU times: user 1min 1s, sys: 707 ms, total: 1min 2s\n",
            "Wall time: 1h 1min 18s\n"
          ],
          "name": "stdout"
        }
      ]
    },
    {
      "metadata": {
        "id": "9rpUBlC7p7TK",
        "colab_type": "text"
      },
      "cell_type": "markdown",
      "source": [
        "### Testing the model on test with tuned hyperparameter."
      ]
    },
    {
      "metadata": {
        "id": "QTehJxSmp6V3",
        "colab_type": "code",
        "outputId": "98415158-9c2c-48a6-cf27-6ad0bd02afb7",
        "colab": {
          "base_uri": "https://localhost:8080/",
          "height": 102
        }
      },
      "cell_type": "code",
      "source": [
        "%%time\n",
        "tfidf_test = tfidf.transform(x_test)\n",
        "tfidf_test = sc.transform(tfidf_test)   # Standardizing the test data\n",
        "classifier = SVC(C=1,gamma=1,kernel='rbf',cache_size=1000,class_weight='balanced')\n",
        "classifier.fit(tfidf_train_st,y_train)\n",
        "y_pred = classifier.predict(tfidf_test)\n",
        "print(\"Tfdif test accuracy:- \",accuracy_score(y_test,y_pred))\n",
        "print(\"F1 score:- \",f1_score(y_test,y_pred))\n",
        "print(\"Training accuracy:- \",accuracy_score(y_train,classifier.predict(tfidf_train_st)))"
      ],
      "execution_count": 0,
      "outputs": [
        {
          "output_type": "stream",
          "text": [
            "Tfdif test accuracy:-  0.89\n",
            "F1 score:-  0.9417835406192114\n",
            "Training accuracy:-  0.9991875\n",
            "CPU times: user 2min 17s, sys: 161 ms, total: 2min 17s\n",
            "Wall time: 2min 17s\n"
          ],
          "name": "stdout"
        }
      ]
    },
    {
      "metadata": {
        "id": "XBAucHBZqDIq",
        "colab_type": "text"
      },
      "cell_type": "markdown",
      "source": [
        "### Confusion Matrix"
      ]
    },
    {
      "metadata": {
        "id": "Q6mSUEXYqCXS",
        "colab_type": "code",
        "outputId": "ce0bdd06-eb9a-45c9-b3a0-f100f8ed77f8",
        "colab": {
          "base_uri": "https://localhost:8080/",
          "height": 415
        }
      },
      "cell_type": "code",
      "source": [
        "cm = confusion_matrix(y_test,y_pred)\n",
        "print(\"Confusion Matrix:- \\n\",cm)\n",
        "sns.heatmap(cm,annot = True)"
      ],
      "execution_count": 0,
      "outputs": [
        {
          "output_type": "stream",
          "text": [
            "Confusion Matrix:- \n",
            " [[   1  440]\n",
            " [   0 3559]]\n"
          ],
          "name": "stdout"
        },
        {
          "output_type": "execute_result",
          "data": {
            "text/plain": [
              "<matplotlib.axes._subplots.AxesSubplot at 0x7f85bf505940>"
            ]
          },
          "metadata": {
            "tags": []
          },
          "execution_count": 20
        },
        {
          "output_type": "display_data",
          "data": {
            "image/png": "[encoded data removed]",
            "text/plain": [
              "<matplotlib.figure.Figure at 0x7f85bf50c240>"
            ]
          },
          "metadata": {
            "tags": []
          }
        }
      ]
    },
    {
      "metadata": {
        "id": "QeoRkvCRGX7r",
        "colab_type": "text"
      },
      "cell_type": "markdown",
      "source": [
        "### Linear SVM"
      ]
    },
    {
      "metadata": {
        "id": "3N2GbGpsYacr",
        "colab_type": "text"
      },
      "cell_type": "markdown",
      "source": [
        "### Tfidf vectorizer and Standardization"
      ]
    },
    {
      "metadata": {
        "id": "wRp_QdENYgRB",
        "colab_type": "code",
        "outputId": "8d090e2e-ebe9-4647-dfde-3f5165c548c7",
        "colab": {
          "base_uri": "https://localhost:8080/",
          "height": 34
        }
      },
      "cell_type": "code",
      "source": [
        "from sklearn.feature_extraction.text import TfidfVectorizer\n",
        "tfidf = TfidfVectorizer(sublinear_tf=True)\n",
        "tfidf_train = tfidf.fit_transform(x_train_1L)\n",
        "print(\"Shape of tfidf_train:- \",tfidf_train.shape)\n",
        "\n",
        "from sklearn.preprocessing import StandardScaler\n",
        "sc = StandardScaler(with_mean=False)\n",
        "tfidf_train_st = sc.fit_transform(tfidf_train)"
      ],
      "execution_count": 44,
      "outputs": [
        {
          "output_type": "stream",
          "text": [
            "Shape of tfidf_train:-  (80000, 34646)\n"
          ],
          "name": "stdout"
        }
      ]
    },
    {
      "metadata": {
        "id": "aR73m-3IGkQn",
        "colab_type": "text"
      },
      "cell_type": "markdown",
      "source": [
        "### Parameter Tuning using RandomizedSearchCV"
      ]
    },
    {
      "metadata": {
        "id": "H4Bl_ikDGpSy",
        "colab_type": "code",
        "colab": {
          "base_uri": "https://localhost:8080/",
          "height": 85
        },
        "outputId": "5b71dd76-ae11-4099-a7ac-6e476a93367e"
      },
      "cell_type": "code",
      "source": [
        "%%time\n",
        "from sklearn.model_selection import RandomizedSearchCV\n",
        "from sklearn.linear_model import SGDClassifier\n",
        "classifier = SGDClassifier(loss='hinge',class_weight='balanced')\n",
        "param_grid = {'alpha':np.random.uniform(10**-4,10**3,100)}\n",
        "rs = RandomizedSearchCV(classifier,param_grid,cv = 5,scoring = 'roc_auc',n_jobs=-1)\n",
        "rs.fit(tfidf_train_st,y_train_1L)\n",
        "print(\"Best parameter:- \",rs.best_params_)\n",
        "print(\"Best score:- \",rs.best_score_)"
      ],
      "execution_count": 54,
      "outputs": [
        {
          "output_type": "stream",
          "text": [
            "Best parameter:-  {'alpha': 291.8015631286678}\n",
            "Best score:-  0.472049941445681\n",
            "CPU times: user 630 ms, sys: 57.9 ms, total: 688 ms\n",
            "Wall time: 9.27 s\n"
          ],
          "name": "stdout"
        }
      ]
    },
    {
      "metadata": {
        "id": "R-OWN0TmY8oz",
        "colab_type": "text"
      },
      "cell_type": "markdown",
      "source": [
        "### Training and testing the linear SVM classifier"
      ]
    },
    {
      "metadata": {
        "id": "SEW5VffsY-9E",
        "colab_type": "code",
        "outputId": "6e8c8383-4740-4bdf-bd51-d9ec09247e87",
        "colab": {
          "base_uri": "https://localhost:8080/",
          "height": 102
        }
      },
      "cell_type": "code",
      "source": [
        "%%time\n",
        "from sklearn.metrics import roc_auc_score\n",
        "from sklearn.linear_model import SGDClassifier\n",
        "classifier = SGDClassifier(loss='hinge',class_weight='balanced',alpha=291.8)\n",
        "classifier.fit(tfidf_train_st,y_train_1L)\n",
        "tfidf_test = tfidf.transform(x_test_1L)\n",
        "tfidf_test_st = sc.transform(tfidf_test)   # Standardizing the test data\n",
        "y_pred = classifier.predict(tfidf_test_st)\n",
        "print(\"Tfidf test accuracy:- \",accuracy_score(y_test_1L,y_pred))\n",
        "print(\"F1 score:- \",f1_score(y_test_1L,y_pred))\n",
        "print(\"Training accuracy:- \",accuracy_score(y_train_1L,classifier.predict(tfidf_train_st)))"
      ],
      "execution_count": 56,
      "outputs": [
        {
          "output_type": "stream",
          "text": [
            "Tfidf test accuracy:-  0.68285\n",
            "F1 score:-  0.8042827609614613\n",
            "Training accuracy:-  0.806475\n",
            "CPU times: user 921 ms, sys: 6.4 ms, total: 927 ms\n",
            "Wall time: 928 ms\n"
          ],
          "name": "stdout"
        }
      ]
    },
    {
      "metadata": {
        "id": "m7P7aPTDZpW5",
        "colab_type": "text"
      },
      "cell_type": "markdown",
      "source": [
        "### Important Features"
      ]
    },
    {
      "metadata": {
        "id": "gUKUnFVuZsii",
        "colab_type": "code",
        "outputId": "1eb69e0f-9545-4836-d042-ae5e77ec124e",
        "colab": {
          "base_uri": "https://localhost:8080/",
          "height": 476
        }
      },
      "cell_type": "code",
      "source": [
        "imp_features(tfidf,classifier)"
      ],
      "execution_count": 58,
      "outputs": [
        {
          "output_type": "stream",
          "text": [
            "Shape of Positive dataframe:- , (25612, 2)\n",
            "Shape of Negative dataframe:-  (9034, 2)\n",
            "Top ten positive predictors:- \n",
            "      Words      Coef\n",
            "0   sticki  0.000063\n",
            "1  contain  0.000057\n",
            "2  collect  0.000056\n",
            "3  italian  0.000053\n",
            "4    curri  0.000052\n",
            "5   pantri  0.000052\n",
            "6    minim  0.000052\n",
            "7      pod  0.000050\n",
            "8       oz  0.000050\n",
            "9      sip  0.000050\n",
            "\n",
            "Top ten negative predictors:- \n",
            "        Words      Coef\n",
            "0        dis  0.000110\n",
            "1      melba  0.000093\n",
            "2   cracklin  0.000092\n",
            "3    kristin  0.000085\n",
            "4       arar  0.000085\n",
            "5  fettucini  0.000082\n",
            "6   crawfish  0.000077\n",
            "7       maki  0.000077\n",
            "8     truley  0.000076\n",
            "9     wicker  0.000076\n"
          ],
          "name": "stdout"
        }
      ]
    },
    {
      "metadata": {
        "id": "ZJWMqSunZ0ah",
        "colab_type": "text"
      },
      "cell_type": "markdown",
      "source": [
        "### Confusion Matrix"
      ]
    },
    {
      "metadata": {
        "id": "ZnIwG2yzZ3NR",
        "colab_type": "code",
        "outputId": "f69aff2d-8320-4c67-b7cc-52b1dc7d38cf",
        "colab": {
          "base_uri": "https://localhost:8080/",
          "height": 415
        }
      },
      "cell_type": "code",
      "source": [
        "cm = confusion_matrix(y_test_1L,y_pred)\n",
        "print(\"Confusion Matrix:- \\n\",cm)\n",
        "sns.heatmap(cm,annot = True)"
      ],
      "execution_count": 57,
      "outputs": [
        {
          "output_type": "stream",
          "text": [
            "Confusion Matrix:- \n",
            " [[  624  2051]\n",
            " [ 4292 13033]]\n"
          ],
          "name": "stdout"
        },
        {
          "output_type": "execute_result",
          "data": {
            "text/plain": [
              "<matplotlib.axes._subplots.AxesSubplot at 0x7f41ab6d0b38>"
            ]
          },
          "metadata": {
            "tags": []
          },
          "execution_count": 57
        },
        {
          "output_type": "display_data",
          "data": {
            "image/png": "[encoded data removed]",
            "text/plain": [
              "<matplotlib.figure.Figure at 0x7f41ab105710>"
            ]
          },
          "metadata": {
            "tags": []
          }
        }
      ]
    },
    {
      "metadata": {
        "id": "YYxp6bXbqJiS",
        "colab_type": "text"
      },
      "cell_type": "markdown",
      "source": [
        "### ==========================================================================================="
      ]
    },
    {
      "metadata": {
        "id": "ZLeieL0l0XVf",
        "colab_type": "text"
      },
      "cell_type": "markdown",
      "source": [
        "## Word2Vec"
      ]
    },
    {
      "metadata": {
        "id": "piF6WMZNz5U8",
        "colab_type": "code",
        "colab": {}
      },
      "cell_type": "code",
      "source": [
        "#Function to create list of sentences\n",
        "def sent_list(x):\n",
        "    list_of_sent = []\n",
        "    for sent in tqdm(x):\n",
        "        words = []\n",
        "        for w in sent.split():\n",
        "            words.append(w)\n",
        "        list_of_sent.append(words)\n",
        "    return list_of_sent"
      ],
      "execution_count": 0,
      "outputs": []
    },
    {
      "metadata": {
        "id": "42oh5Pbx0f26",
        "colab_type": "code",
        "outputId": "d9d401ac-2334-421e-a683-9d21486144e5",
        "colab": {
          "base_uri": "https://localhost:8080/",
          "height": 34
        }
      },
      "cell_type": "code",
      "source": [
        "#implementing word2vec\n",
        "from gensim.models import Word2Vec\n",
        "sent_train = sent_list(x_train)\n",
        "w2v = Word2Vec(sent_train,size=50,min_count=2,workers=4)"
      ],
      "execution_count": 0,
      "outputs": [
        {
          "output_type": "stream",
          "text": [
            "100%|██████████| 16000/16000 [00:00<00:00, 92735.22it/s]\n"
          ],
          "name": "stderr"
        }
      ]
    },
    {
      "metadata": {
        "id": "5OL8TnSC0sJY",
        "colab_type": "text"
      },
      "cell_type": "markdown",
      "source": [
        "### Average Word2Vec Implementation"
      ]
    },
    {
      "metadata": {
        "id": "Fdq-agCw0qz2",
        "colab_type": "code",
        "colab": {}
      },
      "cell_type": "code",
      "source": [
        "#Function to create avg word2vec vector\n",
        "def avgw2v(x):\n",
        "    avgw2v_vec = []\n",
        "    for sent in tqdm(x):\n",
        "        sent_vec = np.zeros(50)\n",
        "        count = 0\n",
        "        for word in sent:\n",
        "            try:\n",
        "                vec = w2v.wv[word]\n",
        "                sent_vec+=vec\n",
        "                count+=1\n",
        "            except:\n",
        "                pass\n",
        "        sent_vec/=count\n",
        "        avgw2v_vec.append(sent_vec)\n",
        "    return avgw2v_vec"
      ],
      "execution_count": 0,
      "outputs": []
    },
    {
      "metadata": {
        "id": "7YHff80Z0-Qg",
        "colab_type": "code",
        "outputId": "456da32c-06cc-4a75-cc73-2944042b1cd1",
        "colab": {
          "base_uri": "https://localhost:8080/",
          "height": 51
        }
      },
      "cell_type": "code",
      "source": [
        "#Creating average word2vec training data\n",
        "avgw2v_train = np.array(avgw2v(sent_train))\n",
        "print(\"Shape of avg word2vec train data:- \",avgw2v_train.shape)"
      ],
      "execution_count": 0,
      "outputs": [
        {
          "output_type": "stream",
          "text": [
            "100%|██████████| 16000/16000 [00:02<00:00, 7013.25it/s]"
          ],
          "name": "stderr"
        },
        {
          "output_type": "stream",
          "text": [
            "Shape of avg word2vec train data:-  (16000, 50)\n"
          ],
          "name": "stdout"
        },
        {
          "output_type": "stream",
          "text": [
            "\n"
          ],
          "name": "stderr"
        }
      ]
    },
    {
      "metadata": {
        "id": "pTvf4c001JDA",
        "colab_type": "text"
      },
      "cell_type": "markdown",
      "source": [
        "### Standardizing the data"
      ]
    },
    {
      "metadata": {
        "id": "s3-j3Vid1NBl",
        "colab_type": "code",
        "colab": {}
      },
      "cell_type": "code",
      "source": [
        "from sklearn.preprocessing import StandardScaler\n",
        "sc = StandardScaler()\n",
        "avgw2v_train_st = sc.fit_transform(avgw2v_train)"
      ],
      "execution_count": 0,
      "outputs": []
    },
    {
      "metadata": {
        "id": "vyJkvq1ZIwyQ",
        "colab_type": "text"
      },
      "cell_type": "markdown",
      "source": [
        "### SVM with RBF kernel"
      ]
    },
    {
      "metadata": {
        "id": "3JZkeJM21fHR",
        "colab_type": "text"
      },
      "cell_type": "markdown",
      "source": [
        "### Parameter tuning using GridSearchCV"
      ]
    },
    {
      "metadata": {
        "id": "e1tRIIfO1jYz",
        "colab_type": "code",
        "outputId": "65193f8f-186d-496c-dd3f-56082828c2f6",
        "colab": {
          "base_uri": "https://localhost:8080/",
          "height": 85
        }
      },
      "cell_type": "code",
      "source": [
        "%%time\n",
        "from sklearn.model_selection import GridSearchCV\n",
        "from sklearn.svm import SVC\n",
        "classifier = SVC(kernel='rbf',cache_size=1000,class_weight='balanced')\n",
        "param_grid = {\"C\":[0.1,1,10,100],'gamma':[0.001,0.01,1,10]}\n",
        "gs = GridSearchCV(classifier,param_grid,cv = 5,scoring = 'roc_auc',n_jobs = -1)\n",
        "gs.fit(avgw2v_train_st,y_train)\n",
        "print(\"Best parameter:- \",gs.best_params_)\n",
        "print(\"Best score:- \",gs.best_score_)"
      ],
      "execution_count": 0,
      "outputs": [
        {
          "output_type": "stream",
          "text": [
            "Best parameter:-  {'C': 100, 'gamma': 0.01}\n",
            "Best score:-  0.5029708457499885\n",
            "CPU times: user 48.8 s, sys: 855 ms, total: 49.7 s\n",
            "Wall time: 34min 44s\n"
          ],
          "name": "stdout"
        }
      ]
    },
    {
      "metadata": {
        "id": "qVlUOq-Q2Or7",
        "colab_type": "text"
      },
      "cell_type": "markdown",
      "source": [
        "### Testing the model on test data with tuned parameter"
      ]
    },
    {
      "metadata": {
        "id": "NFyUfFRq2VHP",
        "colab_type": "code",
        "outputId": "de6df889-2024-4e4e-ab74-a1cabc836353",
        "colab": {
          "base_uri": "https://localhost:8080/",
          "height": 136
        }
      },
      "cell_type": "code",
      "source": [
        "%%time\n",
        "sent_test = sent_list(x_test)\n",
        "avgw2v_test = np.array(avgw2v(sent_test))\n",
        "avgw2v_test_st = sc.transform(avgw2v_test)   # Standardizing the test data\n",
        "classifier = SVC(C=100,gamma=0.01,kernel='rbf',cache_size=1000,class_weight='balanced')\n",
        "classifier.fit(avgw2v_train_st,y_train)\n",
        "y_pred = classifier.predict(avgw2v_test_st)\n",
        "print(\"AvgWord2Vec test accuracy:- \",accuracy_score(y_test,y_pred))\n",
        "print(\"F1 score:- \",f1_score(y_test,y_pred))\n",
        "print(\"Training accuracy:- \",accuracy_score(y_train,classifier.predict(avgw2v_train_st)))"
      ],
      "execution_count": 0,
      "outputs": [
        {
          "output_type": "stream",
          "text": [
            "100%|██████████| 4000/4000 [00:00<00:00, 79739.24it/s]\n",
            "100%|██████████| 4000/4000 [00:00<00:00, 6533.91it/s]\n"
          ],
          "name": "stderr"
        },
        {
          "output_type": "stream",
          "text": [
            "AvgWord2Vec test accuracy:-  0.6655\n",
            "F1 score:-  0.7912636505460219\n",
            "Training accuracy:-  0.83\n",
            "CPU times: user 1min 8s, sys: 127 ms, total: 1min 9s\n",
            "Wall time: 1min 9s\n"
          ],
          "name": "stdout"
        }
      ]
    },
    {
      "metadata": {
        "id": "H6yvMG0l3I5n",
        "colab_type": "text"
      },
      "cell_type": "markdown",
      "source": [
        "### Confusion Matrix"
      ]
    },
    {
      "metadata": {
        "id": "3FWo2ELz3L-y",
        "colab_type": "code",
        "outputId": "8cb60009-21a8-4744-ce3c-8a71a45e2119",
        "colab": {
          "base_uri": "https://localhost:8080/",
          "height": 415
        }
      },
      "cell_type": "code",
      "source": [
        "cm = confusion_matrix(y_test,y_pred)\n",
        "print(\"Confusion Matrix:- \\n\",cm)\n",
        "sns.heatmap(cm,annot = True)"
      ],
      "execution_count": 0,
      "outputs": [
        {
          "output_type": "stream",
          "text": [
            "Confusion Matrix:- \n",
            " [[ 126  315]\n",
            " [1023 2536]]\n"
          ],
          "name": "stdout"
        },
        {
          "output_type": "execute_result",
          "data": {
            "text/plain": [
              "<matplotlib.axes._subplots.AxesSubplot at 0x7f700c2eaef0>"
            ]
          },
          "metadata": {
            "tags": []
          },
          "execution_count": 15
        },
        {
          "output_type": "display_data",
          "data": {
            "image/png": "[encoded data removed]",
            "text/plain": [
              "<matplotlib.figure.Figure at 0x7f700ccd8d30>"
            ]
          },
          "metadata": {
            "tags": []
          }
        }
      ]
    },
    {
      "metadata": {
        "id": "r9a9jhklIH6Y",
        "colab_type": "text"
      },
      "cell_type": "markdown",
      "source": [
        "### Linear SVM"
      ]
    },
    {
      "metadata": {
        "id": "WR-cnrcyFMiR",
        "colab_type": "text"
      },
      "cell_type": "markdown",
      "source": [
        "### Average Word2Vec and Standardization"
      ]
    },
    {
      "metadata": {
        "id": "-OpX4sSqFQIg",
        "colab_type": "code",
        "outputId": "46bc2092-c8cc-468d-aa75-cf248f62569a",
        "colab": {
          "base_uri": "https://localhost:8080/",
          "height": 68
        }
      },
      "cell_type": "code",
      "source": [
        "#implementing word2vec\n",
        "from gensim.models import Word2Vec\n",
        "sent_train = sent_list(x_train_1L)\n",
        "w2v = Word2Vec(sent_train,size=50,min_count=2,workers=4)\n",
        "\n",
        "#Creating average word2vec training data\n",
        "avgw2v_train = np.array(avgw2v(sent_train))\n",
        "print(\"Shape of avg word2vec train data:- \",avgw2v_train.shape)\n",
        "\n",
        "#Standardizing the data\n",
        "from sklearn.preprocessing import StandardScaler\n",
        "sc = StandardScaler()\n",
        "avgw2v_train_st = sc.fit_transform(avgw2v_train)"
      ],
      "execution_count": 62,
      "outputs": [
        {
          "output_type": "stream",
          "text": [
            "100%|██████████| 80000/80000 [00:00<00:00, 82472.83it/s]\n",
            "100%|██████████| 80000/80000 [00:12<00:00, 6509.64it/s]\n"
          ],
          "name": "stderr"
        },
        {
          "output_type": "stream",
          "text": [
            "Shape of avg word2vec train data:-  (80000, 50)\n"
          ],
          "name": "stdout"
        }
      ]
    },
    {
      "metadata": {
        "id": "lM69Bp3bIYej",
        "colab_type": "text"
      },
      "cell_type": "markdown",
      "source": [
        "### Parameter Tuning using RandomizedSearchCV"
      ]
    },
    {
      "metadata": {
        "id": "sC3ukUxxIgg1",
        "colab_type": "code",
        "colab": {
          "base_uri": "https://localhost:8080/",
          "height": 85
        },
        "outputId": "cad36ee7-c341-4013-f7b3-5f6d82948df5"
      },
      "cell_type": "code",
      "source": [
        "%%time\n",
        "from sklearn.model_selection import RandomizedSearchCV\n",
        "from sklearn.linear_model import SGDClassifier\n",
        "classifier = SGDClassifier(loss='hinge',class_weight='balanced')\n",
        "param_grid = {'alpha':np.random.uniform(10**-4,10**3,100)}\n",
        "rs = RandomizedSearchCV(classifier,param_grid,cv = 5,scoring = 'roc_auc',n_jobs=-1)\n",
        "rs.fit(avgw2v_train_st,y_train_1L)\n",
        "print(\"Best parameter:- \",rs.best_params_)\n",
        "print(\"Best score:- \",rs.best_score_)"
      ],
      "execution_count": 89,
      "outputs": [
        {
          "output_type": "stream",
          "text": [
            "Best parameter:-  {'alpha': 2.8050007553176686}\n",
            "Best score:-  0.49878668146831423\n",
            "CPU times: user 538 ms, sys: 56.1 ms, total: 594 ms\n",
            "Wall time: 9.07 s\n"
          ],
          "name": "stdout"
        }
      ]
    },
    {
      "metadata": {
        "id": "7nD1OoAgGRhH",
        "colab_type": "text"
      },
      "cell_type": "markdown",
      "source": [
        "### Training and testing the linear SVM classifier"
      ]
    },
    {
      "metadata": {
        "id": "y8FoC0zzGXm1",
        "colab_type": "code",
        "outputId": "3e20dbc9-09fa-4d5f-ebc3-24dfa93c88bb",
        "colab": {
          "base_uri": "https://localhost:8080/",
          "height": 153
        }
      },
      "cell_type": "code",
      "source": [
        "%%time\n",
        "from sklearn.linear_model import SGDClassifier\n",
        "classifier = SGDClassifier(loss = 'hinge',class_weight='balanced',alpha=0.90)\n",
        "classifier.fit(avgw2v_train_st,y_train_1L)\n",
        "sent_test = sent_list(x_test_1L)\n",
        "avgw2v_test = np.array(avgw2v(sent_test))\n",
        "avgw2v_test_st = sc.transform(avgw2v_test)   # Standardizing the test data\n",
        "y_pred = classifier.predict(avgw2v_test_st)\n",
        "print(\"\\nAverage word2vec test accuracy:- \",accuracy_score(y_test_1L,y_pred))\n",
        "print(\"F1 score:- \",f1_score(y_test_1L,y_pred))\n",
        "print(\"Training accuracy:- \",accuracy_score(y_train_1L,classifier.predict(avgw2v_train_st)))"
      ],
      "execution_count": 85,
      "outputs": [
        {
          "output_type": "stream",
          "text": [
            "100%|██████████| 20000/20000 [00:00<00:00, 114134.76it/s]\n",
            "100%|██████████| 20000/20000 [00:03<00:00, 6605.04it/s]\n"
          ],
          "name": "stderr"
        },
        {
          "output_type": "stream",
          "text": [
            "\n",
            "Average word2vec test accuracy:-  0.7493\n",
            "F1 score:-  0.8532888576779025\n",
            "Training accuracy:-  0.75975\n",
            "CPU times: user 3.42 s, sys: 57.1 ms, total: 3.48 s\n",
            "Wall time: 3.47 s\n"
          ],
          "name": "stdout"
        }
      ]
    },
    {
      "metadata": {
        "id": "oBnYcgRRIL0j",
        "colab_type": "text"
      },
      "cell_type": "markdown",
      "source": [
        "### Confusion Matrix"
      ]
    },
    {
      "metadata": {
        "id": "1YBXU52dIQVg",
        "colab_type": "code",
        "outputId": "acfe1e08-e907-4438-dd97-fc2bad920344",
        "colab": {
          "base_uri": "https://localhost:8080/",
          "height": 415
        }
      },
      "cell_type": "code",
      "source": [
        "cm = confusion_matrix(y_test_1L,y_pred)\n",
        "print(\"Confusion Matrix:- \\n\",cm)\n",
        "sns.heatmap(cm,annot = True)"
      ],
      "execution_count": 86,
      "outputs": [
        {
          "output_type": "stream",
          "text": [
            "Confusion Matrix:- \n",
            " [[  405  2270]\n",
            " [ 2744 14581]]\n"
          ],
          "name": "stdout"
        },
        {
          "output_type": "execute_result",
          "data": {
            "text/plain": [
              "<matplotlib.axes._subplots.AxesSubplot at 0x7f41a9814400>"
            ]
          },
          "metadata": {
            "tags": []
          },
          "execution_count": 86
        },
        {
          "output_type": "display_data",
          "data": {
            "image/png": "[encoded data removed]",
            "text/plain": [
              "<matplotlib.figure.Figure at 0x7f41a8f32828>"
            ]
          },
          "metadata": {
            "tags": []
          }
        }
      ]
    },
    {
      "metadata": {
        "id": "XrxzPZuS3dJ2",
        "colab_type": "text"
      },
      "cell_type": "markdown",
      "source": [
        "### =================================================================================================="
      ]
    },
    {
      "metadata": {
        "id": "QqOZrEFB3gB7",
        "colab_type": "text"
      },
      "cell_type": "markdown",
      "source": [
        "### Tfidf Word2Vec implementation"
      ]
    },
    {
      "metadata": {
        "id": "B2VYxC7I3maa",
        "colab_type": "code",
        "colab": {}
      },
      "cell_type": "code",
      "source": [
        "#Function for creating tfidf weighted Word2Vec\n",
        "def tfidfw2v(x):\n",
        "    dictionary = dict(zip(tfidf.get_feature_names(),list(tfidf.idf_)))\n",
        "    tfidf_w2v_vec = []\n",
        "    i=0\n",
        "    for sent in tqdm(x):\n",
        "        sent_vec = np.zeros(50)\n",
        "        weights = 0\n",
        "        for word in sent:\n",
        "            try:\n",
        "                vec = w2v.wv[word]\n",
        "                tfidf_value = dictionary[word]*sent.count(word)\n",
        "                sent_vec+=(tfidf_value*vec)\n",
        "                weights+=tfidf_value\n",
        "            except:\n",
        "                pass\n",
        "        sent_vec/=weights\n",
        "        tfidf_w2v_vec.append(sent_vec)\n",
        "        i+=1\n",
        "    return tfidf_w2v_vec"
      ],
      "execution_count": 0,
      "outputs": []
    },
    {
      "metadata": {
        "id": "vDaTyGeg3sjx",
        "colab_type": "code",
        "outputId": "31a458d6-de20-4ae2-a246-8069bca8a0de",
        "colab": {
          "base_uri": "https://localhost:8080/",
          "height": 51
        }
      },
      "cell_type": "code",
      "source": [
        "tfidfw2v_train = np.array(tfidfw2v(sent_train))\n",
        "print(\"Shape of tfidf avgw2v train vector:- \",tfidfw2v_train.shape)"
      ],
      "execution_count": 0,
      "outputs": [
        {
          "output_type": "stream",
          "text": [
            "100%|██████████| 16000/16000 [00:05<00:00, 3082.80it/s]"
          ],
          "name": "stderr"
        },
        {
          "output_type": "stream",
          "text": [
            "Shape of tfidf avgw2v train vector:-  (16000, 50)\n"
          ],
          "name": "stdout"
        },
        {
          "output_type": "stream",
          "text": [
            "\n"
          ],
          "name": "stderr"
        }
      ]
    },
    {
      "metadata": {
        "id": "jzAaqvhn3ze4",
        "colab_type": "text"
      },
      "cell_type": "markdown",
      "source": [
        "### Standardizing the data"
      ]
    },
    {
      "metadata": {
        "id": "WsNcHPTg320e",
        "colab_type": "code",
        "colab": {}
      },
      "cell_type": "code",
      "source": [
        "from sklearn.preprocessing import StandardScaler\n",
        "sc = StandardScaler()\n",
        "tfidfw2v_train_st = sc.fit_transform(tfidfw2v_train)"
      ],
      "execution_count": 0,
      "outputs": []
    },
    {
      "metadata": {
        "id": "aadgojK-JLfZ",
        "colab_type": "text"
      },
      "cell_type": "markdown",
      "source": [
        "### SVM with RBF kernel"
      ]
    },
    {
      "metadata": {
        "id": "XB8hvzd94YJl",
        "colab_type": "text"
      },
      "cell_type": "markdown",
      "source": [
        "### Parameter tuning using GridSearchCV"
      ]
    },
    {
      "metadata": {
        "id": "OYoqexZo4cII",
        "colab_type": "code",
        "outputId": "9a743c10-cce0-4d0b-d7b4-6fc1f1149813",
        "colab": {
          "base_uri": "https://localhost:8080/",
          "height": 85
        }
      },
      "cell_type": "code",
      "source": [
        "%%time\n",
        "from sklearn.model_selection import GridSearchCV\n",
        "from sklearn.svm import SVC\n",
        "classifier = SVC(kernel='rbf',cache_size=1000,class_weight='balanced')\n",
        "param_grid = {\"C\":[0.1,1,10,100],'gamma':[0.001,0.01,1]}\n",
        "gs = GridSearchCV(classifier,param_grid,cv = 5,scoring = 'roc_auc',n_jobs = -1)\n",
        "gs.fit(tfidfw2v_train_st,y_train)\n",
        "print(\"Best parameter:- \",gs.best_params_)\n",
        "print(\"Best score:- \",gs.best_score_)"
      ],
      "execution_count": 0,
      "outputs": [
        {
          "output_type": "stream",
          "text": [
            "Best parameter:-  {'C': 1, 'gamma': 0.001}\n",
            "Best score:-  0.4978167030342269\n",
            "CPU times: user 32.1 s, sys: 501 ms, total: 32.6 s\n",
            "Wall time: 26min 14s\n"
          ],
          "name": "stdout"
        }
      ]
    },
    {
      "metadata": {
        "id": "7fzzfljL4g_7",
        "colab_type": "text"
      },
      "cell_type": "markdown",
      "source": [
        "### Testing the model on test data with tuned parameter."
      ]
    },
    {
      "metadata": {
        "id": "xsoKuuHJ5AjN",
        "colab_type": "code",
        "outputId": "34cedb77-ea49-4abd-9f4d-bcd8eed6d217",
        "colab": {
          "base_uri": "https://localhost:8080/",
          "height": 136
        }
      },
      "cell_type": "code",
      "source": [
        "%%time\n",
        "sent_test = sent_list(x_test)\n",
        "tfidfw2v_test = np.array(tfidfw2v(sent_test))\n",
        "tfidfw2v_test_st = sc.transform(tfidfw2v_test)   # Standardizing the test data\n",
        "classifier = SVC(C=1,gamma=0.001,kernel='rbf',cache_size=1000,class_weight='balanced')\n",
        "classifier.fit(tfidfw2v_train_st,y_train)\n",
        "y_pred = classifier.predict(tfidfw2v_test_st)\n",
        "print(\"TfidfWord2Vec test accuracy:- \",accuracy_score(y_test,y_pred))\n",
        "print(\"F1 score:- \",f1_score(y_test,y_pred))\n",
        "print(\"Training accuracy:- \",accuracy_score(y_train,classifier.predict(tfidfw2v_train_st)))"
      ],
      "execution_count": 0,
      "outputs": [
        {
          "output_type": "stream",
          "text": [
            "100%|██████████| 4000/4000 [00:00<00:00, 90168.58it/s]\n",
            "100%|██████████| 4000/4000 [00:01<00:00, 2870.70it/s]\n"
          ],
          "name": "stderr"
        },
        {
          "output_type": "stream",
          "text": [
            "TfidfWord2Vec test accuracy:-  0.5275\n",
            "F1 score:-  0.6686535764375877\n",
            "Training accuracy:-  0.5666875\n",
            "CPU times: user 1min 5s, sys: 180 ms, total: 1min 5s\n",
            "Wall time: 1min 5s\n"
          ],
          "name": "stdout"
        }
      ]
    },
    {
      "metadata": {
        "id": "hKcDd5Vi6XEx",
        "colab_type": "text"
      },
      "cell_type": "markdown",
      "source": [
        "### Confusion Matrix"
      ]
    },
    {
      "metadata": {
        "id": "aS55ySJS6aLg",
        "colab_type": "code",
        "outputId": "32c1e885-43f9-4742-83ca-2eb622391432",
        "colab": {
          "base_uri": "https://localhost:8080/",
          "height": 415
        }
      },
      "cell_type": "code",
      "source": [
        "cm = confusion_matrix(y_test,y_pred)\n",
        "print(\"Confusion Matrix:- \\n\",cm)\n",
        "sns.heatmap(cm,annot = True)"
      ],
      "execution_count": 0,
      "outputs": [
        {
          "output_type": "stream",
          "text": [
            "Confusion Matrix:- \n",
            " [[ 203  238]\n",
            " [1652 1907]]\n"
          ],
          "name": "stdout"
        },
        {
          "output_type": "execute_result",
          "data": {
            "text/plain": [
              "<matplotlib.axes._subplots.AxesSubplot at 0x7ff33e04e550>"
            ]
          },
          "metadata": {
            "tags": []
          },
          "execution_count": 18
        },
        {
          "output_type": "display_data",
          "data": {
            "image/png": "[encoded data removed]",
            "text/plain": [
              "<matplotlib.figure.Figure at 0x7ff3407fceb8>"
            ]
          },
          "metadata": {
            "tags": []
          }
        }
      ]
    },
    {
      "metadata": {
        "id": "Pz9zTfb1MPCH",
        "colab_type": "text"
      },
      "cell_type": "markdown",
      "source": [
        "### Linear SVM"
      ]
    },
    {
      "metadata": {
        "id": "4VD29-HQilzd",
        "colab_type": "text"
      },
      "cell_type": "markdown",
      "source": [
        "### TFidf Word2Vec and Standardization"
      ]
    },
    {
      "metadata": {
        "id": "-BZA1hHTiq7R",
        "colab_type": "code",
        "outputId": "a6440dd2-1507-4802-9b1d-8937ab445e2f",
        "colab": {
          "base_uri": "https://localhost:8080/",
          "height": 68
        }
      },
      "cell_type": "code",
      "source": [
        "#implementing word2vec\n",
        "from gensim.models import Word2Vec\n",
        "sent_train = sent_list(x_train_1L)\n",
        "w2v = Word2Vec(sent_train,size=50,min_count=2,workers=4)\n",
        "\n",
        "#Creating average word2vec training data\n",
        "tfidfw2v_train = np.array(tfidfw2v(sent_train))\n",
        "print(\"Shape of avg word2vec train data:- \",tfidfw2v_train.shape)\n",
        "\n",
        "#Standardizing the data\n",
        "from sklearn.preprocessing import StandardScaler\n",
        "sc = StandardScaler()\n",
        "tfidfw2v_train_st = sc.fit_transform(tfidfw2v_train)"
      ],
      "execution_count": 91,
      "outputs": [
        {
          "output_type": "stream",
          "text": [
            "100%|██████████| 80000/80000 [00:00<00:00, 83104.19it/s]\n",
            "100%|██████████| 80000/80000 [00:31<00:00, 2530.58it/s]\n"
          ],
          "name": "stderr"
        },
        {
          "output_type": "stream",
          "text": [
            "Shape of avg word2vec train data:-  (80000, 50)\n"
          ],
          "name": "stdout"
        }
      ]
    },
    {
      "metadata": {
        "id": "71SavBm7MbfA",
        "colab_type": "text"
      },
      "cell_type": "markdown",
      "source": [
        "### Parameter tuning using RandomizedSearchCV"
      ]
    },
    {
      "metadata": {
        "id": "W2XhGmF5Mgax",
        "colab_type": "code",
        "colab": {
          "base_uri": "https://localhost:8080/",
          "height": 85
        },
        "outputId": "1db5cb43-9957-426f-b05f-a811d30e748c"
      },
      "cell_type": "code",
      "source": [
        "%%time\n",
        "from sklearn.model_selection import RandomizedSearchCV\n",
        "from sklearn.linear_model import SGDClassifier\n",
        "classifier = SGDClassifier(loss='hinge',class_weight='balanced')\n",
        "param_grid = {'alpha':np.random.uniform(10**-4,10**3,100)}\n",
        "rs = RandomizedSearchCV(classifier,param_grid,cv = 5,scoring = 'roc_auc',n_jobs=-1)\n",
        "rs.fit(tfidfw2v_train_st,y_train_1L)\n",
        "print(\"Best parameter:- \",rs.best_params_)\n",
        "print(\"Best score:- \",rs.best_score_)"
      ],
      "execution_count": 95,
      "outputs": [
        {
          "output_type": "stream",
          "text": [
            "Best parameter:-  {'alpha': 42.866008540189036}\n",
            "Best score:-  0.49107703460109003\n",
            "CPU times: user 537 ms, sys: 49.8 ms, total: 587 ms\n",
            "Wall time: 9.28 s\n"
          ],
          "name": "stdout"
        }
      ]
    },
    {
      "metadata": {
        "id": "do6SE1eEjI4C",
        "colab_type": "text"
      },
      "cell_type": "markdown",
      "source": [
        "### Training and testing the linear SVM classifier"
      ]
    },
    {
      "metadata": {
        "id": "W8854w7NjNsw",
        "colab_type": "code",
        "outputId": "f470f374-1b29-4685-cbe8-5cfe972677d0",
        "colab": {
          "base_uri": "https://localhost:8080/",
          "height": 153
        }
      },
      "cell_type": "code",
      "source": [
        "%%time\n",
        "from sklearn.linear_model import SGDClassifier\n",
        "classifier = SGDClassifier(loss = 'hinge',class_weight='balanced',alpha=0.5)\n",
        "classifier.fit(tfidfw2v_train_st,y_train_1L)\n",
        "sent_test = sent_list(x_test_1L)\n",
        "tfidfw2v_test = np.array(tfidfw2v(sent_test))\n",
        "tfidfw2v_test_st = sc.transform(tfidfw2v_test)   # Standardizing the test data\n",
        "y_pred = classifier.predict(tfidfw2v_test_st)\n",
        "print(\"\\nTfidf word2vec test accuracy:- \",accuracy_score(y_test_1L,y_pred))\n",
        "print(\"F1 score:- \",f1_score(y_test_1L,y_pred))\n",
        "print(\"Training accuracy:- \",accuracy_score(y_train_1L,classifier.predict(tfidfw2v_train_st)))"
      ],
      "execution_count": 107,
      "outputs": [
        {
          "output_type": "stream",
          "text": [
            "100%|██████████| 20000/20000 [00:00<00:00, 129176.34it/s]\n",
            "100%|██████████| 20000/20000 [00:07<00:00, 2789.96it/s]"
          ],
          "name": "stderr"
        },
        {
          "output_type": "stream",
          "text": [
            "\n",
            "Tfidf word2vec test accuracy:-  0.85275\n",
            "F1 score:-  0.9203386621223186\n",
            "Training accuracy:-  0.86585\n",
            "CPU times: user 7.68 s, sys: 467 ms, total: 8.15 s\n",
            "Wall time: 7.62 s\n"
          ],
          "name": "stdout"
        },
        {
          "output_type": "stream",
          "text": [
            "\n"
          ],
          "name": "stderr"
        }
      ]
    },
    {
      "metadata": {
        "id": "nQOzhij2jmQ_",
        "colab_type": "text"
      },
      "cell_type": "markdown",
      "source": [
        "### Confusion Matrix"
      ]
    },
    {
      "metadata": {
        "id": "yb3qyqnFjoup",
        "colab_type": "code",
        "outputId": "cf14b2a9-1b31-4a4e-ffa2-05afa8d61366",
        "colab": {
          "base_uri": "https://localhost:8080/",
          "height": 415
        }
      },
      "cell_type": "code",
      "source": [
        "cm = confusion_matrix(y_test_1L,y_pred)\n",
        "print(\"Confusion Matrix:- \\n\",cm)\n",
        "sns.heatmap(cm,annot = True)"
      ],
      "execution_count": 108,
      "outputs": [
        {
          "output_type": "stream",
          "text": [
            "Confusion Matrix:- \n",
            " [[   43  2632]\n",
            " [  313 17012]]\n"
          ],
          "name": "stdout"
        },
        {
          "output_type": "execute_result",
          "data": {
            "text/plain": [
              "<matplotlib.axes._subplots.AxesSubplot at 0x7f419bbbf908>"
            ]
          },
          "metadata": {
            "tags": []
          },
          "execution_count": 108
        },
        {
          "output_type": "display_data",
          "data": {
            "image/png": "[encoded data removed]",
            "text/plain": [
              "<matplotlib.figure.Figure at 0x7f419bc09518>"
            ]
          },
          "metadata": {
            "tags": []
          }
        }
      ]
    },
    {
      "metadata": {
        "id": "P-2eW6UoHGRm",
        "colab_type": "text"
      },
      "cell_type": "markdown",
      "source": [
        "## Results of RBF Kernel:-\n",
        "\n",
        "| Model | Hyperparameter(C,gamma) | Train Accuracy | Test Accuracy |\n",
        "| - | - | - | - |\n",
        "| Bag of Words | C=100, gamma=0.01 | 99.9 | 88.2 |\n",
        "|Tfidf | C=1, gamma=1 | 99.9 | 89 |\n",
        "| Avg Word2Vec | C=100, gamma=0.01 | 83 | 66.5 |\n",
        "| Tfidf Word2Vec | C=1, gamma=0.001 | 56.6 | 52.7 |"
      ]
    },
    {
      "metadata": {
        "id": "1nndGoQOVutC",
        "colab_type": "text"
      },
      "cell_type": "markdown",
      "source": [
        "## Results of Linear Kernel:-\n",
        "\n",
        "| Model | Hyperparameter(alpha) | Train Accuracy | Test Accuracy |\n",
        "| - | - | - | - |\n",
        "| Bag of Words |  334.4 | 84 | 74.8 |\n",
        "|Tfidf | 291.8 | 80 | 68.2 |\n",
        "| Avg Word2Vec | 0.9 | 75.9 | 74.9 |\n",
        "| Tfidf Word2Vec | 0.5 | 86.5 | 85.2 |"
      ]
    }
  ]
}